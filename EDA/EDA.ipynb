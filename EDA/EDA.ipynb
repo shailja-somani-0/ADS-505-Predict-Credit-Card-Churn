{
 "cells": [
  {
   "cell_type": "markdown",
   "metadata": {},
   "source": [
    "### Importing Packages"
   ]
  },
  {
   "cell_type": "code",
   "execution_count": 36,
   "metadata": {},
   "outputs": [],
   "source": [
    "import pandas as pd\n",
    "import numpy as np\n",
    "\n",
    "import matplotlib.pylab as plt\n",
    "import plotly.express as px\n",
    "\n",
    "# Turn off warning messages\n",
    "pd.options.mode.chained_assignment = None # default = 'warn'"
   ]
  },
  {
   "cell_type": "markdown",
   "metadata": {},
   "source": [
    "### Loading Data "
   ]
  },
  {
   "cell_type": "code",
   "execution_count": 37,
   "metadata": {},
   "outputs": [
    {
     "name": "stdout",
     "output_type": "stream",
     "text": [
      "The given dataset contains 10127 rows and 23 columns\n",
      "\n",
      "Column names in the dataset: \n",
      "Index(['CLIENTNUM', 'Attrition_Flag', 'Customer_Age', 'Gender',\n",
      "       'Dependent_count', 'Education_Level', 'Marital_Status',\n",
      "       'Income_Category', 'Card_Category', 'Months_on_book',\n",
      "       'Total_Relationship_Count', 'Months_Inactive_12_mon',\n",
      "       'Contacts_Count_12_mon', 'Credit_Limit', 'Total_Revolving_Bal',\n",
      "       'Avg_Open_To_Buy', 'Total_Amt_Chng_Q4_Q1', 'Total_Trans_Amt',\n",
      "       'Total_Trans_Ct', 'Total_Ct_Chng_Q4_Q1', 'Avg_Utilization_Ratio',\n",
      "       'Naive_Bayes_Classifier_Attrition_Flag_Card_Category_Contacts_Count_12_mon_Dependent_count_Education_Level_Months_Inactive_12_mon_1',\n",
      "       'Naive_Bayes_Classifier_Attrition_Flag_Card_Category_Contacts_Count_12_mon_Dependent_count_Education_Level_Months_Inactive_12_mon_2'],\n",
      "      dtype='object')\n"
     ]
    },
    {
     "data": {
      "text/html": [
       "<div>\n",
       "<style scoped>\n",
       "    .dataframe tbody tr th:only-of-type {\n",
       "        vertical-align: middle;\n",
       "    }\n",
       "\n",
       "    .dataframe tbody tr th {\n",
       "        vertical-align: top;\n",
       "    }\n",
       "\n",
       "    .dataframe thead th {\n",
       "        text-align: right;\n",
       "    }\n",
       "</style>\n",
       "<table border=\"1\" class=\"dataframe\">\n",
       "  <thead>\n",
       "    <tr style=\"text-align: right;\">\n",
       "      <th></th>\n",
       "      <th>CLIENTNUM</th>\n",
       "      <th>Attrition_Flag</th>\n",
       "      <th>Customer_Age</th>\n",
       "      <th>Gender</th>\n",
       "      <th>Dependent_count</th>\n",
       "      <th>Education_Level</th>\n",
       "      <th>Marital_Status</th>\n",
       "      <th>Income_Category</th>\n",
       "      <th>Card_Category</th>\n",
       "      <th>Months_on_book</th>\n",
       "      <th>...</th>\n",
       "      <th>Credit_Limit</th>\n",
       "      <th>Total_Revolving_Bal</th>\n",
       "      <th>Avg_Open_To_Buy</th>\n",
       "      <th>Total_Amt_Chng_Q4_Q1</th>\n",
       "      <th>Total_Trans_Amt</th>\n",
       "      <th>Total_Trans_Ct</th>\n",
       "      <th>Total_Ct_Chng_Q4_Q1</th>\n",
       "      <th>Avg_Utilization_Ratio</th>\n",
       "      <th>Naive_Bayes_Classifier_Attrition_Flag_Card_Category_Contacts_Count_12_mon_Dependent_count_Education_Level_Months_Inactive_12_mon_1</th>\n",
       "      <th>Naive_Bayes_Classifier_Attrition_Flag_Card_Category_Contacts_Count_12_mon_Dependent_count_Education_Level_Months_Inactive_12_mon_2</th>\n",
       "    </tr>\n",
       "  </thead>\n",
       "  <tbody>\n",
       "    <tr>\n",
       "      <th>1420</th>\n",
       "      <td>717128283</td>\n",
       "      <td>Existing Customer</td>\n",
       "      <td>40</td>\n",
       "      <td>F</td>\n",
       "      <td>3</td>\n",
       "      <td>High School</td>\n",
       "      <td>Unknown</td>\n",
       "      <td>Less than $40K</td>\n",
       "      <td>Blue</td>\n",
       "      <td>36</td>\n",
       "      <td>...</td>\n",
       "      <td>5525.0</td>\n",
       "      <td>2409</td>\n",
       "      <td>3116.0</td>\n",
       "      <td>0.929</td>\n",
       "      <td>2305</td>\n",
       "      <td>33</td>\n",
       "      <td>0.941</td>\n",
       "      <td>0.436</td>\n",
       "      <td>0.000115</td>\n",
       "      <td>0.999890</td>\n",
       "    </tr>\n",
       "    <tr>\n",
       "      <th>9092</th>\n",
       "      <td>709019283</td>\n",
       "      <td>Existing Customer</td>\n",
       "      <td>47</td>\n",
       "      <td>M</td>\n",
       "      <td>1</td>\n",
       "      <td>College</td>\n",
       "      <td>Married</td>\n",
       "      <td>$80K - $120K</td>\n",
       "      <td>Blue</td>\n",
       "      <td>39</td>\n",
       "      <td>...</td>\n",
       "      <td>5660.0</td>\n",
       "      <td>2210</td>\n",
       "      <td>3450.0</td>\n",
       "      <td>0.583</td>\n",
       "      <td>7867</td>\n",
       "      <td>100</td>\n",
       "      <td>0.695</td>\n",
       "      <td>0.390</td>\n",
       "      <td>0.000099</td>\n",
       "      <td>0.999900</td>\n",
       "    </tr>\n",
       "    <tr>\n",
       "      <th>7153</th>\n",
       "      <td>708375858</td>\n",
       "      <td>Existing Customer</td>\n",
       "      <td>47</td>\n",
       "      <td>F</td>\n",
       "      <td>4</td>\n",
       "      <td>High School</td>\n",
       "      <td>Divorced</td>\n",
       "      <td>Less than $40K</td>\n",
       "      <td>Blue</td>\n",
       "      <td>36</td>\n",
       "      <td>...</td>\n",
       "      <td>2776.0</td>\n",
       "      <td>1341</td>\n",
       "      <td>1435.0</td>\n",
       "      <td>0.744</td>\n",
       "      <td>4318</td>\n",
       "      <td>68</td>\n",
       "      <td>0.943</td>\n",
       "      <td>0.483</td>\n",
       "      <td>0.000222</td>\n",
       "      <td>0.999780</td>\n",
       "    </tr>\n",
       "    <tr>\n",
       "      <th>9118</th>\n",
       "      <td>781171908</td>\n",
       "      <td>Existing Customer</td>\n",
       "      <td>45</td>\n",
       "      <td>M</td>\n",
       "      <td>3</td>\n",
       "      <td>Graduate</td>\n",
       "      <td>Single</td>\n",
       "      <td>$40K - $60K</td>\n",
       "      <td>Blue</td>\n",
       "      <td>38</td>\n",
       "      <td>...</td>\n",
       "      <td>3751.0</td>\n",
       "      <td>1869</td>\n",
       "      <td>1882.0</td>\n",
       "      <td>0.926</td>\n",
       "      <td>9497</td>\n",
       "      <td>106</td>\n",
       "      <td>0.710</td>\n",
       "      <td>0.498</td>\n",
       "      <td>0.000113</td>\n",
       "      <td>0.999890</td>\n",
       "    </tr>\n",
       "    <tr>\n",
       "      <th>2482</th>\n",
       "      <td>715107033</td>\n",
       "      <td>Existing Customer</td>\n",
       "      <td>33</td>\n",
       "      <td>F</td>\n",
       "      <td>1</td>\n",
       "      <td>Graduate</td>\n",
       "      <td>Single</td>\n",
       "      <td>Less than $40K</td>\n",
       "      <td>Blue</td>\n",
       "      <td>36</td>\n",
       "      <td>...</td>\n",
       "      <td>6551.0</td>\n",
       "      <td>1440</td>\n",
       "      <td>5111.0</td>\n",
       "      <td>0.629</td>\n",
       "      <td>2429</td>\n",
       "      <td>77</td>\n",
       "      <td>0.453</td>\n",
       "      <td>0.220</td>\n",
       "      <td>0.000307</td>\n",
       "      <td>0.999690</td>\n",
       "    </tr>\n",
       "    <tr>\n",
       "      <th>8742</th>\n",
       "      <td>708535158</td>\n",
       "      <td>Existing Customer</td>\n",
       "      <td>39</td>\n",
       "      <td>M</td>\n",
       "      <td>2</td>\n",
       "      <td>Post-Graduate</td>\n",
       "      <td>Unknown</td>\n",
       "      <td>$80K - $120K</td>\n",
       "      <td>Blue</td>\n",
       "      <td>29</td>\n",
       "      <td>...</td>\n",
       "      <td>9959.0</td>\n",
       "      <td>1501</td>\n",
       "      <td>8458.0</td>\n",
       "      <td>0.822</td>\n",
       "      <td>8505</td>\n",
       "      <td>86</td>\n",
       "      <td>0.536</td>\n",
       "      <td>0.151</td>\n",
       "      <td>0.000109</td>\n",
       "      <td>0.999890</td>\n",
       "    </tr>\n",
       "    <tr>\n",
       "      <th>9852</th>\n",
       "      <td>708996708</td>\n",
       "      <td>Existing Customer</td>\n",
       "      <td>55</td>\n",
       "      <td>M</td>\n",
       "      <td>1</td>\n",
       "      <td>Graduate</td>\n",
       "      <td>Single</td>\n",
       "      <td>$80K - $120K</td>\n",
       "      <td>Blue</td>\n",
       "      <td>46</td>\n",
       "      <td>...</td>\n",
       "      <td>21032.0</td>\n",
       "      <td>1409</td>\n",
       "      <td>19623.0</td>\n",
       "      <td>0.767</td>\n",
       "      <td>15584</td>\n",
       "      <td>105</td>\n",
       "      <td>0.810</td>\n",
       "      <td>0.067</td>\n",
       "      <td>0.000031</td>\n",
       "      <td>0.999970</td>\n",
       "    </tr>\n",
       "    <tr>\n",
       "      <th>8495</th>\n",
       "      <td>712132383</td>\n",
       "      <td>Existing Customer</td>\n",
       "      <td>44</td>\n",
       "      <td>M</td>\n",
       "      <td>4</td>\n",
       "      <td>College</td>\n",
       "      <td>Single</td>\n",
       "      <td>$80K - $120K</td>\n",
       "      <td>Blue</td>\n",
       "      <td>34</td>\n",
       "      <td>...</td>\n",
       "      <td>1876.0</td>\n",
       "      <td>861</td>\n",
       "      <td>1015.0</td>\n",
       "      <td>0.839</td>\n",
       "      <td>5056</td>\n",
       "      <td>82</td>\n",
       "      <td>0.547</td>\n",
       "      <td>0.459</td>\n",
       "      <td>0.000195</td>\n",
       "      <td>0.999800</td>\n",
       "    </tr>\n",
       "    <tr>\n",
       "      <th>7605</th>\n",
       "      <td>716751858</td>\n",
       "      <td>Attrited Customer</td>\n",
       "      <td>34</td>\n",
       "      <td>F</td>\n",
       "      <td>1</td>\n",
       "      <td>Unknown</td>\n",
       "      <td>Married</td>\n",
       "      <td>Less than $40K</td>\n",
       "      <td>Blue</td>\n",
       "      <td>36</td>\n",
       "      <td>...</td>\n",
       "      <td>2401.0</td>\n",
       "      <td>496</td>\n",
       "      <td>1905.0</td>\n",
       "      <td>0.647</td>\n",
       "      <td>2597</td>\n",
       "      <td>40</td>\n",
       "      <td>0.379</td>\n",
       "      <td>0.207</td>\n",
       "      <td>0.996810</td>\n",
       "      <td>0.003193</td>\n",
       "    </tr>\n",
       "    <tr>\n",
       "      <th>4018</th>\n",
       "      <td>811095483</td>\n",
       "      <td>Existing Customer</td>\n",
       "      <td>48</td>\n",
       "      <td>F</td>\n",
       "      <td>4</td>\n",
       "      <td>Graduate</td>\n",
       "      <td>Married</td>\n",
       "      <td>$40K - $60K</td>\n",
       "      <td>Silver</td>\n",
       "      <td>43</td>\n",
       "      <td>...</td>\n",
       "      <td>21163.0</td>\n",
       "      <td>2517</td>\n",
       "      <td>18646.0</td>\n",
       "      <td>0.569</td>\n",
       "      <td>1732</td>\n",
       "      <td>35</td>\n",
       "      <td>0.458</td>\n",
       "      <td>0.119</td>\n",
       "      <td>0.000019</td>\n",
       "      <td>0.999980</td>\n",
       "    </tr>\n",
       "  </tbody>\n",
       "</table>\n",
       "<p>10 rows × 23 columns</p>\n",
       "</div>"
      ],
      "text/plain": [
       "      CLIENTNUM     Attrition_Flag  Customer_Age Gender  Dependent_count  \\\n",
       "1420  717128283  Existing Customer            40      F                3   \n",
       "9092  709019283  Existing Customer            47      M                1   \n",
       "7153  708375858  Existing Customer            47      F                4   \n",
       "9118  781171908  Existing Customer            45      M                3   \n",
       "2482  715107033  Existing Customer            33      F                1   \n",
       "8742  708535158  Existing Customer            39      M                2   \n",
       "9852  708996708  Existing Customer            55      M                1   \n",
       "8495  712132383  Existing Customer            44      M                4   \n",
       "7605  716751858  Attrited Customer            34      F                1   \n",
       "4018  811095483  Existing Customer            48      F                4   \n",
       "\n",
       "     Education_Level Marital_Status Income_Category Card_Category  \\\n",
       "1420     High School        Unknown  Less than $40K          Blue   \n",
       "9092         College        Married    $80K - $120K          Blue   \n",
       "7153     High School       Divorced  Less than $40K          Blue   \n",
       "9118        Graduate         Single     $40K - $60K          Blue   \n",
       "2482        Graduate         Single  Less than $40K          Blue   \n",
       "8742   Post-Graduate        Unknown    $80K - $120K          Blue   \n",
       "9852        Graduate         Single    $80K - $120K          Blue   \n",
       "8495         College         Single    $80K - $120K          Blue   \n",
       "7605         Unknown        Married  Less than $40K          Blue   \n",
       "4018        Graduate        Married     $40K - $60K        Silver   \n",
       "\n",
       "      Months_on_book  ...  Credit_Limit  Total_Revolving_Bal  Avg_Open_To_Buy  \\\n",
       "1420              36  ...        5525.0                 2409           3116.0   \n",
       "9092              39  ...        5660.0                 2210           3450.0   \n",
       "7153              36  ...        2776.0                 1341           1435.0   \n",
       "9118              38  ...        3751.0                 1869           1882.0   \n",
       "2482              36  ...        6551.0                 1440           5111.0   \n",
       "8742              29  ...        9959.0                 1501           8458.0   \n",
       "9852              46  ...       21032.0                 1409          19623.0   \n",
       "8495              34  ...        1876.0                  861           1015.0   \n",
       "7605              36  ...        2401.0                  496           1905.0   \n",
       "4018              43  ...       21163.0                 2517          18646.0   \n",
       "\n",
       "      Total_Amt_Chng_Q4_Q1  Total_Trans_Amt  Total_Trans_Ct  \\\n",
       "1420                 0.929             2305              33   \n",
       "9092                 0.583             7867             100   \n",
       "7153                 0.744             4318              68   \n",
       "9118                 0.926             9497             106   \n",
       "2482                 0.629             2429              77   \n",
       "8742                 0.822             8505              86   \n",
       "9852                 0.767            15584             105   \n",
       "8495                 0.839             5056              82   \n",
       "7605                 0.647             2597              40   \n",
       "4018                 0.569             1732              35   \n",
       "\n",
       "      Total_Ct_Chng_Q4_Q1  Avg_Utilization_Ratio  \\\n",
       "1420                0.941                  0.436   \n",
       "9092                0.695                  0.390   \n",
       "7153                0.943                  0.483   \n",
       "9118                0.710                  0.498   \n",
       "2482                0.453                  0.220   \n",
       "8742                0.536                  0.151   \n",
       "9852                0.810                  0.067   \n",
       "8495                0.547                  0.459   \n",
       "7605                0.379                  0.207   \n",
       "4018                0.458                  0.119   \n",
       "\n",
       "      Naive_Bayes_Classifier_Attrition_Flag_Card_Category_Contacts_Count_12_mon_Dependent_count_Education_Level_Months_Inactive_12_mon_1  \\\n",
       "1420                                           0.000115                                                                                    \n",
       "9092                                           0.000099                                                                                    \n",
       "7153                                           0.000222                                                                                    \n",
       "9118                                           0.000113                                                                                    \n",
       "2482                                           0.000307                                                                                    \n",
       "8742                                           0.000109                                                                                    \n",
       "9852                                           0.000031                                                                                    \n",
       "8495                                           0.000195                                                                                    \n",
       "7605                                           0.996810                                                                                    \n",
       "4018                                           0.000019                                                                                    \n",
       "\n",
       "      Naive_Bayes_Classifier_Attrition_Flag_Card_Category_Contacts_Count_12_mon_Dependent_count_Education_Level_Months_Inactive_12_mon_2  \n",
       "1420                                           0.999890                                                                                   \n",
       "9092                                           0.999900                                                                                   \n",
       "7153                                           0.999780                                                                                   \n",
       "9118                                           0.999890                                                                                   \n",
       "2482                                           0.999690                                                                                   \n",
       "8742                                           0.999890                                                                                   \n",
       "9852                                           0.999970                                                                                   \n",
       "8495                                           0.999800                                                                                   \n",
       "7605                                           0.003193                                                                                   \n",
       "4018                                           0.999980                                                                                   \n",
       "\n",
       "[10 rows x 23 columns]"
      ]
     },
     "execution_count": 37,
     "metadata": {},
     "output_type": "execute_result"
    }
   ],
   "source": [
    "cc_cust_data = pd.read_csv('../Credit-Card-Customers/BankChurners.csv')\n",
    "print(f\"The given dataset contains {cc_cust_data.shape[0]} rows and {cc_cust_data.shape[1]} columns\")\n",
    "print(f\"\\nColumn names in the dataset: \\n{cc_cust_data.columns}\")\n",
    "cc_cust_data.sample(10)\n"
   ]
  },
  {
   "cell_type": "markdown",
   "metadata": {},
   "source": [
    "### Removing Extra Columns"
   ]
  },
  {
   "cell_type": "code",
   "execution_count": 38,
   "metadata": {},
   "outputs": [
    {
     "name": "stdout",
     "output_type": "stream",
     "text": [
      "                                                       0         1      \\\n",
      "Naive_Bayes_Classifier_Attrition_Flag_Card_Cate...  0.999910  0.999940   \n",
      "Naive_Bayes_Classifier_Attrition_Flag_Card_Cate...  0.000093  0.000057   \n",
      "\n",
      "                                                       2         3      \\\n",
      "Naive_Bayes_Classifier_Attrition_Flag_Card_Cate...  0.999980  0.999870   \n",
      "Naive_Bayes_Classifier_Attrition_Flag_Card_Cate...  0.000021  0.000134   \n",
      "\n",
      "                                                       4         5      \\\n",
      "Naive_Bayes_Classifier_Attrition_Flag_Card_Cate...  0.999980  0.999940   \n",
      "Naive_Bayes_Classifier_Attrition_Flag_Card_Cate...  0.000022  0.000055   \n",
      "\n",
      "                                                       6         7      \\\n",
      "Naive_Bayes_Classifier_Attrition_Flag_Card_Cate...  0.999880  0.999910   \n",
      "Naive_Bayes_Classifier_Attrition_Flag_Card_Cate...  0.000123  0.000086   \n",
      "\n",
      "                                                       8         9      ...  \\\n",
      "Naive_Bayes_Classifier_Attrition_Flag_Card_Cate...  0.999960  0.999700  ...   \n",
      "Naive_Bayes_Classifier_Attrition_Flag_Card_Cate...  0.000045  0.000303  ...   \n",
      "\n",
      "                                                       10117     10118  \\\n",
      "Naive_Bayes_Classifier_Attrition_Flag_Card_Cate...  0.999480  0.001874   \n",
      "Naive_Bayes_Classifier_Attrition_Flag_Card_Cate...  0.000516  0.998130   \n",
      "\n",
      "                                                       10119     10120  \\\n",
      "Naive_Bayes_Classifier_Attrition_Flag_Card_Cate...  0.003088  0.999960   \n",
      "Naive_Bayes_Classifier_Attrition_Flag_Card_Cate...  0.996910  0.000038   \n",
      "\n",
      "                                                       10121     10122  \\\n",
      "Naive_Bayes_Classifier_Attrition_Flag_Card_Cate...  0.999850  0.999810   \n",
      "Naive_Bayes_Classifier_Attrition_Flag_Card_Cate...  0.000148  0.000191   \n",
      "\n",
      "                                                       10123     10124  \\\n",
      "Naive_Bayes_Classifier_Attrition_Flag_Card_Cate...  0.004729  0.002118   \n",
      "Naive_Bayes_Classifier_Attrition_Flag_Card_Cate...  0.995270  0.997880   \n",
      "\n",
      "                                                       10125     10126  \n",
      "Naive_Bayes_Classifier_Attrition_Flag_Card_Cate...  0.003294  0.003377  \n",
      "Naive_Bayes_Classifier_Attrition_Flag_Card_Cate...  0.996710  0.996620  \n",
      "\n",
      "[2 rows x 10127 columns]\n"
     ]
    }
   ],
   "source": [
    "columns = ['Naive_Bayes_Classifier_Attrition_Flag_Card_Category_Contacts_Count_12_mon_Dependent_count_Education_Level_Months_Inactive_12_mon_2','Naive_Bayes_Classifier_Attrition_Flag_Card_Category_Contacts_Count_12_mon_Dependent_count_Education_Level_Months_Inactive_12_mon_1']\n",
    "print(cc_cust_data[columns].T)"
   ]
  },
  {
   "cell_type": "code",
   "execution_count": 39,
   "metadata": {},
   "outputs": [
    {
     "data": {
      "text/html": [
       "<div>\n",
       "<style scoped>\n",
       "    .dataframe tbody tr th:only-of-type {\n",
       "        vertical-align: middle;\n",
       "    }\n",
       "\n",
       "    .dataframe tbody tr th {\n",
       "        vertical-align: top;\n",
       "    }\n",
       "\n",
       "    .dataframe thead th {\n",
       "        text-align: right;\n",
       "    }\n",
       "</style>\n",
       "<table border=\"1\" class=\"dataframe\">\n",
       "  <thead>\n",
       "    <tr style=\"text-align: right;\">\n",
       "      <th></th>\n",
       "      <th>CLIENTNUM</th>\n",
       "      <th>Attrition_Flag</th>\n",
       "      <th>Customer_Age</th>\n",
       "      <th>Gender</th>\n",
       "      <th>Dependent_count</th>\n",
       "      <th>Education_Level</th>\n",
       "      <th>Marital_Status</th>\n",
       "      <th>Income_Category</th>\n",
       "      <th>Card_Category</th>\n",
       "      <th>Months_on_book</th>\n",
       "      <th>...</th>\n",
       "      <th>Months_Inactive_12_mon</th>\n",
       "      <th>Contacts_Count_12_mon</th>\n",
       "      <th>Credit_Limit</th>\n",
       "      <th>Total_Revolving_Bal</th>\n",
       "      <th>Avg_Open_To_Buy</th>\n",
       "      <th>Total_Amt_Chng_Q4_Q1</th>\n",
       "      <th>Total_Trans_Amt</th>\n",
       "      <th>Total_Trans_Ct</th>\n",
       "      <th>Total_Ct_Chng_Q4_Q1</th>\n",
       "      <th>Avg_Utilization_Ratio</th>\n",
       "    </tr>\n",
       "  </thead>\n",
       "  <tbody>\n",
       "    <tr>\n",
       "      <th>354</th>\n",
       "      <td>781391058</td>\n",
       "      <td>Existing Customer</td>\n",
       "      <td>55</td>\n",
       "      <td>M</td>\n",
       "      <td>1</td>\n",
       "      <td>Uneducated</td>\n",
       "      <td>Single</td>\n",
       "      <td>$40K - $60K</td>\n",
       "      <td>Blue</td>\n",
       "      <td>49</td>\n",
       "      <td>...</td>\n",
       "      <td>3</td>\n",
       "      <td>2</td>\n",
       "      <td>1443.0</td>\n",
       "      <td>1375</td>\n",
       "      <td>68.0</td>\n",
       "      <td>0.683</td>\n",
       "      <td>1991</td>\n",
       "      <td>38</td>\n",
       "      <td>0.583</td>\n",
       "      <td>0.953</td>\n",
       "    </tr>\n",
       "    <tr>\n",
       "      <th>3853</th>\n",
       "      <td>721506708</td>\n",
       "      <td>Existing Customer</td>\n",
       "      <td>54</td>\n",
       "      <td>M</td>\n",
       "      <td>1</td>\n",
       "      <td>Uneducated</td>\n",
       "      <td>Unknown</td>\n",
       "      <td>$80K - $120K</td>\n",
       "      <td>Blue</td>\n",
       "      <td>46</td>\n",
       "      <td>...</td>\n",
       "      <td>1</td>\n",
       "      <td>4</td>\n",
       "      <td>6249.0</td>\n",
       "      <td>2517</td>\n",
       "      <td>3732.0</td>\n",
       "      <td>0.751</td>\n",
       "      <td>3988</td>\n",
       "      <td>68</td>\n",
       "      <td>0.789</td>\n",
       "      <td>0.403</td>\n",
       "    </tr>\n",
       "    <tr>\n",
       "      <th>1412</th>\n",
       "      <td>779138883</td>\n",
       "      <td>Existing Customer</td>\n",
       "      <td>50</td>\n",
       "      <td>M</td>\n",
       "      <td>1</td>\n",
       "      <td>Graduate</td>\n",
       "      <td>Married</td>\n",
       "      <td>$60K - $80K</td>\n",
       "      <td>Blue</td>\n",
       "      <td>34</td>\n",
       "      <td>...</td>\n",
       "      <td>3</td>\n",
       "      <td>4</td>\n",
       "      <td>4702.0</td>\n",
       "      <td>0</td>\n",
       "      <td>4702.0</td>\n",
       "      <td>0.578</td>\n",
       "      <td>1673</td>\n",
       "      <td>44</td>\n",
       "      <td>0.257</td>\n",
       "      <td>0.000</td>\n",
       "    </tr>\n",
       "    <tr>\n",
       "      <th>4806</th>\n",
       "      <td>797169633</td>\n",
       "      <td>Existing Customer</td>\n",
       "      <td>41</td>\n",
       "      <td>M</td>\n",
       "      <td>4</td>\n",
       "      <td>Graduate</td>\n",
       "      <td>Single</td>\n",
       "      <td>$120K +</td>\n",
       "      <td>Blue</td>\n",
       "      <td>35</td>\n",
       "      <td>...</td>\n",
       "      <td>3</td>\n",
       "      <td>3</td>\n",
       "      <td>34516.0</td>\n",
       "      <td>825</td>\n",
       "      <td>33691.0</td>\n",
       "      <td>0.982</td>\n",
       "      <td>3127</td>\n",
       "      <td>51</td>\n",
       "      <td>0.962</td>\n",
       "      <td>0.024</td>\n",
       "    </tr>\n",
       "    <tr>\n",
       "      <th>8651</th>\n",
       "      <td>720712533</td>\n",
       "      <td>Existing Customer</td>\n",
       "      <td>51</td>\n",
       "      <td>M</td>\n",
       "      <td>3</td>\n",
       "      <td>Graduate</td>\n",
       "      <td>Married</td>\n",
       "      <td>$80K - $120K</td>\n",
       "      <td>Gold</td>\n",
       "      <td>36</td>\n",
       "      <td>...</td>\n",
       "      <td>1</td>\n",
       "      <td>3</td>\n",
       "      <td>34516.0</td>\n",
       "      <td>761</td>\n",
       "      <td>33755.0</td>\n",
       "      <td>0.716</td>\n",
       "      <td>7499</td>\n",
       "      <td>88</td>\n",
       "      <td>0.571</td>\n",
       "      <td>0.022</td>\n",
       "    </tr>\n",
       "    <tr>\n",
       "      <th>1895</th>\n",
       "      <td>803132733</td>\n",
       "      <td>Existing Customer</td>\n",
       "      <td>54</td>\n",
       "      <td>F</td>\n",
       "      <td>1</td>\n",
       "      <td>Graduate</td>\n",
       "      <td>Married</td>\n",
       "      <td>Less than $40K</td>\n",
       "      <td>Blue</td>\n",
       "      <td>48</td>\n",
       "      <td>...</td>\n",
       "      <td>3</td>\n",
       "      <td>2</td>\n",
       "      <td>6814.0</td>\n",
       "      <td>1570</td>\n",
       "      <td>5244.0</td>\n",
       "      <td>0.653</td>\n",
       "      <td>1339</td>\n",
       "      <td>30</td>\n",
       "      <td>0.364</td>\n",
       "      <td>0.230</td>\n",
       "    </tr>\n",
       "    <tr>\n",
       "      <th>4273</th>\n",
       "      <td>805313808</td>\n",
       "      <td>Attrited Customer</td>\n",
       "      <td>52</td>\n",
       "      <td>F</td>\n",
       "      <td>3</td>\n",
       "      <td>High School</td>\n",
       "      <td>Married</td>\n",
       "      <td>$40K - $60K</td>\n",
       "      <td>Blue</td>\n",
       "      <td>47</td>\n",
       "      <td>...</td>\n",
       "      <td>2</td>\n",
       "      <td>3</td>\n",
       "      <td>8018.0</td>\n",
       "      <td>134</td>\n",
       "      <td>7884.0</td>\n",
       "      <td>0.717</td>\n",
       "      <td>2409</td>\n",
       "      <td>38</td>\n",
       "      <td>0.310</td>\n",
       "      <td>0.017</td>\n",
       "    </tr>\n",
       "    <tr>\n",
       "      <th>5834</th>\n",
       "      <td>716246733</td>\n",
       "      <td>Existing Customer</td>\n",
       "      <td>57</td>\n",
       "      <td>F</td>\n",
       "      <td>2</td>\n",
       "      <td>College</td>\n",
       "      <td>Single</td>\n",
       "      <td>Less than $40K</td>\n",
       "      <td>Blue</td>\n",
       "      <td>49</td>\n",
       "      <td>...</td>\n",
       "      <td>2</td>\n",
       "      <td>2</td>\n",
       "      <td>1857.0</td>\n",
       "      <td>1528</td>\n",
       "      <td>329.0</td>\n",
       "      <td>0.698</td>\n",
       "      <td>4681</td>\n",
       "      <td>71</td>\n",
       "      <td>0.868</td>\n",
       "      <td>0.823</td>\n",
       "    </tr>\n",
       "    <tr>\n",
       "      <th>5314</th>\n",
       "      <td>717995958</td>\n",
       "      <td>Existing Customer</td>\n",
       "      <td>47</td>\n",
       "      <td>F</td>\n",
       "      <td>3</td>\n",
       "      <td>Unknown</td>\n",
       "      <td>Married</td>\n",
       "      <td>Unknown</td>\n",
       "      <td>Blue</td>\n",
       "      <td>38</td>\n",
       "      <td>...</td>\n",
       "      <td>1</td>\n",
       "      <td>4</td>\n",
       "      <td>1634.0</td>\n",
       "      <td>1463</td>\n",
       "      <td>171.0</td>\n",
       "      <td>0.873</td>\n",
       "      <td>4397</td>\n",
       "      <td>72</td>\n",
       "      <td>0.565</td>\n",
       "      <td>0.895</td>\n",
       "    </tr>\n",
       "    <tr>\n",
       "      <th>5284</th>\n",
       "      <td>720118908</td>\n",
       "      <td>Existing Customer</td>\n",
       "      <td>26</td>\n",
       "      <td>M</td>\n",
       "      <td>0</td>\n",
       "      <td>Graduate</td>\n",
       "      <td>Married</td>\n",
       "      <td>Less than $40K</td>\n",
       "      <td>Blue</td>\n",
       "      <td>36</td>\n",
       "      <td>...</td>\n",
       "      <td>2</td>\n",
       "      <td>4</td>\n",
       "      <td>9916.0</td>\n",
       "      <td>0</td>\n",
       "      <td>9916.0</td>\n",
       "      <td>0.793</td>\n",
       "      <td>3477</td>\n",
       "      <td>65</td>\n",
       "      <td>0.667</td>\n",
       "      <td>0.000</td>\n",
       "    </tr>\n",
       "  </tbody>\n",
       "</table>\n",
       "<p>10 rows × 21 columns</p>\n",
       "</div>"
      ],
      "text/plain": [
       "      CLIENTNUM     Attrition_Flag  Customer_Age Gender  Dependent_count  \\\n",
       "354   781391058  Existing Customer            55      M                1   \n",
       "3853  721506708  Existing Customer            54      M                1   \n",
       "1412  779138883  Existing Customer            50      M                1   \n",
       "4806  797169633  Existing Customer            41      M                4   \n",
       "8651  720712533  Existing Customer            51      M                3   \n",
       "1895  803132733  Existing Customer            54      F                1   \n",
       "4273  805313808  Attrited Customer            52      F                3   \n",
       "5834  716246733  Existing Customer            57      F                2   \n",
       "5314  717995958  Existing Customer            47      F                3   \n",
       "5284  720118908  Existing Customer            26      M                0   \n",
       "\n",
       "     Education_Level Marital_Status Income_Category Card_Category  \\\n",
       "354       Uneducated         Single     $40K - $60K          Blue   \n",
       "3853      Uneducated        Unknown    $80K - $120K          Blue   \n",
       "1412        Graduate        Married     $60K - $80K          Blue   \n",
       "4806        Graduate         Single         $120K +          Blue   \n",
       "8651        Graduate        Married    $80K - $120K          Gold   \n",
       "1895        Graduate        Married  Less than $40K          Blue   \n",
       "4273     High School        Married     $40K - $60K          Blue   \n",
       "5834         College         Single  Less than $40K          Blue   \n",
       "5314         Unknown        Married         Unknown          Blue   \n",
       "5284        Graduate        Married  Less than $40K          Blue   \n",
       "\n",
       "      Months_on_book  ...  Months_Inactive_12_mon  Contacts_Count_12_mon  \\\n",
       "354               49  ...                       3                      2   \n",
       "3853              46  ...                       1                      4   \n",
       "1412              34  ...                       3                      4   \n",
       "4806              35  ...                       3                      3   \n",
       "8651              36  ...                       1                      3   \n",
       "1895              48  ...                       3                      2   \n",
       "4273              47  ...                       2                      3   \n",
       "5834              49  ...                       2                      2   \n",
       "5314              38  ...                       1                      4   \n",
       "5284              36  ...                       2                      4   \n",
       "\n",
       "      Credit_Limit  Total_Revolving_Bal  Avg_Open_To_Buy  \\\n",
       "354         1443.0                 1375             68.0   \n",
       "3853        6249.0                 2517           3732.0   \n",
       "1412        4702.0                    0           4702.0   \n",
       "4806       34516.0                  825          33691.0   \n",
       "8651       34516.0                  761          33755.0   \n",
       "1895        6814.0                 1570           5244.0   \n",
       "4273        8018.0                  134           7884.0   \n",
       "5834        1857.0                 1528            329.0   \n",
       "5314        1634.0                 1463            171.0   \n",
       "5284        9916.0                    0           9916.0   \n",
       "\n",
       "      Total_Amt_Chng_Q4_Q1  Total_Trans_Amt  Total_Trans_Ct  \\\n",
       "354                  0.683             1991              38   \n",
       "3853                 0.751             3988              68   \n",
       "1412                 0.578             1673              44   \n",
       "4806                 0.982             3127              51   \n",
       "8651                 0.716             7499              88   \n",
       "1895                 0.653             1339              30   \n",
       "4273                 0.717             2409              38   \n",
       "5834                 0.698             4681              71   \n",
       "5314                 0.873             4397              72   \n",
       "5284                 0.793             3477              65   \n",
       "\n",
       "      Total_Ct_Chng_Q4_Q1  Avg_Utilization_Ratio  \n",
       "354                 0.583                  0.953  \n",
       "3853                0.789                  0.403  \n",
       "1412                0.257                  0.000  \n",
       "4806                0.962                  0.024  \n",
       "8651                0.571                  0.022  \n",
       "1895                0.364                  0.230  \n",
       "4273                0.310                  0.017  \n",
       "5834                0.868                  0.823  \n",
       "5314                0.565                  0.895  \n",
       "5284                0.667                  0.000  \n",
       "\n",
       "[10 rows x 21 columns]"
      ]
     },
     "execution_count": 39,
     "metadata": {},
     "output_type": "execute_result"
    }
   ],
   "source": [
    "cc_cust_data.drop(columns=columns, inplace=True)\n",
    "cc_cust_data.sample(10)"
   ]
  },
  {
   "cell_type": "markdown",
   "metadata": {},
   "source": [
    "### Analyzing Data Characterstics"
   ]
  },
  {
   "cell_type": "markdown",
   "metadata": {},
   "source": [
    "##### Unique Income Categories"
   ]
  },
  {
   "cell_type": "code",
   "execution_count": 40,
   "metadata": {},
   "outputs": [
    {
     "data": {
      "text/plain": [
       "array(['$60K - $80K', 'Less than $40K', '$80K - $120K', '$40K - $60K',\n",
       "       '$120K +', 'Unknown'], dtype=object)"
      ]
     },
     "execution_count": 40,
     "metadata": {},
     "output_type": "execute_result"
    }
   ],
   "source": [
    "cc_cust_data.Income_Category.unique()"
   ]
  },
  {
   "cell_type": "markdown",
   "metadata": {},
   "source": [
    "### Gold Category Data Description"
   ]
  },
  {
   "cell_type": "code",
   "execution_count": 41,
   "metadata": {},
   "outputs": [
    {
     "data": {
      "text/plain": [
       "count    116.000000\n",
       "mean      35.525862\n",
       "std        6.618106\n",
       "min       18.000000\n",
       "25%       33.000000\n",
       "50%       36.000000\n",
       "75%       38.000000\n",
       "max       55.000000\n",
       "Name: Months_on_book, dtype: float64"
      ]
     },
     "execution_count": 41,
     "metadata": {},
     "output_type": "execute_result"
    }
   ],
   "source": [
    "cc_cust_data[cc_cust_data['Card_Category'] == 'Gold'].Months_on_book.describe()"
   ]
  },
  {
   "cell_type": "markdown",
   "metadata": {},
   "source": [
    "#### Customer Age Data"
   ]
  },
  {
   "cell_type": "code",
   "execution_count": 42,
   "metadata": {},
   "outputs": [
    {
     "data": {
      "text/plain": [
       "count    10127.000000\n",
       "mean        46.325960\n",
       "std          8.016814\n",
       "min         26.000000\n",
       "25%         41.000000\n",
       "50%         46.000000\n",
       "75%         52.000000\n",
       "max         73.000000\n",
       "Name: Customer_Age, dtype: float64"
      ]
     },
     "execution_count": 42,
     "metadata": {},
     "output_type": "execute_result"
    }
   ],
   "source": [
    "cc_cust_data.Customer_Age.describe()"
   ]
  },
  {
   "cell_type": "code",
   "execution_count": 45,
   "metadata": {},
   "outputs": [
    {
     "data": {
      "application/vnd.plotly.v1+json": {
       "config": {
        "plotlyServerURL": "https://plot.ly"
       },
       "data": [
        {
         "alignmentgroup": "True",
         "hovertemplate": "Attrition_Flag=%{x}<br>Gender=F<br>Count=%{y}<extra></extra>",
         "legendgroup": "Existing Customer",
         "marker": {
          "color": "#636efa",
          "pattern": {
           "shape": ""
          }
         },
         "name": "Existing Customer",
         "offsetgroup": "Existing Customer",
         "orientation": "v",
         "showlegend": true,
         "textposition": "auto",
         "type": "bar",
         "x": [
          "Existing Customer"
         ],
         "xaxis": "x",
         "y": [
          4428
         ],
         "yaxis": "y"
        },
        {
         "alignmentgroup": "True",
         "hovertemplate": "Attrition_Flag=%{x}<br>Gender=M<br>Count=%{y}<extra></extra>",
         "legendgroup": "Existing Customer",
         "marker": {
          "color": "#636efa",
          "pattern": {
           "shape": ""
          }
         },
         "name": "Existing Customer",
         "offsetgroup": "Existing Customer",
         "orientation": "v",
         "showlegend": false,
         "textposition": "auto",
         "type": "bar",
         "x": [
          "Existing Customer"
         ],
         "xaxis": "x2",
         "y": [
          4072
         ],
         "yaxis": "y2"
        },
        {
         "alignmentgroup": "True",
         "hovertemplate": "Attrition_Flag=%{x}<br>Gender=F<br>Count=%{y}<extra></extra>",
         "legendgroup": "Attrited Customer",
         "marker": {
          "color": "#EF553B",
          "pattern": {
           "shape": ""
          }
         },
         "name": "Attrited Customer",
         "offsetgroup": "Attrited Customer",
         "orientation": "v",
         "showlegend": true,
         "textposition": "auto",
         "type": "bar",
         "x": [
          "Attrited Customer"
         ],
         "xaxis": "x",
         "y": [
          930
         ],
         "yaxis": "y"
        },
        {
         "alignmentgroup": "True",
         "hovertemplate": "Attrition_Flag=%{x}<br>Gender=M<br>Count=%{y}<extra></extra>",
         "legendgroup": "Attrited Customer",
         "marker": {
          "color": "#EF553B",
          "pattern": {
           "shape": ""
          }
         },
         "name": "Attrited Customer",
         "offsetgroup": "Attrited Customer",
         "orientation": "v",
         "showlegend": false,
         "textposition": "auto",
         "type": "bar",
         "x": [
          "Attrited Customer"
         ],
         "xaxis": "x2",
         "y": [
          697
         ],
         "yaxis": "y2"
        }
       ],
       "layout": {
        "annotations": [
         {
          "showarrow": false,
          "text": "Gender=F",
          "x": 0.245,
          "xanchor": "center",
          "xref": "paper",
          "y": 1,
          "yanchor": "bottom",
          "yref": "paper"
         },
         {
          "showarrow": false,
          "text": "Gender=M",
          "x": 0.755,
          "xanchor": "center",
          "xref": "paper",
          "y": 1,
          "yanchor": "bottom",
          "yref": "paper"
         },
         {
          "font": {
           "size": 10
          },
          "showarrow": false,
          "text": "Female Attrition Rate: 17.36%<br>Male Attrition Rate: 14.6%<br><br>Overall 2.76% difference",
          "x": 1.12,
          "xref": "paper",
          "y": 0.8,
          "yref": "paper"
         }
        ],
        "barmode": "relative",
        "legend": {
         "title": {
          "text": "Attrition_Flag"
         },
         "tracegroupgap": 0
        },
        "margin": {
         "t": 60
        },
        "template": {
         "data": {
          "bar": [
           {
            "error_x": {
             "color": "#2a3f5f"
            },
            "error_y": {
             "color": "#2a3f5f"
            },
            "marker": {
             "line": {
              "color": "#E5ECF6",
              "width": 0.5
             },
             "pattern": {
              "fillmode": "overlay",
              "size": 10,
              "solidity": 0.2
             }
            },
            "type": "bar"
           }
          ],
          "barpolar": [
           {
            "marker": {
             "line": {
              "color": "#E5ECF6",
              "width": 0.5
             },
             "pattern": {
              "fillmode": "overlay",
              "size": 10,
              "solidity": 0.2
             }
            },
            "type": "barpolar"
           }
          ],
          "carpet": [
           {
            "aaxis": {
             "endlinecolor": "#2a3f5f",
             "gridcolor": "white",
             "linecolor": "white",
             "minorgridcolor": "white",
             "startlinecolor": "#2a3f5f"
            },
            "baxis": {
             "endlinecolor": "#2a3f5f",
             "gridcolor": "white",
             "linecolor": "white",
             "minorgridcolor": "white",
             "startlinecolor": "#2a3f5f"
            },
            "type": "carpet"
           }
          ],
          "choropleth": [
           {
            "colorbar": {
             "outlinewidth": 0,
             "ticks": ""
            },
            "type": "choropleth"
           }
          ],
          "contour": [
           {
            "colorbar": {
             "outlinewidth": 0,
             "ticks": ""
            },
            "colorscale": [
             [
              0,
              "#0d0887"
             ],
             [
              0.1111111111111111,
              "#46039f"
             ],
             [
              0.2222222222222222,
              "#7201a8"
             ],
             [
              0.3333333333333333,
              "#9c179e"
             ],
             [
              0.4444444444444444,
              "#bd3786"
             ],
             [
              0.5555555555555556,
              "#d8576b"
             ],
             [
              0.6666666666666666,
              "#ed7953"
             ],
             [
              0.7777777777777778,
              "#fb9f3a"
             ],
             [
              0.8888888888888888,
              "#fdca26"
             ],
             [
              1,
              "#f0f921"
             ]
            ],
            "type": "contour"
           }
          ],
          "contourcarpet": [
           {
            "colorbar": {
             "outlinewidth": 0,
             "ticks": ""
            },
            "type": "contourcarpet"
           }
          ],
          "heatmap": [
           {
            "colorbar": {
             "outlinewidth": 0,
             "ticks": ""
            },
            "colorscale": [
             [
              0,
              "#0d0887"
             ],
             [
              0.1111111111111111,
              "#46039f"
             ],
             [
              0.2222222222222222,
              "#7201a8"
             ],
             [
              0.3333333333333333,
              "#9c179e"
             ],
             [
              0.4444444444444444,
              "#bd3786"
             ],
             [
              0.5555555555555556,
              "#d8576b"
             ],
             [
              0.6666666666666666,
              "#ed7953"
             ],
             [
              0.7777777777777778,
              "#fb9f3a"
             ],
             [
              0.8888888888888888,
              "#fdca26"
             ],
             [
              1,
              "#f0f921"
             ]
            ],
            "type": "heatmap"
           }
          ],
          "heatmapgl": [
           {
            "colorbar": {
             "outlinewidth": 0,
             "ticks": ""
            },
            "colorscale": [
             [
              0,
              "#0d0887"
             ],
             [
              0.1111111111111111,
              "#46039f"
             ],
             [
              0.2222222222222222,
              "#7201a8"
             ],
             [
              0.3333333333333333,
              "#9c179e"
             ],
             [
              0.4444444444444444,
              "#bd3786"
             ],
             [
              0.5555555555555556,
              "#d8576b"
             ],
             [
              0.6666666666666666,
              "#ed7953"
             ],
             [
              0.7777777777777778,
              "#fb9f3a"
             ],
             [
              0.8888888888888888,
              "#fdca26"
             ],
             [
              1,
              "#f0f921"
             ]
            ],
            "type": "heatmapgl"
           }
          ],
          "histogram": [
           {
            "marker": {
             "pattern": {
              "fillmode": "overlay",
              "size": 10,
              "solidity": 0.2
             }
            },
            "type": "histogram"
           }
          ],
          "histogram2d": [
           {
            "colorbar": {
             "outlinewidth": 0,
             "ticks": ""
            },
            "colorscale": [
             [
              0,
              "#0d0887"
             ],
             [
              0.1111111111111111,
              "#46039f"
             ],
             [
              0.2222222222222222,
              "#7201a8"
             ],
             [
              0.3333333333333333,
              "#9c179e"
             ],
             [
              0.4444444444444444,
              "#bd3786"
             ],
             [
              0.5555555555555556,
              "#d8576b"
             ],
             [
              0.6666666666666666,
              "#ed7953"
             ],
             [
              0.7777777777777778,
              "#fb9f3a"
             ],
             [
              0.8888888888888888,
              "#fdca26"
             ],
             [
              1,
              "#f0f921"
             ]
            ],
            "type": "histogram2d"
           }
          ],
          "histogram2dcontour": [
           {
            "colorbar": {
             "outlinewidth": 0,
             "ticks": ""
            },
            "colorscale": [
             [
              0,
              "#0d0887"
             ],
             [
              0.1111111111111111,
              "#46039f"
             ],
             [
              0.2222222222222222,
              "#7201a8"
             ],
             [
              0.3333333333333333,
              "#9c179e"
             ],
             [
              0.4444444444444444,
              "#bd3786"
             ],
             [
              0.5555555555555556,
              "#d8576b"
             ],
             [
              0.6666666666666666,
              "#ed7953"
             ],
             [
              0.7777777777777778,
              "#fb9f3a"
             ],
             [
              0.8888888888888888,
              "#fdca26"
             ],
             [
              1,
              "#f0f921"
             ]
            ],
            "type": "histogram2dcontour"
           }
          ],
          "mesh3d": [
           {
            "colorbar": {
             "outlinewidth": 0,
             "ticks": ""
            },
            "type": "mesh3d"
           }
          ],
          "parcoords": [
           {
            "line": {
             "colorbar": {
              "outlinewidth": 0,
              "ticks": ""
             }
            },
            "type": "parcoords"
           }
          ],
          "pie": [
           {
            "automargin": true,
            "type": "pie"
           }
          ],
          "scatter": [
           {
            "fillpattern": {
             "fillmode": "overlay",
             "size": 10,
             "solidity": 0.2
            },
            "type": "scatter"
           }
          ],
          "scatter3d": [
           {
            "line": {
             "colorbar": {
              "outlinewidth": 0,
              "ticks": ""
             }
            },
            "marker": {
             "colorbar": {
              "outlinewidth": 0,
              "ticks": ""
             }
            },
            "type": "scatter3d"
           }
          ],
          "scattercarpet": [
           {
            "marker": {
             "colorbar": {
              "outlinewidth": 0,
              "ticks": ""
             }
            },
            "type": "scattercarpet"
           }
          ],
          "scattergeo": [
           {
            "marker": {
             "colorbar": {
              "outlinewidth": 0,
              "ticks": ""
             }
            },
            "type": "scattergeo"
           }
          ],
          "scattergl": [
           {
            "marker": {
             "colorbar": {
              "outlinewidth": 0,
              "ticks": ""
             }
            },
            "type": "scattergl"
           }
          ],
          "scattermapbox": [
           {
            "marker": {
             "colorbar": {
              "outlinewidth": 0,
              "ticks": ""
             }
            },
            "type": "scattermapbox"
           }
          ],
          "scatterpolar": [
           {
            "marker": {
             "colorbar": {
              "outlinewidth": 0,
              "ticks": ""
             }
            },
            "type": "scatterpolar"
           }
          ],
          "scatterpolargl": [
           {
            "marker": {
             "colorbar": {
              "outlinewidth": 0,
              "ticks": ""
             }
            },
            "type": "scatterpolargl"
           }
          ],
          "scatterternary": [
           {
            "marker": {
             "colorbar": {
              "outlinewidth": 0,
              "ticks": ""
             }
            },
            "type": "scatterternary"
           }
          ],
          "surface": [
           {
            "colorbar": {
             "outlinewidth": 0,
             "ticks": ""
            },
            "colorscale": [
             [
              0,
              "#0d0887"
             ],
             [
              0.1111111111111111,
              "#46039f"
             ],
             [
              0.2222222222222222,
              "#7201a8"
             ],
             [
              0.3333333333333333,
              "#9c179e"
             ],
             [
              0.4444444444444444,
              "#bd3786"
             ],
             [
              0.5555555555555556,
              "#d8576b"
             ],
             [
              0.6666666666666666,
              "#ed7953"
             ],
             [
              0.7777777777777778,
              "#fb9f3a"
             ],
             [
              0.8888888888888888,
              "#fdca26"
             ],
             [
              1,
              "#f0f921"
             ]
            ],
            "type": "surface"
           }
          ],
          "table": [
           {
            "cells": {
             "fill": {
              "color": "#EBF0F8"
             },
             "line": {
              "color": "white"
             }
            },
            "header": {
             "fill": {
              "color": "#C8D4E3"
             },
             "line": {
              "color": "white"
             }
            },
            "type": "table"
           }
          ]
         },
         "layout": {
          "annotationdefaults": {
           "arrowcolor": "#2a3f5f",
           "arrowhead": 0,
           "arrowwidth": 1
          },
          "autotypenumbers": "strict",
          "coloraxis": {
           "colorbar": {
            "outlinewidth": 0,
            "ticks": ""
           }
          },
          "colorscale": {
           "diverging": [
            [
             0,
             "#8e0152"
            ],
            [
             0.1,
             "#c51b7d"
            ],
            [
             0.2,
             "#de77ae"
            ],
            [
             0.3,
             "#f1b6da"
            ],
            [
             0.4,
             "#fde0ef"
            ],
            [
             0.5,
             "#f7f7f7"
            ],
            [
             0.6,
             "#e6f5d0"
            ],
            [
             0.7,
             "#b8e186"
            ],
            [
             0.8,
             "#7fbc41"
            ],
            [
             0.9,
             "#4d9221"
            ],
            [
             1,
             "#276419"
            ]
           ],
           "sequential": [
            [
             0,
             "#0d0887"
            ],
            [
             0.1111111111111111,
             "#46039f"
            ],
            [
             0.2222222222222222,
             "#7201a8"
            ],
            [
             0.3333333333333333,
             "#9c179e"
            ],
            [
             0.4444444444444444,
             "#bd3786"
            ],
            [
             0.5555555555555556,
             "#d8576b"
            ],
            [
             0.6666666666666666,
             "#ed7953"
            ],
            [
             0.7777777777777778,
             "#fb9f3a"
            ],
            [
             0.8888888888888888,
             "#fdca26"
            ],
            [
             1,
             "#f0f921"
            ]
           ],
           "sequentialminus": [
            [
             0,
             "#0d0887"
            ],
            [
             0.1111111111111111,
             "#46039f"
            ],
            [
             0.2222222222222222,
             "#7201a8"
            ],
            [
             0.3333333333333333,
             "#9c179e"
            ],
            [
             0.4444444444444444,
             "#bd3786"
            ],
            [
             0.5555555555555556,
             "#d8576b"
            ],
            [
             0.6666666666666666,
             "#ed7953"
            ],
            [
             0.7777777777777778,
             "#fb9f3a"
            ],
            [
             0.8888888888888888,
             "#fdca26"
            ],
            [
             1,
             "#f0f921"
            ]
           ]
          },
          "colorway": [
           "#636efa",
           "#EF553B",
           "#00cc96",
           "#ab63fa",
           "#FFA15A",
           "#19d3f3",
           "#FF6692",
           "#B6E880",
           "#FF97FF",
           "#FECB52"
          ],
          "font": {
           "color": "#2a3f5f"
          },
          "geo": {
           "bgcolor": "white",
           "lakecolor": "white",
           "landcolor": "#E5ECF6",
           "showlakes": true,
           "showland": true,
           "subunitcolor": "white"
          },
          "hoverlabel": {
           "align": "left"
          },
          "hovermode": "closest",
          "mapbox": {
           "style": "light"
          },
          "paper_bgcolor": "white",
          "plot_bgcolor": "#E5ECF6",
          "polar": {
           "angularaxis": {
            "gridcolor": "white",
            "linecolor": "white",
            "ticks": ""
           },
           "bgcolor": "#E5ECF6",
           "radialaxis": {
            "gridcolor": "white",
            "linecolor": "white",
            "ticks": ""
           }
          },
          "scene": {
           "xaxis": {
            "backgroundcolor": "#E5ECF6",
            "gridcolor": "white",
            "gridwidth": 2,
            "linecolor": "white",
            "showbackground": true,
            "ticks": "",
            "zerolinecolor": "white"
           },
           "yaxis": {
            "backgroundcolor": "#E5ECF6",
            "gridcolor": "white",
            "gridwidth": 2,
            "linecolor": "white",
            "showbackground": true,
            "ticks": "",
            "zerolinecolor": "white"
           },
           "zaxis": {
            "backgroundcolor": "#E5ECF6",
            "gridcolor": "white",
            "gridwidth": 2,
            "linecolor": "white",
            "showbackground": true,
            "ticks": "",
            "zerolinecolor": "white"
           }
          },
          "shapedefaults": {
           "line": {
            "color": "#2a3f5f"
           }
          },
          "ternary": {
           "aaxis": {
            "gridcolor": "white",
            "linecolor": "white",
            "ticks": ""
           },
           "baxis": {
            "gridcolor": "white",
            "linecolor": "white",
            "ticks": ""
           },
           "bgcolor": "#E5ECF6",
           "caxis": {
            "gridcolor": "white",
            "linecolor": "white",
            "ticks": ""
           }
          },
          "title": {
           "x": 0.05
          },
          "xaxis": {
           "automargin": true,
           "gridcolor": "white",
           "linecolor": "white",
           "ticks": "",
           "title": {
            "standoff": 15
           },
           "zerolinecolor": "white",
           "zerolinewidth": 2
          },
          "yaxis": {
           "automargin": true,
           "gridcolor": "white",
           "linecolor": "white",
           "ticks": "",
           "title": {
            "standoff": 15
           },
           "zerolinecolor": "white",
           "zerolinewidth": 2
          }
         }
        },
        "title": {
         "text": "Attrition by Gender"
        },
        "xaxis": {
         "anchor": "y",
         "categoryarray": [
          "Existing Customer",
          "Attrited Customer"
         ],
         "categoryorder": "array",
         "domain": [
          0,
          0.49
         ],
         "title": {
          "text": "Attrition Flag"
         }
        },
        "xaxis2": {
         "anchor": "y2",
         "categoryarray": [
          "Existing Customer",
          "Attrited Customer"
         ],
         "categoryorder": "array",
         "domain": [
          0.51,
          1
         ],
         "matches": "x",
         "title": {
          "text": "Attrition_Flag"
         }
        },
        "yaxis": {
         "anchor": "x",
         "domain": [
          0,
          1
         ],
         "title": {
          "text": "Count"
         }
        },
        "yaxis2": {
         "anchor": "x2",
         "domain": [
          0,
          1
         ],
         "matches": "y",
         "showticklabels": false
        }
       }
      }
     },
     "metadata": {},
     "output_type": "display_data"
    }
   ],
   "source": [
    "Attrition_by_Gender = cc_cust_data.groupby(['Gender','Attrition_Flag']).size()\n",
    "Attrition_by_Gender = Attrition_by_Gender.reset_index(name=\"Count\")\n",
    "\n",
    "fig = px.bar(Attrition_by_Gender, x='Attrition_Flag', y='Count', color='Attrition_Flag', facet_col='Gender',\n",
    "            category_orders={'Attrition_Flag': ['Existing Customer', 'Attrited Customer']})\n",
    "\n",
    "fig.update_layout(title_text='Attrition by Gender',\n",
    "                  xaxis_title='Attrition Flag',\n",
    "                  yaxis_title='Count')\n",
    "\n",
    "annotation_text = \"Female Attrition Rate: 17.36%<br>\"\n",
    "annotation_text += \"Male Attrition Rate: 14.6%<br><br>\"\n",
    "annotation_text += \"Overall 2.76% difference\"\n",
    "\n",
    "fig.add_annotation(text=annotation_text,\n",
    "                   xref=\"paper\", yref=\"paper\",\n",
    "                   x=1.12, y=0.8,\n",
    "                   showarrow=False,\n",
    "                   font=dict(size=10))\n",
    "\n",
    "fig.show()"
   ]
  },
  {
   "cell_type": "code",
   "execution_count": 49,
   "metadata": {},
   "outputs": [
    {
     "data": {
      "text/html": [
       "<div>\n",
       "<style scoped>\n",
       "    .dataframe tbody tr th:only-of-type {\n",
       "        vertical-align: middle;\n",
       "    }\n",
       "\n",
       "    .dataframe tbody tr th {\n",
       "        vertical-align: top;\n",
       "    }\n",
       "\n",
       "    .dataframe thead th {\n",
       "        text-align: right;\n",
       "    }\n",
       "</style>\n",
       "<table border=\"1\" class=\"dataframe\">\n",
       "  <thead>\n",
       "    <tr style=\"text-align: right;\">\n",
       "      <th></th>\n",
       "      <th>Gender</th>\n",
       "      <th>Card_Category</th>\n",
       "      <th>Attrition_Flag</th>\n",
       "      <th>Count</th>\n",
       "    </tr>\n",
       "  </thead>\n",
       "  <tbody>\n",
       "    <tr>\n",
       "      <th>0</th>\n",
       "      <td>F</td>\n",
       "      <td>Blue</td>\n",
       "      <td>Attrited Customer</td>\n",
       "      <td>890</td>\n",
       "    </tr>\n",
       "    <tr>\n",
       "      <th>1</th>\n",
       "      <td>F</td>\n",
       "      <td>Blue</td>\n",
       "      <td>Existing Customer</td>\n",
       "      <td>4211</td>\n",
       "    </tr>\n",
       "    <tr>\n",
       "      <th>2</th>\n",
       "      <td>F</td>\n",
       "      <td>Gold</td>\n",
       "      <td>Attrited Customer</td>\n",
       "      <td>8</td>\n",
       "    </tr>\n",
       "    <tr>\n",
       "      <th>3</th>\n",
       "      <td>F</td>\n",
       "      <td>Gold</td>\n",
       "      <td>Existing Customer</td>\n",
       "      <td>30</td>\n",
       "    </tr>\n",
       "    <tr>\n",
       "      <th>4</th>\n",
       "      <td>F</td>\n",
       "      <td>Platinum</td>\n",
       "      <td>Attrited Customer</td>\n",
       "      <td>4</td>\n",
       "    </tr>\n",
       "    <tr>\n",
       "      <th>5</th>\n",
       "      <td>F</td>\n",
       "      <td>Platinum</td>\n",
       "      <td>Existing Customer</td>\n",
       "      <td>5</td>\n",
       "    </tr>\n",
       "    <tr>\n",
       "      <th>6</th>\n",
       "      <td>F</td>\n",
       "      <td>Silver</td>\n",
       "      <td>Attrited Customer</td>\n",
       "      <td>28</td>\n",
       "    </tr>\n",
       "    <tr>\n",
       "      <th>7</th>\n",
       "      <td>F</td>\n",
       "      <td>Silver</td>\n",
       "      <td>Existing Customer</td>\n",
       "      <td>182</td>\n",
       "    </tr>\n",
       "    <tr>\n",
       "      <th>8</th>\n",
       "      <td>M</td>\n",
       "      <td>Blue</td>\n",
       "      <td>Attrited Customer</td>\n",
       "      <td>629</td>\n",
       "    </tr>\n",
       "    <tr>\n",
       "      <th>9</th>\n",
       "      <td>M</td>\n",
       "      <td>Blue</td>\n",
       "      <td>Existing Customer</td>\n",
       "      <td>3706</td>\n",
       "    </tr>\n",
       "    <tr>\n",
       "      <th>10</th>\n",
       "      <td>M</td>\n",
       "      <td>Gold</td>\n",
       "      <td>Attrited Customer</td>\n",
       "      <td>13</td>\n",
       "    </tr>\n",
       "    <tr>\n",
       "      <th>11</th>\n",
       "      <td>M</td>\n",
       "      <td>Gold</td>\n",
       "      <td>Existing Customer</td>\n",
       "      <td>65</td>\n",
       "    </tr>\n",
       "    <tr>\n",
       "      <th>12</th>\n",
       "      <td>M</td>\n",
       "      <td>Platinum</td>\n",
       "      <td>Attrited Customer</td>\n",
       "      <td>1</td>\n",
       "    </tr>\n",
       "    <tr>\n",
       "      <th>13</th>\n",
       "      <td>M</td>\n",
       "      <td>Platinum</td>\n",
       "      <td>Existing Customer</td>\n",
       "      <td>10</td>\n",
       "    </tr>\n",
       "    <tr>\n",
       "      <th>14</th>\n",
       "      <td>M</td>\n",
       "      <td>Silver</td>\n",
       "      <td>Attrited Customer</td>\n",
       "      <td>54</td>\n",
       "    </tr>\n",
       "    <tr>\n",
       "      <th>15</th>\n",
       "      <td>M</td>\n",
       "      <td>Silver</td>\n",
       "      <td>Existing Customer</td>\n",
       "      <td>291</td>\n",
       "    </tr>\n",
       "  </tbody>\n",
       "</table>\n",
       "</div>"
      ],
      "text/plain": [
       "   Gender Card_Category     Attrition_Flag  Count\n",
       "0       F          Blue  Attrited Customer    890\n",
       "1       F          Blue  Existing Customer   4211\n",
       "2       F          Gold  Attrited Customer      8\n",
       "3       F          Gold  Existing Customer     30\n",
       "4       F      Platinum  Attrited Customer      4\n",
       "5       F      Platinum  Existing Customer      5\n",
       "6       F        Silver  Attrited Customer     28\n",
       "7       F        Silver  Existing Customer    182\n",
       "8       M          Blue  Attrited Customer    629\n",
       "9       M          Blue  Existing Customer   3706\n",
       "10      M          Gold  Attrited Customer     13\n",
       "11      M          Gold  Existing Customer     65\n",
       "12      M      Platinum  Attrited Customer      1\n",
       "13      M      Platinum  Existing Customer     10\n",
       "14      M        Silver  Attrited Customer     54\n",
       "15      M        Silver  Existing Customer    291"
      ]
     },
     "execution_count": 49,
     "metadata": {},
     "output_type": "execute_result"
    }
   ],
   "source": [
    "Attrition_by_Card_category = cc_cust_data.groupby(['Gender', 'Card_Category','Attrition_Flag']).size()\n",
    "Attrition_by_Card_category = Attrition_by_Card_category.reset_index(name=\"Count\")\n",
    "Attrition_by_Card_category"
   ]
  },
  {
   "cell_type": "markdown",
   "metadata": {},
   "source": [
    "Women are more likely to attrit then men are in every category except the Silver Card Category. Most interesting is that in the Platinum category we see almost 50% of women leave the category versus men are more likely to stay with only a 9% attrition percentage. In summary, the analysis indicates a slightly higher attrition rate among women compared to men, with a marginal difference of 3%."
   ]
  },
  {
   "cell_type": "code",
   "execution_count": 50,
   "metadata": {},
   "outputs": [
    {
     "data": {
      "text/html": [
       "<div>\n",
       "<style scoped>\n",
       "    .dataframe tbody tr th:only-of-type {\n",
       "        vertical-align: middle;\n",
       "    }\n",
       "\n",
       "    .dataframe tbody tr th {\n",
       "        vertical-align: top;\n",
       "    }\n",
       "\n",
       "    .dataframe thead th {\n",
       "        text-align: right;\n",
       "    }\n",
       "</style>\n",
       "<table border=\"1\" class=\"dataframe\">\n",
       "  <thead>\n",
       "    <tr style=\"text-align: right;\">\n",
       "      <th></th>\n",
       "      <th>Income_Category</th>\n",
       "      <th>Attrition_Flag</th>\n",
       "      <th>Count</th>\n",
       "    </tr>\n",
       "  </thead>\n",
       "  <tbody>\n",
       "    <tr>\n",
       "      <th>0</th>\n",
       "      <td>$120K +</td>\n",
       "      <td>Attrited Customer</td>\n",
       "      <td>126</td>\n",
       "    </tr>\n",
       "    <tr>\n",
       "      <th>1</th>\n",
       "      <td>$120K +</td>\n",
       "      <td>Existing Customer</td>\n",
       "      <td>601</td>\n",
       "    </tr>\n",
       "    <tr>\n",
       "      <th>2</th>\n",
       "      <td>$40K - $60K</td>\n",
       "      <td>Attrited Customer</td>\n",
       "      <td>271</td>\n",
       "    </tr>\n",
       "    <tr>\n",
       "      <th>3</th>\n",
       "      <td>$40K - $60K</td>\n",
       "      <td>Existing Customer</td>\n",
       "      <td>1519</td>\n",
       "    </tr>\n",
       "    <tr>\n",
       "      <th>4</th>\n",
       "      <td>$60K - $80K</td>\n",
       "      <td>Attrited Customer</td>\n",
       "      <td>189</td>\n",
       "    </tr>\n",
       "    <tr>\n",
       "      <th>5</th>\n",
       "      <td>$60K - $80K</td>\n",
       "      <td>Existing Customer</td>\n",
       "      <td>1213</td>\n",
       "    </tr>\n",
       "    <tr>\n",
       "      <th>6</th>\n",
       "      <td>$80K - $120K</td>\n",
       "      <td>Attrited Customer</td>\n",
       "      <td>242</td>\n",
       "    </tr>\n",
       "    <tr>\n",
       "      <th>7</th>\n",
       "      <td>$80K - $120K</td>\n",
       "      <td>Existing Customer</td>\n",
       "      <td>1293</td>\n",
       "    </tr>\n",
       "    <tr>\n",
       "      <th>8</th>\n",
       "      <td>Less than $40K</td>\n",
       "      <td>Attrited Customer</td>\n",
       "      <td>612</td>\n",
       "    </tr>\n",
       "    <tr>\n",
       "      <th>9</th>\n",
       "      <td>Less than $40K</td>\n",
       "      <td>Existing Customer</td>\n",
       "      <td>2949</td>\n",
       "    </tr>\n",
       "  </tbody>\n",
       "</table>\n",
       "</div>"
      ],
      "text/plain": [
       "  Income_Category     Attrition_Flag  Count\n",
       "0         $120K +  Attrited Customer    126\n",
       "1         $120K +  Existing Customer    601\n",
       "2     $40K - $60K  Attrited Customer    271\n",
       "3     $40K - $60K  Existing Customer   1519\n",
       "4     $60K - $80K  Attrited Customer    189\n",
       "5     $60K - $80K  Existing Customer   1213\n",
       "6    $80K - $120K  Attrited Customer    242\n",
       "7    $80K - $120K  Existing Customer   1293\n",
       "8  Less than $40K  Attrited Customer    612\n",
       "9  Less than $40K  Existing Customer   2949"
      ]
     },
     "execution_count": 50,
     "metadata": {},
     "output_type": "execute_result"
    }
   ],
   "source": [
    "# Remove the Unkown Variable\n",
    "Attrition_by_Income = cc_cust_data[cc_cust_data['Income_Category']!='Unknown']\n",
    "\n",
    "Attrition_by_Income = Attrition_by_Income.groupby(['Income_Category','Attrition_Flag']).size()\n",
    "Attrition_by_Income = Attrition_by_Income.reset_index(name=\"Count\")\n",
    "Attrition_by_Income"
   ]
  },
  {
   "cell_type": "code",
   "execution_count": 51,
   "metadata": {},
   "outputs": [
    {
     "data": {
      "application/vnd.plotly.v1+json": {
       "config": {
        "plotlyServerURL": "https://plot.ly"
       },
       "data": [
        {
         "alignmentgroup": "True",
         "hovertemplate": "Attrition_Flag=%{x}<br>Income_Category=$120K +<br>Count=%{y}<extra></extra>",
         "legendgroup": "Existing Customer",
         "marker": {
          "color": "#1f77b4",
          "pattern": {
           "shape": ""
          }
         },
         "name": "Existing Customer",
         "offsetgroup": "Existing Customer",
         "orientation": "v",
         "showlegend": true,
         "textposition": "auto",
         "type": "bar",
         "x": [
          "Existing Customer"
         ],
         "xaxis": "x",
         "y": [
          601
         ],
         "yaxis": "y"
        },
        {
         "alignmentgroup": "True",
         "hovertemplate": "Attrition_Flag=%{x}<br>Income_Category=$40K - $60K<br>Count=%{y}<extra></extra>",
         "legendgroup": "Existing Customer",
         "marker": {
          "color": "#1f77b4",
          "pattern": {
           "shape": ""
          }
         },
         "name": "Existing Customer",
         "offsetgroup": "Existing Customer",
         "orientation": "v",
         "showlegend": false,
         "textposition": "auto",
         "type": "bar",
         "x": [
          "Existing Customer"
         ],
         "xaxis": "x2",
         "y": [
          1519
         ],
         "yaxis": "y2"
        },
        {
         "alignmentgroup": "True",
         "hovertemplate": "Attrition_Flag=%{x}<br>Income_Category=$60K - $80K<br>Count=%{y}<extra></extra>",
         "legendgroup": "Existing Customer",
         "marker": {
          "color": "#1f77b4",
          "pattern": {
           "shape": ""
          }
         },
         "name": "Existing Customer",
         "offsetgroup": "Existing Customer",
         "orientation": "v",
         "showlegend": false,
         "textposition": "auto",
         "type": "bar",
         "x": [
          "Existing Customer"
         ],
         "xaxis": "x3",
         "y": [
          1213
         ],
         "yaxis": "y3"
        },
        {
         "alignmentgroup": "True",
         "hovertemplate": "Attrition_Flag=%{x}<br>Income_Category=$80K - $120K<br>Count=%{y}<extra></extra>",
         "legendgroup": "Existing Customer",
         "marker": {
          "color": "#1f77b4",
          "pattern": {
           "shape": ""
          }
         },
         "name": "Existing Customer",
         "offsetgroup": "Existing Customer",
         "orientation": "v",
         "showlegend": false,
         "textposition": "auto",
         "type": "bar",
         "x": [
          "Existing Customer"
         ],
         "xaxis": "x4",
         "y": [
          1293
         ],
         "yaxis": "y4"
        },
        {
         "alignmentgroup": "True",
         "hovertemplate": "Attrition_Flag=%{x}<br>Income_Category=Less than $40K<br>Count=%{y}<extra></extra>",
         "legendgroup": "Existing Customer",
         "marker": {
          "color": "#1f77b4",
          "pattern": {
           "shape": ""
          }
         },
         "name": "Existing Customer",
         "offsetgroup": "Existing Customer",
         "orientation": "v",
         "showlegend": false,
         "textposition": "auto",
         "type": "bar",
         "x": [
          "Existing Customer"
         ],
         "xaxis": "x5",
         "y": [
          2949
         ],
         "yaxis": "y5"
        },
        {
         "alignmentgroup": "True",
         "hovertemplate": "Attrition_Flag=%{x}<br>Income_Category=$120K +<br>Count=%{y}<extra></extra>",
         "legendgroup": "Attrited Customer",
         "marker": {
          "color": "#ff7f0e",
          "pattern": {
           "shape": ""
          }
         },
         "name": "Attrited Customer",
         "offsetgroup": "Attrited Customer",
         "orientation": "v",
         "showlegend": true,
         "textposition": "auto",
         "type": "bar",
         "x": [
          "Attrited Customer"
         ],
         "xaxis": "x",
         "y": [
          126
         ],
         "yaxis": "y"
        },
        {
         "alignmentgroup": "True",
         "hovertemplate": "Attrition_Flag=%{x}<br>Income_Category=$40K - $60K<br>Count=%{y}<extra></extra>",
         "legendgroup": "Attrited Customer",
         "marker": {
          "color": "#ff7f0e",
          "pattern": {
           "shape": ""
          }
         },
         "name": "Attrited Customer",
         "offsetgroup": "Attrited Customer",
         "orientation": "v",
         "showlegend": false,
         "textposition": "auto",
         "type": "bar",
         "x": [
          "Attrited Customer"
         ],
         "xaxis": "x2",
         "y": [
          271
         ],
         "yaxis": "y2"
        },
        {
         "alignmentgroup": "True",
         "hovertemplate": "Attrition_Flag=%{x}<br>Income_Category=$60K - $80K<br>Count=%{y}<extra></extra>",
         "legendgroup": "Attrited Customer",
         "marker": {
          "color": "#ff7f0e",
          "pattern": {
           "shape": ""
          }
         },
         "name": "Attrited Customer",
         "offsetgroup": "Attrited Customer",
         "orientation": "v",
         "showlegend": false,
         "textposition": "auto",
         "type": "bar",
         "x": [
          "Attrited Customer"
         ],
         "xaxis": "x3",
         "y": [
          189
         ],
         "yaxis": "y3"
        },
        {
         "alignmentgroup": "True",
         "hovertemplate": "Attrition_Flag=%{x}<br>Income_Category=$80K - $120K<br>Count=%{y}<extra></extra>",
         "legendgroup": "Attrited Customer",
         "marker": {
          "color": "#ff7f0e",
          "pattern": {
           "shape": ""
          }
         },
         "name": "Attrited Customer",
         "offsetgroup": "Attrited Customer",
         "orientation": "v",
         "showlegend": false,
         "textposition": "auto",
         "type": "bar",
         "x": [
          "Attrited Customer"
         ],
         "xaxis": "x4",
         "y": [
          242
         ],
         "yaxis": "y4"
        },
        {
         "alignmentgroup": "True",
         "hovertemplate": "Attrition_Flag=%{x}<br>Income_Category=Less than $40K<br>Count=%{y}<extra></extra>",
         "legendgroup": "Attrited Customer",
         "marker": {
          "color": "#ff7f0e",
          "pattern": {
           "shape": ""
          }
         },
         "name": "Attrited Customer",
         "offsetgroup": "Attrited Customer",
         "orientation": "v",
         "showlegend": false,
         "textposition": "auto",
         "type": "bar",
         "x": [
          "Attrited Customer"
         ],
         "xaxis": "x5",
         "y": [
          612
         ],
         "yaxis": "y5"
        }
       ],
       "layout": {
        "annotations": [
         {
          "showarrow": false,
          "text": "$120K +",
          "x": 0.09200000000000001,
          "xanchor": "center",
          "xref": "paper",
          "y": 1,
          "yanchor": "bottom",
          "yref": "paper"
         },
         {
          "showarrow": false,
          "text": "$40K - 60K",
          "x": 0.29600000000000004,
          "xanchor": "center",
          "xref": "paper",
          "y": 1,
          "yanchor": "bottom",
          "yref": "paper"
         },
         {
          "showarrow": false,
          "text": "$60K - 80K",
          "x": 0.5,
          "xanchor": "center",
          "xref": "paper",
          "y": 1,
          "yanchor": "bottom",
          "yref": "paper"
         },
         {
          "showarrow": false,
          "text": "$80K - 120K",
          "x": 0.7040000000000002,
          "xanchor": "center",
          "xref": "paper",
          "y": 1,
          "yanchor": "bottom",
          "yref": "paper"
         },
         {
          "showarrow": false,
          "text": "Income_Category=Less than $40K",
          "x": 0.908,
          "xanchor": "center",
          "xref": "paper",
          "y": 1,
          "yanchor": "bottom",
          "yref": "paper"
         },
         {
          "font": {
           "size": 10
          },
          "showarrow": false,
          "text": "120K+ Attrition Rate: 20.96%<br>$40K - 60K Attrition Rate: 17.77%<br>",
          "x": 1.23,
          "xref": "paper",
          "y": 0.5,
          "yref": "paper"
         }
        ],
        "barmode": "relative",
        "height": 500,
        "legend": {
         "title": {
          "text": "Attrition_Flag"
         },
         "tracegroupgap": 0
        },
        "margin": {
         "t": 60
        },
        "template": {
         "data": {
          "bar": [
           {
            "error_x": {
             "color": "#2a3f5f"
            },
            "error_y": {
             "color": "#2a3f5f"
            },
            "marker": {
             "line": {
              "color": "#E5ECF6",
              "width": 0.5
             },
             "pattern": {
              "fillmode": "overlay",
              "size": 10,
              "solidity": 0.2
             }
            },
            "type": "bar"
           }
          ],
          "barpolar": [
           {
            "marker": {
             "line": {
              "color": "#E5ECF6",
              "width": 0.5
             },
             "pattern": {
              "fillmode": "overlay",
              "size": 10,
              "solidity": 0.2
             }
            },
            "type": "barpolar"
           }
          ],
          "carpet": [
           {
            "aaxis": {
             "endlinecolor": "#2a3f5f",
             "gridcolor": "white",
             "linecolor": "white",
             "minorgridcolor": "white",
             "startlinecolor": "#2a3f5f"
            },
            "baxis": {
             "endlinecolor": "#2a3f5f",
             "gridcolor": "white",
             "linecolor": "white",
             "minorgridcolor": "white",
             "startlinecolor": "#2a3f5f"
            },
            "type": "carpet"
           }
          ],
          "choropleth": [
           {
            "colorbar": {
             "outlinewidth": 0,
             "ticks": ""
            },
            "type": "choropleth"
           }
          ],
          "contour": [
           {
            "colorbar": {
             "outlinewidth": 0,
             "ticks": ""
            },
            "colorscale": [
             [
              0,
              "#0d0887"
             ],
             [
              0.1111111111111111,
              "#46039f"
             ],
             [
              0.2222222222222222,
              "#7201a8"
             ],
             [
              0.3333333333333333,
              "#9c179e"
             ],
             [
              0.4444444444444444,
              "#bd3786"
             ],
             [
              0.5555555555555556,
              "#d8576b"
             ],
             [
              0.6666666666666666,
              "#ed7953"
             ],
             [
              0.7777777777777778,
              "#fb9f3a"
             ],
             [
              0.8888888888888888,
              "#fdca26"
             ],
             [
              1,
              "#f0f921"
             ]
            ],
            "type": "contour"
           }
          ],
          "contourcarpet": [
           {
            "colorbar": {
             "outlinewidth": 0,
             "ticks": ""
            },
            "type": "contourcarpet"
           }
          ],
          "heatmap": [
           {
            "colorbar": {
             "outlinewidth": 0,
             "ticks": ""
            },
            "colorscale": [
             [
              0,
              "#0d0887"
             ],
             [
              0.1111111111111111,
              "#46039f"
             ],
             [
              0.2222222222222222,
              "#7201a8"
             ],
             [
              0.3333333333333333,
              "#9c179e"
             ],
             [
              0.4444444444444444,
              "#bd3786"
             ],
             [
              0.5555555555555556,
              "#d8576b"
             ],
             [
              0.6666666666666666,
              "#ed7953"
             ],
             [
              0.7777777777777778,
              "#fb9f3a"
             ],
             [
              0.8888888888888888,
              "#fdca26"
             ],
             [
              1,
              "#f0f921"
             ]
            ],
            "type": "heatmap"
           }
          ],
          "heatmapgl": [
           {
            "colorbar": {
             "outlinewidth": 0,
             "ticks": ""
            },
            "colorscale": [
             [
              0,
              "#0d0887"
             ],
             [
              0.1111111111111111,
              "#46039f"
             ],
             [
              0.2222222222222222,
              "#7201a8"
             ],
             [
              0.3333333333333333,
              "#9c179e"
             ],
             [
              0.4444444444444444,
              "#bd3786"
             ],
             [
              0.5555555555555556,
              "#d8576b"
             ],
             [
              0.6666666666666666,
              "#ed7953"
             ],
             [
              0.7777777777777778,
              "#fb9f3a"
             ],
             [
              0.8888888888888888,
              "#fdca26"
             ],
             [
              1,
              "#f0f921"
             ]
            ],
            "type": "heatmapgl"
           }
          ],
          "histogram": [
           {
            "marker": {
             "pattern": {
              "fillmode": "overlay",
              "size": 10,
              "solidity": 0.2
             }
            },
            "type": "histogram"
           }
          ],
          "histogram2d": [
           {
            "colorbar": {
             "outlinewidth": 0,
             "ticks": ""
            },
            "colorscale": [
             [
              0,
              "#0d0887"
             ],
             [
              0.1111111111111111,
              "#46039f"
             ],
             [
              0.2222222222222222,
              "#7201a8"
             ],
             [
              0.3333333333333333,
              "#9c179e"
             ],
             [
              0.4444444444444444,
              "#bd3786"
             ],
             [
              0.5555555555555556,
              "#d8576b"
             ],
             [
              0.6666666666666666,
              "#ed7953"
             ],
             [
              0.7777777777777778,
              "#fb9f3a"
             ],
             [
              0.8888888888888888,
              "#fdca26"
             ],
             [
              1,
              "#f0f921"
             ]
            ],
            "type": "histogram2d"
           }
          ],
          "histogram2dcontour": [
           {
            "colorbar": {
             "outlinewidth": 0,
             "ticks": ""
            },
            "colorscale": [
             [
              0,
              "#0d0887"
             ],
             [
              0.1111111111111111,
              "#46039f"
             ],
             [
              0.2222222222222222,
              "#7201a8"
             ],
             [
              0.3333333333333333,
              "#9c179e"
             ],
             [
              0.4444444444444444,
              "#bd3786"
             ],
             [
              0.5555555555555556,
              "#d8576b"
             ],
             [
              0.6666666666666666,
              "#ed7953"
             ],
             [
              0.7777777777777778,
              "#fb9f3a"
             ],
             [
              0.8888888888888888,
              "#fdca26"
             ],
             [
              1,
              "#f0f921"
             ]
            ],
            "type": "histogram2dcontour"
           }
          ],
          "mesh3d": [
           {
            "colorbar": {
             "outlinewidth": 0,
             "ticks": ""
            },
            "type": "mesh3d"
           }
          ],
          "parcoords": [
           {
            "line": {
             "colorbar": {
              "outlinewidth": 0,
              "ticks": ""
             }
            },
            "type": "parcoords"
           }
          ],
          "pie": [
           {
            "automargin": true,
            "type": "pie"
           }
          ],
          "scatter": [
           {
            "fillpattern": {
             "fillmode": "overlay",
             "size": 10,
             "solidity": 0.2
            },
            "type": "scatter"
           }
          ],
          "scatter3d": [
           {
            "line": {
             "colorbar": {
              "outlinewidth": 0,
              "ticks": ""
             }
            },
            "marker": {
             "colorbar": {
              "outlinewidth": 0,
              "ticks": ""
             }
            },
            "type": "scatter3d"
           }
          ],
          "scattercarpet": [
           {
            "marker": {
             "colorbar": {
              "outlinewidth": 0,
              "ticks": ""
             }
            },
            "type": "scattercarpet"
           }
          ],
          "scattergeo": [
           {
            "marker": {
             "colorbar": {
              "outlinewidth": 0,
              "ticks": ""
             }
            },
            "type": "scattergeo"
           }
          ],
          "scattergl": [
           {
            "marker": {
             "colorbar": {
              "outlinewidth": 0,
              "ticks": ""
             }
            },
            "type": "scattergl"
           }
          ],
          "scattermapbox": [
           {
            "marker": {
             "colorbar": {
              "outlinewidth": 0,
              "ticks": ""
             }
            },
            "type": "scattermapbox"
           }
          ],
          "scatterpolar": [
           {
            "marker": {
             "colorbar": {
              "outlinewidth": 0,
              "ticks": ""
             }
            },
            "type": "scatterpolar"
           }
          ],
          "scatterpolargl": [
           {
            "marker": {
             "colorbar": {
              "outlinewidth": 0,
              "ticks": ""
             }
            },
            "type": "scatterpolargl"
           }
          ],
          "scatterternary": [
           {
            "marker": {
             "colorbar": {
              "outlinewidth": 0,
              "ticks": ""
             }
            },
            "type": "scatterternary"
           }
          ],
          "surface": [
           {
            "colorbar": {
             "outlinewidth": 0,
             "ticks": ""
            },
            "colorscale": [
             [
              0,
              "#0d0887"
             ],
             [
              0.1111111111111111,
              "#46039f"
             ],
             [
              0.2222222222222222,
              "#7201a8"
             ],
             [
              0.3333333333333333,
              "#9c179e"
             ],
             [
              0.4444444444444444,
              "#bd3786"
             ],
             [
              0.5555555555555556,
              "#d8576b"
             ],
             [
              0.6666666666666666,
              "#ed7953"
             ],
             [
              0.7777777777777778,
              "#fb9f3a"
             ],
             [
              0.8888888888888888,
              "#fdca26"
             ],
             [
              1,
              "#f0f921"
             ]
            ],
            "type": "surface"
           }
          ],
          "table": [
           {
            "cells": {
             "fill": {
              "color": "#EBF0F8"
             },
             "line": {
              "color": "white"
             }
            },
            "header": {
             "fill": {
              "color": "#C8D4E3"
             },
             "line": {
              "color": "white"
             }
            },
            "type": "table"
           }
          ]
         },
         "layout": {
          "annotationdefaults": {
           "arrowcolor": "#2a3f5f",
           "arrowhead": 0,
           "arrowwidth": 1
          },
          "autotypenumbers": "strict",
          "coloraxis": {
           "colorbar": {
            "outlinewidth": 0,
            "ticks": ""
           }
          },
          "colorscale": {
           "diverging": [
            [
             0,
             "#8e0152"
            ],
            [
             0.1,
             "#c51b7d"
            ],
            [
             0.2,
             "#de77ae"
            ],
            [
             0.3,
             "#f1b6da"
            ],
            [
             0.4,
             "#fde0ef"
            ],
            [
             0.5,
             "#f7f7f7"
            ],
            [
             0.6,
             "#e6f5d0"
            ],
            [
             0.7,
             "#b8e186"
            ],
            [
             0.8,
             "#7fbc41"
            ],
            [
             0.9,
             "#4d9221"
            ],
            [
             1,
             "#276419"
            ]
           ],
           "sequential": [
            [
             0,
             "#0d0887"
            ],
            [
             0.1111111111111111,
             "#46039f"
            ],
            [
             0.2222222222222222,
             "#7201a8"
            ],
            [
             0.3333333333333333,
             "#9c179e"
            ],
            [
             0.4444444444444444,
             "#bd3786"
            ],
            [
             0.5555555555555556,
             "#d8576b"
            ],
            [
             0.6666666666666666,
             "#ed7953"
            ],
            [
             0.7777777777777778,
             "#fb9f3a"
            ],
            [
             0.8888888888888888,
             "#fdca26"
            ],
            [
             1,
             "#f0f921"
            ]
           ],
           "sequentialminus": [
            [
             0,
             "#0d0887"
            ],
            [
             0.1111111111111111,
             "#46039f"
            ],
            [
             0.2222222222222222,
             "#7201a8"
            ],
            [
             0.3333333333333333,
             "#9c179e"
            ],
            [
             0.4444444444444444,
             "#bd3786"
            ],
            [
             0.5555555555555556,
             "#d8576b"
            ],
            [
             0.6666666666666666,
             "#ed7953"
            ],
            [
             0.7777777777777778,
             "#fb9f3a"
            ],
            [
             0.8888888888888888,
             "#fdca26"
            ],
            [
             1,
             "#f0f921"
            ]
           ]
          },
          "colorway": [
           "#636efa",
           "#EF553B",
           "#00cc96",
           "#ab63fa",
           "#FFA15A",
           "#19d3f3",
           "#FF6692",
           "#B6E880",
           "#FF97FF",
           "#FECB52"
          ],
          "font": {
           "color": "#2a3f5f"
          },
          "geo": {
           "bgcolor": "white",
           "lakecolor": "white",
           "landcolor": "#E5ECF6",
           "showlakes": true,
           "showland": true,
           "subunitcolor": "white"
          },
          "hoverlabel": {
           "align": "left"
          },
          "hovermode": "closest",
          "mapbox": {
           "style": "light"
          },
          "paper_bgcolor": "white",
          "plot_bgcolor": "#E5ECF6",
          "polar": {
           "angularaxis": {
            "gridcolor": "white",
            "linecolor": "white",
            "ticks": ""
           },
           "bgcolor": "#E5ECF6",
           "radialaxis": {
            "gridcolor": "white",
            "linecolor": "white",
            "ticks": ""
           }
          },
          "scene": {
           "xaxis": {
            "backgroundcolor": "#E5ECF6",
            "gridcolor": "white",
            "gridwidth": 2,
            "linecolor": "white",
            "showbackground": true,
            "ticks": "",
            "zerolinecolor": "white"
           },
           "yaxis": {
            "backgroundcolor": "#E5ECF6",
            "gridcolor": "white",
            "gridwidth": 2,
            "linecolor": "white",
            "showbackground": true,
            "ticks": "",
            "zerolinecolor": "white"
           },
           "zaxis": {
            "backgroundcolor": "#E5ECF6",
            "gridcolor": "white",
            "gridwidth": 2,
            "linecolor": "white",
            "showbackground": true,
            "ticks": "",
            "zerolinecolor": "white"
           }
          },
          "shapedefaults": {
           "line": {
            "color": "#2a3f5f"
           }
          },
          "ternary": {
           "aaxis": {
            "gridcolor": "white",
            "linecolor": "white",
            "ticks": ""
           },
           "baxis": {
            "gridcolor": "white",
            "linecolor": "white",
            "ticks": ""
           },
           "bgcolor": "#E5ECF6",
           "caxis": {
            "gridcolor": "white",
            "linecolor": "white",
            "ticks": ""
           }
          },
          "title": {
           "x": 0.05
          },
          "xaxis": {
           "automargin": true,
           "gridcolor": "white",
           "linecolor": "white",
           "ticks": "",
           "title": {
            "standoff": 15
           },
           "zerolinecolor": "white",
           "zerolinewidth": 2
          },
          "yaxis": {
           "automargin": true,
           "gridcolor": "white",
           "linecolor": "white",
           "ticks": "",
           "title": {
            "standoff": 15
           },
           "zerolinecolor": "white",
           "zerolinewidth": 2
          }
         }
        },
        "title": {
         "text": "Attrition by Gender"
        },
        "width": 1100,
        "xaxis": {
         "anchor": "y",
         "categoryarray": [
          "Existing Customer",
          "Attrited Customer"
         ],
         "categoryorder": "array",
         "domain": [
          0,
          0.18400000000000002
         ],
         "title": {
          "text": "Attrition"
         }
        },
        "xaxis2": {
         "anchor": "y2",
         "categoryarray": [
          "Existing Customer",
          "Attrited Customer"
         ],
         "categoryorder": "array",
         "domain": [
          0.20400000000000001,
          0.388
         ],
         "matches": "x",
         "title": {
          "text": "Attrition_Flag"
         }
        },
        "xaxis3": {
         "anchor": "y3",
         "categoryarray": [
          "Existing Customer",
          "Attrited Customer"
         ],
         "categoryorder": "array",
         "domain": [
          0.40800000000000003,
          0.5920000000000001
         ],
         "matches": "x",
         "title": {
          "text": "Attrition_Flag"
         }
        },
        "xaxis4": {
         "anchor": "y4",
         "categoryarray": [
          "Existing Customer",
          "Attrited Customer"
         ],
         "categoryorder": "array",
         "domain": [
          0.6120000000000001,
          0.7960000000000002
         ],
         "matches": "x",
         "title": {
          "text": "Attrition_Flag"
         }
        },
        "xaxis5": {
         "anchor": "y5",
         "categoryarray": [
          "Existing Customer",
          "Attrited Customer"
         ],
         "categoryorder": "array",
         "domain": [
          0.8160000000000001,
          1
         ],
         "matches": "x",
         "title": {
          "text": "Attrition_Flag"
         }
        },
        "yaxis": {
         "anchor": "x",
         "domain": [
          0,
          1
         ],
         "title": {
          "text": "Count"
         }
        },
        "yaxis2": {
         "anchor": "x2",
         "domain": [
          0,
          1
         ],
         "matches": "y",
         "showticklabels": false
        },
        "yaxis3": {
         "anchor": "x3",
         "domain": [
          0,
          1
         ],
         "matches": "y",
         "showticklabels": false
        },
        "yaxis4": {
         "anchor": "x4",
         "domain": [
          0,
          1
         ],
         "matches": "y",
         "showticklabels": false
        },
        "yaxis5": {
         "anchor": "x5",
         "domain": [
          0,
          1
         ],
         "matches": "y",
         "showticklabels": false
        }
       }
      }
     },
     "metadata": {},
     "output_type": "display_data"
    }
   ],
   "source": [
    "# Attrition Bar Graph By Income Category\n",
    "\n",
    "custom_color_scale = ['#1f77b4', '#ff7f0e']\n",
    "\n",
    "\n",
    "fig = px.bar(Attrition_by_Income, x='Attrition_Flag', y='Count',color='Attrition_Flag',\n",
    "             facet_col='Income_Category',\n",
    "            category_orders={'Attrition_Flag': ['Existing Customer', 'Attrited Customer']},\n",
    "            color_discrete_sequence=custom_color_scale)\n",
    "\n",
    "\n",
    "\n",
    "fig.update_layout(title_text='Attrition by Gender',\n",
    "                  xaxis_title='Attrition',\n",
    "                  yaxis_title='Count',\n",
    "                  width=1100,  # Set the width of the plot\n",
    "                  height=500 ) # Set the height of the plot)\n",
    "\n",
    "facet_col_labels = ['$120K +', '$40K - 60K', '$60K - 80K', '$80K - 120K']\n",
    "\n",
    "# Set facet subplot labels\n",
    "for i, label in enumerate(facet_col_labels):\n",
    "    fig['layout']['annotations'][i]['text'] = label\n",
    "\n",
    "annotation_text = \"120K+ Attrition Rate: 20.96%<br>\"\n",
    "annotation_text += \"$40K - 60K Attrition Rate: 17.77%<br>\"\n",
    "\n",
    "fig.add_annotation(text=annotation_text,\n",
    "                   xref=\"paper\", yref=\"paper\",\n",
    "                   x=1.23, y=0.5,\n",
    "                   showarrow=False,\n",
    "                   font=dict(size=10))\n",
    "\n",
    "fig.show()"
   ]
  },
  {
   "cell_type": "code",
   "execution_count": 53,
   "metadata": {},
   "outputs": [
    {
     "data": {
      "text/plain": [
       "array(['Blue', 'Gold', 'Silver', 'Platinum'], dtype=object)"
      ]
     },
     "execution_count": 53,
     "metadata": {},
     "output_type": "execute_result"
    }
   ],
   "source": [
    "cc_cust_data.Card_Category.unique()\n"
   ]
  },
  {
   "cell_type": "code",
   "execution_count": 52,
   "metadata": {},
   "outputs": [
    {
     "name": "stdout",
     "output_type": "stream",
     "text": [
      "F    5358\n",
      "M    4769\n",
      "Name: Gender, dtype: int64\n",
      "\n",
      "Ratio of men to female:  0.89\n",
      "\n",
      "Total Count:  10127\n",
      "Male:  47.09\n",
      "Female:  52.91\n"
     ]
    }
   ],
   "source": [
    "# Group by customer Age - see if there's a correlation between age and attrition || age and any other column\n",
    "gender_counts= cc_cust_data['Gender'].value_counts()\n",
    "print(gender_counts)\n",
    "\n",
    "# Get the ratio of males to females\n",
    "male_count = gender_counts.get('M')\n",
    "female_count = gender_counts.get('F')\n",
    "ratio = round(male_count/female_count, 2)\n",
    "print('\\nRatio of men to female: ', ratio)\n",
    "\n",
    "# Get the percentage of each \n",
    "total_count = cc_cust_data['Gender'].count()\n",
    "male_perc = round((male_count/total_count)*100,2)\n",
    "female_perc = round((female_count/total_count)*100,2)\n",
    "\n",
    "print('\\nTotal Count: ', total_count)\n",
    "print('Male: ', male_perc)\n",
    "print('Female: ', female_perc)"
   ]
  },
  {
   "cell_type": "code",
   "execution_count": 54,
   "metadata": {},
   "outputs": [
    {
     "data": {
      "text/html": [
       "<div>\n",
       "<style scoped>\n",
       "    .dataframe tbody tr th:only-of-type {\n",
       "        vertical-align: middle;\n",
       "    }\n",
       "\n",
       "    .dataframe tbody tr th {\n",
       "        vertical-align: top;\n",
       "    }\n",
       "\n",
       "    .dataframe thead th {\n",
       "        text-align: right;\n",
       "    }\n",
       "</style>\n",
       "<table border=\"1\" class=\"dataframe\">\n",
       "  <thead>\n",
       "    <tr style=\"text-align: right;\">\n",
       "      <th></th>\n",
       "      <th>CLIENTNUM</th>\n",
       "      <th>Customer_Age</th>\n",
       "      <th>Dependent_count</th>\n",
       "      <th>Months_on_book</th>\n",
       "      <th>Total_Relationship_Count</th>\n",
       "      <th>Months_Inactive_12_mon</th>\n",
       "      <th>Contacts_Count_12_mon</th>\n",
       "      <th>Credit_Limit</th>\n",
       "      <th>Total_Revolving_Bal</th>\n",
       "      <th>Avg_Open_To_Buy</th>\n",
       "      <th>Total_Amt_Chng_Q4_Q1</th>\n",
       "      <th>Total_Trans_Amt</th>\n",
       "      <th>Total_Trans_Ct</th>\n",
       "      <th>Total_Ct_Chng_Q4_Q1</th>\n",
       "      <th>Avg_Utilization_Ratio</th>\n",
       "    </tr>\n",
       "  </thead>\n",
       "  <tbody>\n",
       "    <tr>\n",
       "      <th>count</th>\n",
       "      <td>1.160000e+02</td>\n",
       "      <td>116.000000</td>\n",
       "      <td>116.000000</td>\n",
       "      <td>116.000000</td>\n",
       "      <td>116.000000</td>\n",
       "      <td>116.000000</td>\n",
       "      <td>116.000000</td>\n",
       "      <td>116.000000</td>\n",
       "      <td>116.000000</td>\n",
       "      <td>116.000000</td>\n",
       "      <td>116.000000</td>\n",
       "      <td>116.000000</td>\n",
       "      <td>116.000000</td>\n",
       "      <td>116.000000</td>\n",
       "      <td>116.000000</td>\n",
       "    </tr>\n",
       "    <tr>\n",
       "      <th>mean</th>\n",
       "      <td>7.381368e+08</td>\n",
       "      <td>45.439655</td>\n",
       "      <td>2.672414</td>\n",
       "      <td>35.525862</td>\n",
       "      <td>3.008621</td>\n",
       "      <td>2.310345</td>\n",
       "      <td>2.448276</td>\n",
       "      <td>28416.370690</td>\n",
       "      <td>1344.318966</td>\n",
       "      <td>27072.051724</td>\n",
       "      <td>0.772603</td>\n",
       "      <td>7685.612069</td>\n",
       "      <td>81.517241</td>\n",
       "      <td>0.706190</td>\n",
       "      <td>0.057103</td>\n",
       "    </tr>\n",
       "    <tr>\n",
       "      <th>std</th>\n",
       "      <td>3.756108e+07</td>\n",
       "      <td>6.577020</td>\n",
       "      <td>1.310664</td>\n",
       "      <td>6.618106</td>\n",
       "      <td>1.633857</td>\n",
       "      <td>1.074720</td>\n",
       "      <td>1.098179</td>\n",
       "      <td>8673.910045</td>\n",
       "      <td>774.882696</td>\n",
       "      <td>8648.962567</td>\n",
       "      <td>0.198927</td>\n",
       "      <td>4571.753917</td>\n",
       "      <td>26.713775</td>\n",
       "      <td>0.179573</td>\n",
       "      <td>0.059939</td>\n",
       "    </tr>\n",
       "    <tr>\n",
       "      <th>min</th>\n",
       "      <td>7.082268e+08</td>\n",
       "      <td>29.000000</td>\n",
       "      <td>0.000000</td>\n",
       "      <td>18.000000</td>\n",
       "      <td>1.000000</td>\n",
       "      <td>1.000000</td>\n",
       "      <td>0.000000</td>\n",
       "      <td>3735.000000</td>\n",
       "      <td>0.000000</td>\n",
       "      <td>2261.000000</td>\n",
       "      <td>0.196000</td>\n",
       "      <td>966.000000</td>\n",
       "      <td>22.000000</td>\n",
       "      <td>0.214000</td>\n",
       "      <td>0.000000</td>\n",
       "    </tr>\n",
       "    <tr>\n",
       "      <th>25%</th>\n",
       "      <td>7.130641e+08</td>\n",
       "      <td>41.000000</td>\n",
       "      <td>2.000000</td>\n",
       "      <td>33.000000</td>\n",
       "      <td>2.000000</td>\n",
       "      <td>1.000000</td>\n",
       "      <td>2.000000</td>\n",
       "      <td>22724.250000</td>\n",
       "      <td>813.000000</td>\n",
       "      <td>21144.250000</td>\n",
       "      <td>0.696000</td>\n",
       "      <td>4040.500000</td>\n",
       "      <td>66.750000</td>\n",
       "      <td>0.604750</td>\n",
       "      <td>0.029250</td>\n",
       "    </tr>\n",
       "    <tr>\n",
       "      <th>50%</th>\n",
       "      <td>7.168749e+08</td>\n",
       "      <td>46.000000</td>\n",
       "      <td>3.000000</td>\n",
       "      <td>36.000000</td>\n",
       "      <td>2.500000</td>\n",
       "      <td>2.000000</td>\n",
       "      <td>2.000000</td>\n",
       "      <td>34516.000000</td>\n",
       "      <td>1459.000000</td>\n",
       "      <td>32441.500000</td>\n",
       "      <td>0.742000</td>\n",
       "      <td>7652.500000</td>\n",
       "      <td>82.000000</td>\n",
       "      <td>0.723000</td>\n",
       "      <td>0.050500</td>\n",
       "    </tr>\n",
       "    <tr>\n",
       "      <th>75%</th>\n",
       "      <td>7.729482e+08</td>\n",
       "      <td>49.000000</td>\n",
       "      <td>4.000000</td>\n",
       "      <td>38.000000</td>\n",
       "      <td>4.000000</td>\n",
       "      <td>3.000000</td>\n",
       "      <td>3.000000</td>\n",
       "      <td>34516.000000</td>\n",
       "      <td>1952.250000</td>\n",
       "      <td>33238.500000</td>\n",
       "      <td>0.833250</td>\n",
       "      <td>9320.000000</td>\n",
       "      <td>100.250000</td>\n",
       "      <td>0.783500</td>\n",
       "      <td>0.070250</td>\n",
       "    </tr>\n",
       "    <tr>\n",
       "      <th>max</th>\n",
       "      <td>8.273330e+08</td>\n",
       "      <td>63.000000</td>\n",
       "      <td>5.000000</td>\n",
       "      <td>55.000000</td>\n",
       "      <td>6.000000</td>\n",
       "      <td>6.000000</td>\n",
       "      <td>6.000000</td>\n",
       "      <td>34516.000000</td>\n",
       "      <td>2517.000000</td>\n",
       "      <td>34516.000000</td>\n",
       "      <td>1.975000</td>\n",
       "      <td>16328.000000</td>\n",
       "      <td>131.000000</td>\n",
       "      <td>1.250000</td>\n",
       "      <td>0.395000</td>\n",
       "    </tr>\n",
       "  </tbody>\n",
       "</table>\n",
       "</div>"
      ],
      "text/plain": [
       "          CLIENTNUM  Customer_Age  Dependent_count  Months_on_book  \\\n",
       "count  1.160000e+02    116.000000       116.000000      116.000000   \n",
       "mean   7.381368e+08     45.439655         2.672414       35.525862   \n",
       "std    3.756108e+07      6.577020         1.310664        6.618106   \n",
       "min    7.082268e+08     29.000000         0.000000       18.000000   \n",
       "25%    7.130641e+08     41.000000         2.000000       33.000000   \n",
       "50%    7.168749e+08     46.000000         3.000000       36.000000   \n",
       "75%    7.729482e+08     49.000000         4.000000       38.000000   \n",
       "max    8.273330e+08     63.000000         5.000000       55.000000   \n",
       "\n",
       "       Total_Relationship_Count  Months_Inactive_12_mon  \\\n",
       "count                116.000000              116.000000   \n",
       "mean                   3.008621                2.310345   \n",
       "std                    1.633857                1.074720   \n",
       "min                    1.000000                1.000000   \n",
       "25%                    2.000000                1.000000   \n",
       "50%                    2.500000                2.000000   \n",
       "75%                    4.000000                3.000000   \n",
       "max                    6.000000                6.000000   \n",
       "\n",
       "       Contacts_Count_12_mon  Credit_Limit  Total_Revolving_Bal  \\\n",
       "count             116.000000    116.000000           116.000000   \n",
       "mean                2.448276  28416.370690          1344.318966   \n",
       "std                 1.098179   8673.910045           774.882696   \n",
       "min                 0.000000   3735.000000             0.000000   \n",
       "25%                 2.000000  22724.250000           813.000000   \n",
       "50%                 2.000000  34516.000000          1459.000000   \n",
       "75%                 3.000000  34516.000000          1952.250000   \n",
       "max                 6.000000  34516.000000          2517.000000   \n",
       "\n",
       "       Avg_Open_To_Buy  Total_Amt_Chng_Q4_Q1  Total_Trans_Amt  Total_Trans_Ct  \\\n",
       "count       116.000000            116.000000       116.000000      116.000000   \n",
       "mean      27072.051724              0.772603      7685.612069       81.517241   \n",
       "std        8648.962567              0.198927      4571.753917       26.713775   \n",
       "min        2261.000000              0.196000       966.000000       22.000000   \n",
       "25%       21144.250000              0.696000      4040.500000       66.750000   \n",
       "50%       32441.500000              0.742000      7652.500000       82.000000   \n",
       "75%       33238.500000              0.833250      9320.000000      100.250000   \n",
       "max       34516.000000              1.975000     16328.000000      131.000000   \n",
       "\n",
       "       Total_Ct_Chng_Q4_Q1  Avg_Utilization_Ratio  \n",
       "count           116.000000             116.000000  \n",
       "mean              0.706190               0.057103  \n",
       "std               0.179573               0.059939  \n",
       "min               0.214000               0.000000  \n",
       "25%               0.604750               0.029250  \n",
       "50%               0.723000               0.050500  \n",
       "75%               0.783500               0.070250  \n",
       "max               1.250000               0.395000  "
      ]
     },
     "execution_count": 54,
     "metadata": {},
     "output_type": "execute_result"
    }
   ],
   "source": [
    "# Delving into the Card Category\n",
    "gold_category= cc_cust_data[cc_cust_data['Card_Category'] == 'Gold']\n",
    "gold_category.describe()"
   ]
  },
  {
   "cell_type": "code",
   "execution_count": 55,
   "metadata": {},
   "outputs": [
    {
     "data": {
      "application/vnd.plotly.v1+json": {
       "config": {
        "plotlyServerURL": "https://plot.ly"
       },
       "data": [
        {
         "alignmentgroup": "True",
         "hovertemplate": "Attrition_Flag=Attrited Customer<br>Card_Category=Blue<br>Gender=%{x}<br>Count=%{y}<extra></extra>",
         "legendgroup": "Attrited Customer",
         "marker": {
          "color": "#1f77b4",
          "pattern": {
           "shape": ""
          }
         },
         "name": "Attrited Customer",
         "offsetgroup": "Attrited Customer",
         "orientation": "v",
         "showlegend": true,
         "textposition": "auto",
         "type": "bar",
         "x": [
          "F",
          "M"
         ],
         "xaxis": "x",
         "y": [
          890,
          629
         ],
         "yaxis": "y"
        },
        {
         "alignmentgroup": "True",
         "hovertemplate": "Attrition_Flag=Attrited Customer<br>Card_Category=Gold<br>Gender=%{x}<br>Count=%{y}<extra></extra>",
         "legendgroup": "Attrited Customer",
         "marker": {
          "color": "#1f77b4",
          "pattern": {
           "shape": ""
          }
         },
         "name": "Attrited Customer",
         "offsetgroup": "Attrited Customer",
         "orientation": "v",
         "showlegend": false,
         "textposition": "auto",
         "type": "bar",
         "x": [
          "F",
          "M"
         ],
         "xaxis": "x2",
         "y": [
          8,
          13
         ],
         "yaxis": "y2"
        },
        {
         "alignmentgroup": "True",
         "hovertemplate": "Attrition_Flag=Attrited Customer<br>Card_Category=Platinum<br>Gender=%{x}<br>Count=%{y}<extra></extra>",
         "legendgroup": "Attrited Customer",
         "marker": {
          "color": "#1f77b4",
          "pattern": {
           "shape": ""
          }
         },
         "name": "Attrited Customer",
         "offsetgroup": "Attrited Customer",
         "orientation": "v",
         "showlegend": false,
         "textposition": "auto",
         "type": "bar",
         "x": [
          "F",
          "M"
         ],
         "xaxis": "x3",
         "y": [
          4,
          1
         ],
         "yaxis": "y3"
        },
        {
         "alignmentgroup": "True",
         "hovertemplate": "Attrition_Flag=Attrited Customer<br>Card_Category=Silver<br>Gender=%{x}<br>Count=%{y}<extra></extra>",
         "legendgroup": "Attrited Customer",
         "marker": {
          "color": "#1f77b4",
          "pattern": {
           "shape": ""
          }
         },
         "name": "Attrited Customer",
         "offsetgroup": "Attrited Customer",
         "orientation": "v",
         "showlegend": false,
         "textposition": "auto",
         "type": "bar",
         "x": [
          "F",
          "M"
         ],
         "xaxis": "x4",
         "y": [
          28,
          54
         ],
         "yaxis": "y4"
        },
        {
         "alignmentgroup": "True",
         "hovertemplate": "Attrition_Flag=Existing Customer<br>Card_Category=Blue<br>Gender=%{x}<br>Count=%{y}<extra></extra>",
         "legendgroup": "Existing Customer",
         "marker": {
          "color": "#ff7f0e",
          "pattern": {
           "shape": ""
          }
         },
         "name": "Existing Customer",
         "offsetgroup": "Existing Customer",
         "orientation": "v",
         "showlegend": true,
         "textposition": "auto",
         "type": "bar",
         "x": [
          "F",
          "M"
         ],
         "xaxis": "x",
         "y": [
          4211,
          3706
         ],
         "yaxis": "y"
        },
        {
         "alignmentgroup": "True",
         "hovertemplate": "Attrition_Flag=Existing Customer<br>Card_Category=Gold<br>Gender=%{x}<br>Count=%{y}<extra></extra>",
         "legendgroup": "Existing Customer",
         "marker": {
          "color": "#ff7f0e",
          "pattern": {
           "shape": ""
          }
         },
         "name": "Existing Customer",
         "offsetgroup": "Existing Customer",
         "orientation": "v",
         "showlegend": false,
         "textposition": "auto",
         "type": "bar",
         "x": [
          "F",
          "M"
         ],
         "xaxis": "x2",
         "y": [
          30,
          65
         ],
         "yaxis": "y2"
        },
        {
         "alignmentgroup": "True",
         "hovertemplate": "Attrition_Flag=Existing Customer<br>Card_Category=Platinum<br>Gender=%{x}<br>Count=%{y}<extra></extra>",
         "legendgroup": "Existing Customer",
         "marker": {
          "color": "#ff7f0e",
          "pattern": {
           "shape": ""
          }
         },
         "name": "Existing Customer",
         "offsetgroup": "Existing Customer",
         "orientation": "v",
         "showlegend": false,
         "textposition": "auto",
         "type": "bar",
         "x": [
          "F",
          "M"
         ],
         "xaxis": "x3",
         "y": [
          5,
          10
         ],
         "yaxis": "y3"
        },
        {
         "alignmentgroup": "True",
         "hovertemplate": "Attrition_Flag=Existing Customer<br>Card_Category=Silver<br>Gender=%{x}<br>Count=%{y}<extra></extra>",
         "legendgroup": "Existing Customer",
         "marker": {
          "color": "#ff7f0e",
          "pattern": {
           "shape": ""
          }
         },
         "name": "Existing Customer",
         "offsetgroup": "Existing Customer",
         "orientation": "v",
         "showlegend": false,
         "textposition": "auto",
         "type": "bar",
         "x": [
          "F",
          "M"
         ],
         "xaxis": "x4",
         "y": [
          182,
          291
         ],
         "yaxis": "y4"
        }
       ],
       "layout": {
        "annotations": [
         {
          "font": {},
          "showarrow": false,
          "text": "Card_Category=Blue",
          "x": 0.1175,
          "xanchor": "center",
          "xref": "paper",
          "y": 1,
          "yanchor": "bottom",
          "yref": "paper"
         },
         {
          "font": {},
          "showarrow": false,
          "text": "Card_Category=Gold",
          "x": 0.3725,
          "xanchor": "center",
          "xref": "paper",
          "y": 1,
          "yanchor": "bottom",
          "yref": "paper"
         },
         {
          "font": {},
          "showarrow": false,
          "text": "Card_Category=Platinum",
          "x": 0.6275,
          "xanchor": "center",
          "xref": "paper",
          "y": 1,
          "yanchor": "bottom",
          "yref": "paper"
         },
         {
          "font": {},
          "showarrow": false,
          "text": "Card_Category=Silver",
          "x": 0.8824999999999998,
          "xanchor": "center",
          "xref": "paper",
          "y": 1,
          "yanchor": "bottom",
          "yref": "paper"
         }
        ],
        "barmode": "relative",
        "legend": {
         "title": {
          "text": "Attrition_Flag"
         },
         "tracegroupgap": 0
        },
        "margin": {
         "t": 60
        },
        "template": {
         "data": {
          "bar": [
           {
            "error_x": {
             "color": "#2a3f5f"
            },
            "error_y": {
             "color": "#2a3f5f"
            },
            "marker": {
             "line": {
              "color": "#E5ECF6",
              "width": 0.5
             },
             "pattern": {
              "fillmode": "overlay",
              "size": 10,
              "solidity": 0.2
             }
            },
            "type": "bar"
           }
          ],
          "barpolar": [
           {
            "marker": {
             "line": {
              "color": "#E5ECF6",
              "width": 0.5
             },
             "pattern": {
              "fillmode": "overlay",
              "size": 10,
              "solidity": 0.2
             }
            },
            "type": "barpolar"
           }
          ],
          "carpet": [
           {
            "aaxis": {
             "endlinecolor": "#2a3f5f",
             "gridcolor": "white",
             "linecolor": "white",
             "minorgridcolor": "white",
             "startlinecolor": "#2a3f5f"
            },
            "baxis": {
             "endlinecolor": "#2a3f5f",
             "gridcolor": "white",
             "linecolor": "white",
             "minorgridcolor": "white",
             "startlinecolor": "#2a3f5f"
            },
            "type": "carpet"
           }
          ],
          "choropleth": [
           {
            "colorbar": {
             "outlinewidth": 0,
             "ticks": ""
            },
            "type": "choropleth"
           }
          ],
          "contour": [
           {
            "colorbar": {
             "outlinewidth": 0,
             "ticks": ""
            },
            "colorscale": [
             [
              0,
              "#0d0887"
             ],
             [
              0.1111111111111111,
              "#46039f"
             ],
             [
              0.2222222222222222,
              "#7201a8"
             ],
             [
              0.3333333333333333,
              "#9c179e"
             ],
             [
              0.4444444444444444,
              "#bd3786"
             ],
             [
              0.5555555555555556,
              "#d8576b"
             ],
             [
              0.6666666666666666,
              "#ed7953"
             ],
             [
              0.7777777777777778,
              "#fb9f3a"
             ],
             [
              0.8888888888888888,
              "#fdca26"
             ],
             [
              1,
              "#f0f921"
             ]
            ],
            "type": "contour"
           }
          ],
          "contourcarpet": [
           {
            "colorbar": {
             "outlinewidth": 0,
             "ticks": ""
            },
            "type": "contourcarpet"
           }
          ],
          "heatmap": [
           {
            "colorbar": {
             "outlinewidth": 0,
             "ticks": ""
            },
            "colorscale": [
             [
              0,
              "#0d0887"
             ],
             [
              0.1111111111111111,
              "#46039f"
             ],
             [
              0.2222222222222222,
              "#7201a8"
             ],
             [
              0.3333333333333333,
              "#9c179e"
             ],
             [
              0.4444444444444444,
              "#bd3786"
             ],
             [
              0.5555555555555556,
              "#d8576b"
             ],
             [
              0.6666666666666666,
              "#ed7953"
             ],
             [
              0.7777777777777778,
              "#fb9f3a"
             ],
             [
              0.8888888888888888,
              "#fdca26"
             ],
             [
              1,
              "#f0f921"
             ]
            ],
            "type": "heatmap"
           }
          ],
          "heatmapgl": [
           {
            "colorbar": {
             "outlinewidth": 0,
             "ticks": ""
            },
            "colorscale": [
             [
              0,
              "#0d0887"
             ],
             [
              0.1111111111111111,
              "#46039f"
             ],
             [
              0.2222222222222222,
              "#7201a8"
             ],
             [
              0.3333333333333333,
              "#9c179e"
             ],
             [
              0.4444444444444444,
              "#bd3786"
             ],
             [
              0.5555555555555556,
              "#d8576b"
             ],
             [
              0.6666666666666666,
              "#ed7953"
             ],
             [
              0.7777777777777778,
              "#fb9f3a"
             ],
             [
              0.8888888888888888,
              "#fdca26"
             ],
             [
              1,
              "#f0f921"
             ]
            ],
            "type": "heatmapgl"
           }
          ],
          "histogram": [
           {
            "marker": {
             "pattern": {
              "fillmode": "overlay",
              "size": 10,
              "solidity": 0.2
             }
            },
            "type": "histogram"
           }
          ],
          "histogram2d": [
           {
            "colorbar": {
             "outlinewidth": 0,
             "ticks": ""
            },
            "colorscale": [
             [
              0,
              "#0d0887"
             ],
             [
              0.1111111111111111,
              "#46039f"
             ],
             [
              0.2222222222222222,
              "#7201a8"
             ],
             [
              0.3333333333333333,
              "#9c179e"
             ],
             [
              0.4444444444444444,
              "#bd3786"
             ],
             [
              0.5555555555555556,
              "#d8576b"
             ],
             [
              0.6666666666666666,
              "#ed7953"
             ],
             [
              0.7777777777777778,
              "#fb9f3a"
             ],
             [
              0.8888888888888888,
              "#fdca26"
             ],
             [
              1,
              "#f0f921"
             ]
            ],
            "type": "histogram2d"
           }
          ],
          "histogram2dcontour": [
           {
            "colorbar": {
             "outlinewidth": 0,
             "ticks": ""
            },
            "colorscale": [
             [
              0,
              "#0d0887"
             ],
             [
              0.1111111111111111,
              "#46039f"
             ],
             [
              0.2222222222222222,
              "#7201a8"
             ],
             [
              0.3333333333333333,
              "#9c179e"
             ],
             [
              0.4444444444444444,
              "#bd3786"
             ],
             [
              0.5555555555555556,
              "#d8576b"
             ],
             [
              0.6666666666666666,
              "#ed7953"
             ],
             [
              0.7777777777777778,
              "#fb9f3a"
             ],
             [
              0.8888888888888888,
              "#fdca26"
             ],
             [
              1,
              "#f0f921"
             ]
            ],
            "type": "histogram2dcontour"
           }
          ],
          "mesh3d": [
           {
            "colorbar": {
             "outlinewidth": 0,
             "ticks": ""
            },
            "type": "mesh3d"
           }
          ],
          "parcoords": [
           {
            "line": {
             "colorbar": {
              "outlinewidth": 0,
              "ticks": ""
             }
            },
            "type": "parcoords"
           }
          ],
          "pie": [
           {
            "automargin": true,
            "type": "pie"
           }
          ],
          "scatter": [
           {
            "fillpattern": {
             "fillmode": "overlay",
             "size": 10,
             "solidity": 0.2
            },
            "type": "scatter"
           }
          ],
          "scatter3d": [
           {
            "line": {
             "colorbar": {
              "outlinewidth": 0,
              "ticks": ""
             }
            },
            "marker": {
             "colorbar": {
              "outlinewidth": 0,
              "ticks": ""
             }
            },
            "type": "scatter3d"
           }
          ],
          "scattercarpet": [
           {
            "marker": {
             "colorbar": {
              "outlinewidth": 0,
              "ticks": ""
             }
            },
            "type": "scattercarpet"
           }
          ],
          "scattergeo": [
           {
            "marker": {
             "colorbar": {
              "outlinewidth": 0,
              "ticks": ""
             }
            },
            "type": "scattergeo"
           }
          ],
          "scattergl": [
           {
            "marker": {
             "colorbar": {
              "outlinewidth": 0,
              "ticks": ""
             }
            },
            "type": "scattergl"
           }
          ],
          "scattermapbox": [
           {
            "marker": {
             "colorbar": {
              "outlinewidth": 0,
              "ticks": ""
             }
            },
            "type": "scattermapbox"
           }
          ],
          "scatterpolar": [
           {
            "marker": {
             "colorbar": {
              "outlinewidth": 0,
              "ticks": ""
             }
            },
            "type": "scatterpolar"
           }
          ],
          "scatterpolargl": [
           {
            "marker": {
             "colorbar": {
              "outlinewidth": 0,
              "ticks": ""
             }
            },
            "type": "scatterpolargl"
           }
          ],
          "scatterternary": [
           {
            "marker": {
             "colorbar": {
              "outlinewidth": 0,
              "ticks": ""
             }
            },
            "type": "scatterternary"
           }
          ],
          "surface": [
           {
            "colorbar": {
             "outlinewidth": 0,
             "ticks": ""
            },
            "colorscale": [
             [
              0,
              "#0d0887"
             ],
             [
              0.1111111111111111,
              "#46039f"
             ],
             [
              0.2222222222222222,
              "#7201a8"
             ],
             [
              0.3333333333333333,
              "#9c179e"
             ],
             [
              0.4444444444444444,
              "#bd3786"
             ],
             [
              0.5555555555555556,
              "#d8576b"
             ],
             [
              0.6666666666666666,
              "#ed7953"
             ],
             [
              0.7777777777777778,
              "#fb9f3a"
             ],
             [
              0.8888888888888888,
              "#fdca26"
             ],
             [
              1,
              "#f0f921"
             ]
            ],
            "type": "surface"
           }
          ],
          "table": [
           {
            "cells": {
             "fill": {
              "color": "#EBF0F8"
             },
             "line": {
              "color": "white"
             }
            },
            "header": {
             "fill": {
              "color": "#C8D4E3"
             },
             "line": {
              "color": "white"
             }
            },
            "type": "table"
           }
          ]
         },
         "layout": {
          "annotationdefaults": {
           "arrowcolor": "#2a3f5f",
           "arrowhead": 0,
           "arrowwidth": 1
          },
          "autotypenumbers": "strict",
          "coloraxis": {
           "colorbar": {
            "outlinewidth": 0,
            "ticks": ""
           }
          },
          "colorscale": {
           "diverging": [
            [
             0,
             "#8e0152"
            ],
            [
             0.1,
             "#c51b7d"
            ],
            [
             0.2,
             "#de77ae"
            ],
            [
             0.3,
             "#f1b6da"
            ],
            [
             0.4,
             "#fde0ef"
            ],
            [
             0.5,
             "#f7f7f7"
            ],
            [
             0.6,
             "#e6f5d0"
            ],
            [
             0.7,
             "#b8e186"
            ],
            [
             0.8,
             "#7fbc41"
            ],
            [
             0.9,
             "#4d9221"
            ],
            [
             1,
             "#276419"
            ]
           ],
           "sequential": [
            [
             0,
             "#0d0887"
            ],
            [
             0.1111111111111111,
             "#46039f"
            ],
            [
             0.2222222222222222,
             "#7201a8"
            ],
            [
             0.3333333333333333,
             "#9c179e"
            ],
            [
             0.4444444444444444,
             "#bd3786"
            ],
            [
             0.5555555555555556,
             "#d8576b"
            ],
            [
             0.6666666666666666,
             "#ed7953"
            ],
            [
             0.7777777777777778,
             "#fb9f3a"
            ],
            [
             0.8888888888888888,
             "#fdca26"
            ],
            [
             1,
             "#f0f921"
            ]
           ],
           "sequentialminus": [
            [
             0,
             "#0d0887"
            ],
            [
             0.1111111111111111,
             "#46039f"
            ],
            [
             0.2222222222222222,
             "#7201a8"
            ],
            [
             0.3333333333333333,
             "#9c179e"
            ],
            [
             0.4444444444444444,
             "#bd3786"
            ],
            [
             0.5555555555555556,
             "#d8576b"
            ],
            [
             0.6666666666666666,
             "#ed7953"
            ],
            [
             0.7777777777777778,
             "#fb9f3a"
            ],
            [
             0.8888888888888888,
             "#fdca26"
            ],
            [
             1,
             "#f0f921"
            ]
           ]
          },
          "colorway": [
           "#636efa",
           "#EF553B",
           "#00cc96",
           "#ab63fa",
           "#FFA15A",
           "#19d3f3",
           "#FF6692",
           "#B6E880",
           "#FF97FF",
           "#FECB52"
          ],
          "font": {
           "color": "#2a3f5f"
          },
          "geo": {
           "bgcolor": "white",
           "lakecolor": "white",
           "landcolor": "#E5ECF6",
           "showlakes": true,
           "showland": true,
           "subunitcolor": "white"
          },
          "hoverlabel": {
           "align": "left"
          },
          "hovermode": "closest",
          "mapbox": {
           "style": "light"
          },
          "paper_bgcolor": "white",
          "plot_bgcolor": "#E5ECF6",
          "polar": {
           "angularaxis": {
            "gridcolor": "white",
            "linecolor": "white",
            "ticks": ""
           },
           "bgcolor": "#E5ECF6",
           "radialaxis": {
            "gridcolor": "white",
            "linecolor": "white",
            "ticks": ""
           }
          },
          "scene": {
           "xaxis": {
            "backgroundcolor": "#E5ECF6",
            "gridcolor": "white",
            "gridwidth": 2,
            "linecolor": "white",
            "showbackground": true,
            "ticks": "",
            "zerolinecolor": "white"
           },
           "yaxis": {
            "backgroundcolor": "#E5ECF6",
            "gridcolor": "white",
            "gridwidth": 2,
            "linecolor": "white",
            "showbackground": true,
            "ticks": "",
            "zerolinecolor": "white"
           },
           "zaxis": {
            "backgroundcolor": "#E5ECF6",
            "gridcolor": "white",
            "gridwidth": 2,
            "linecolor": "white",
            "showbackground": true,
            "ticks": "",
            "zerolinecolor": "white"
           }
          },
          "shapedefaults": {
           "line": {
            "color": "#2a3f5f"
           }
          },
          "ternary": {
           "aaxis": {
            "gridcolor": "white",
            "linecolor": "white",
            "ticks": ""
           },
           "baxis": {
            "gridcolor": "white",
            "linecolor": "white",
            "ticks": ""
           },
           "bgcolor": "#E5ECF6",
           "caxis": {
            "gridcolor": "white",
            "linecolor": "white",
            "ticks": ""
           }
          },
          "title": {
           "x": 0.05
          },
          "xaxis": {
           "automargin": true,
           "gridcolor": "white",
           "linecolor": "white",
           "ticks": "",
           "title": {
            "standoff": 15
           },
           "zerolinecolor": "white",
           "zerolinewidth": 2
          },
          "yaxis": {
           "automargin": true,
           "gridcolor": "white",
           "linecolor": "white",
           "ticks": "",
           "title": {
            "standoff": 15
           },
           "zerolinecolor": "white",
           "zerolinewidth": 2
          }
         }
        },
        "title": {
         "text": "Attrition by Card Category and Gender"
        },
        "xaxis": {
         "anchor": "y",
         "categoryarray": [
          "F",
          "M"
         ],
         "categoryorder": "array",
         "domain": [
          0,
          0.235
         ],
         "title": {
          "text": "Card Category"
         }
        },
        "xaxis2": {
         "anchor": "y2",
         "categoryarray": [
          "F",
          "M"
         ],
         "categoryorder": "array",
         "domain": [
          0.255,
          0.49
         ],
         "matches": "x",
         "title": {
          "text": "Gender"
         }
        },
        "xaxis3": {
         "anchor": "y3",
         "categoryarray": [
          "F",
          "M"
         ],
         "categoryorder": "array",
         "domain": [
          0.51,
          0.745
         ],
         "matches": "x",
         "title": {
          "text": "Gender"
         }
        },
        "xaxis4": {
         "anchor": "y4",
         "categoryarray": [
          "F",
          "M"
         ],
         "categoryorder": "array",
         "domain": [
          0.7649999999999999,
          0.9999999999999999
         ],
         "matches": "x",
         "title": {
          "text": "Gender"
         }
        },
        "yaxis": {
         "anchor": "x",
         "domain": [
          0,
          1
         ],
         "title": {
          "text": "Count"
         }
        },
        "yaxis2": {
         "anchor": "x2",
         "domain": [
          0,
          1
         ],
         "matches": "y",
         "showticklabels": false
        },
        "yaxis3": {
         "anchor": "x3",
         "domain": [
          0,
          1
         ],
         "matches": "y",
         "showticklabels": false
        },
        "yaxis4": {
         "anchor": "x4",
         "domain": [
          0,
          1
         ],
         "matches": "y",
         "showticklabels": false
        }
       }
      }
     },
     "metadata": {},
     "output_type": "display_data"
    }
   ],
   "source": [
    "gender_counts_by_category = cc_cust_data.groupby(['Card_Category','Gender','Attrition_Flag']).size()\n",
    "gender_counts_by_category = gender_counts_by_category.reset_index(name='Count')\n",
    "\n",
    "custom_color_scale = ['#1f77b4', '#ff7f0e']\n",
    "\n",
    "fig = px.bar(gender_counts_by_category, x='Gender', y='Count', color='Attrition_Flag', facet_col='Card_Category',\n",
    "             category_orders={'Gender': ['F', 'M']}, color_discrete_sequence=custom_color_scale)\n",
    "\n",
    "# Update layout for better visualization\n",
    "fig.update_layout(title_text='Attrition by Card Category and Gender',\n",
    "                  xaxis_title='Card Category',\n",
    "                  yaxis_title='Count')\n",
    "\n",
    "# Show the plot\n",
    "fig.show()"
   ]
  },
  {
   "cell_type": "code",
   "execution_count": 56,
   "metadata": {},
   "outputs": [
    {
     "data": {
      "text/html": [
       "<div>\n",
       "<style scoped>\n",
       "    .dataframe tbody tr th:only-of-type {\n",
       "        vertical-align: middle;\n",
       "    }\n",
       "\n",
       "    .dataframe tbody tr th {\n",
       "        vertical-align: top;\n",
       "    }\n",
       "\n",
       "    .dataframe thead th {\n",
       "        text-align: right;\n",
       "    }\n",
       "</style>\n",
       "<table border=\"1\" class=\"dataframe\">\n",
       "  <thead>\n",
       "    <tr style=\"text-align: right;\">\n",
       "      <th></th>\n",
       "      <th>Gender</th>\n",
       "      <th>Card_Category</th>\n",
       "      <th>Attrition_Flag</th>\n",
       "      <th>Count</th>\n",
       "    </tr>\n",
       "  </thead>\n",
       "  <tbody>\n",
       "    <tr>\n",
       "      <th>0</th>\n",
       "      <td>F</td>\n",
       "      <td>Blue</td>\n",
       "      <td>Attrited Customer</td>\n",
       "      <td>890</td>\n",
       "    </tr>\n",
       "    <tr>\n",
       "      <th>1</th>\n",
       "      <td>F</td>\n",
       "      <td>Blue</td>\n",
       "      <td>Existing Customer</td>\n",
       "      <td>4211</td>\n",
       "    </tr>\n",
       "    <tr>\n",
       "      <th>2</th>\n",
       "      <td>F</td>\n",
       "      <td>Gold</td>\n",
       "      <td>Attrited Customer</td>\n",
       "      <td>8</td>\n",
       "    </tr>\n",
       "    <tr>\n",
       "      <th>3</th>\n",
       "      <td>F</td>\n",
       "      <td>Gold</td>\n",
       "      <td>Existing Customer</td>\n",
       "      <td>30</td>\n",
       "    </tr>\n",
       "    <tr>\n",
       "      <th>4</th>\n",
       "      <td>F</td>\n",
       "      <td>Platinum</td>\n",
       "      <td>Attrited Customer</td>\n",
       "      <td>4</td>\n",
       "    </tr>\n",
       "    <tr>\n",
       "      <th>5</th>\n",
       "      <td>F</td>\n",
       "      <td>Platinum</td>\n",
       "      <td>Existing Customer</td>\n",
       "      <td>5</td>\n",
       "    </tr>\n",
       "    <tr>\n",
       "      <th>6</th>\n",
       "      <td>F</td>\n",
       "      <td>Silver</td>\n",
       "      <td>Attrited Customer</td>\n",
       "      <td>28</td>\n",
       "    </tr>\n",
       "    <tr>\n",
       "      <th>7</th>\n",
       "      <td>F</td>\n",
       "      <td>Silver</td>\n",
       "      <td>Existing Customer</td>\n",
       "      <td>182</td>\n",
       "    </tr>\n",
       "    <tr>\n",
       "      <th>8</th>\n",
       "      <td>M</td>\n",
       "      <td>Blue</td>\n",
       "      <td>Attrited Customer</td>\n",
       "      <td>629</td>\n",
       "    </tr>\n",
       "    <tr>\n",
       "      <th>9</th>\n",
       "      <td>M</td>\n",
       "      <td>Blue</td>\n",
       "      <td>Existing Customer</td>\n",
       "      <td>3706</td>\n",
       "    </tr>\n",
       "    <tr>\n",
       "      <th>10</th>\n",
       "      <td>M</td>\n",
       "      <td>Gold</td>\n",
       "      <td>Attrited Customer</td>\n",
       "      <td>13</td>\n",
       "    </tr>\n",
       "    <tr>\n",
       "      <th>11</th>\n",
       "      <td>M</td>\n",
       "      <td>Gold</td>\n",
       "      <td>Existing Customer</td>\n",
       "      <td>65</td>\n",
       "    </tr>\n",
       "    <tr>\n",
       "      <th>12</th>\n",
       "      <td>M</td>\n",
       "      <td>Platinum</td>\n",
       "      <td>Attrited Customer</td>\n",
       "      <td>1</td>\n",
       "    </tr>\n",
       "    <tr>\n",
       "      <th>13</th>\n",
       "      <td>M</td>\n",
       "      <td>Platinum</td>\n",
       "      <td>Existing Customer</td>\n",
       "      <td>10</td>\n",
       "    </tr>\n",
       "    <tr>\n",
       "      <th>14</th>\n",
       "      <td>M</td>\n",
       "      <td>Silver</td>\n",
       "      <td>Attrited Customer</td>\n",
       "      <td>54</td>\n",
       "    </tr>\n",
       "    <tr>\n",
       "      <th>15</th>\n",
       "      <td>M</td>\n",
       "      <td>Silver</td>\n",
       "      <td>Existing Customer</td>\n",
       "      <td>291</td>\n",
       "    </tr>\n",
       "  </tbody>\n",
       "</table>\n",
       "</div>"
      ],
      "text/plain": [
       "   Gender Card_Category     Attrition_Flag  Count\n",
       "0       F          Blue  Attrited Customer    890\n",
       "1       F          Blue  Existing Customer   4211\n",
       "2       F          Gold  Attrited Customer      8\n",
       "3       F          Gold  Existing Customer     30\n",
       "4       F      Platinum  Attrited Customer      4\n",
       "5       F      Platinum  Existing Customer      5\n",
       "6       F        Silver  Attrited Customer     28\n",
       "7       F        Silver  Existing Customer    182\n",
       "8       M          Blue  Attrited Customer    629\n",
       "9       M          Blue  Existing Customer   3706\n",
       "10      M          Gold  Attrited Customer     13\n",
       "11      M          Gold  Existing Customer     65\n",
       "12      M      Platinum  Attrited Customer      1\n",
       "13      M      Platinum  Existing Customer     10\n",
       "14      M        Silver  Attrited Customer     54\n",
       "15      M        Silver  Existing Customer    291"
      ]
     },
     "execution_count": 56,
     "metadata": {},
     "output_type": "execute_result"
    }
   ],
   "source": [
    "gender_counts_by_category = cc_cust_data.groupby(['Gender','Card_Category','Attrition_Flag']).size()\n",
    "gender_counts_by_category = gender_counts_by_category.reset_index(name='Count')\n",
    "gender_counts_by_category"
   ]
  },
  {
   "cell_type": "code",
   "execution_count": 57,
   "metadata": {},
   "outputs": [
    {
     "data": {
      "application/vnd.plotly.v1+json": {
       "config": {
        "plotlyServerURL": "https://plot.ly"
       },
       "data": [
        {
         "alignmentgroup": "True",
         "hovertemplate": "Attrition_Flag=Attrited Customer<br>Card_Category=%{y}<extra></extra>",
         "legendgroup": "Attrited Customer",
         "marker": {
          "color": "#1f77b4",
          "pattern": {
           "shape": ""
          }
         },
         "name": "Attrited Customer",
         "offsetgroup": "Attrited Customer",
         "orientation": "v",
         "showlegend": true,
         "textposition": "auto",
         "type": "bar",
         "x": [
          "Blue",
          "Blue"
         ],
         "xaxis": "x",
         "y": [
          "Blue",
          "Blue"
         ],
         "yaxis": "y"
        },
        {
         "alignmentgroup": "True",
         "hovertemplate": "Attrition_Flag=Attrited Customer<br>Card_Category=%{y}<extra></extra>",
         "legendgroup": "Attrited Customer",
         "marker": {
          "color": "#1f77b4",
          "pattern": {
           "shape": ""
          }
         },
         "name": "Attrited Customer",
         "offsetgroup": "Attrited Customer",
         "orientation": "v",
         "showlegend": false,
         "textposition": "auto",
         "type": "bar",
         "x": [
          "Gold",
          "Gold"
         ],
         "xaxis": "x2",
         "y": [
          "Gold",
          "Gold"
         ],
         "yaxis": "y2"
        },
        {
         "alignmentgroup": "True",
         "hovertemplate": "Attrition_Flag=Attrited Customer<br>Card_Category=%{y}<extra></extra>",
         "legendgroup": "Attrited Customer",
         "marker": {
          "color": "#1f77b4",
          "pattern": {
           "shape": ""
          }
         },
         "name": "Attrited Customer",
         "offsetgroup": "Attrited Customer",
         "orientation": "v",
         "showlegend": false,
         "textposition": "auto",
         "type": "bar",
         "x": [
          "Platinum",
          "Platinum"
         ],
         "xaxis": "x3",
         "y": [
          "Platinum",
          "Platinum"
         ],
         "yaxis": "y3"
        },
        {
         "alignmentgroup": "True",
         "hovertemplate": "Attrition_Flag=Attrited Customer<br>Card_Category=%{y}<extra></extra>",
         "legendgroup": "Attrited Customer",
         "marker": {
          "color": "#1f77b4",
          "pattern": {
           "shape": ""
          }
         },
         "name": "Attrited Customer",
         "offsetgroup": "Attrited Customer",
         "orientation": "v",
         "showlegend": false,
         "textposition": "auto",
         "type": "bar",
         "x": [
          "Silver",
          "Silver"
         ],
         "xaxis": "x4",
         "y": [
          "Silver",
          "Silver"
         ],
         "yaxis": "y4"
        },
        {
         "alignmentgroup": "True",
         "hovertemplate": "Attrition_Flag=Existing Customer<br>Card_Category=%{y}<extra></extra>",
         "legendgroup": "Existing Customer",
         "marker": {
          "color": "#ff7f0e",
          "pattern": {
           "shape": ""
          }
         },
         "name": "Existing Customer",
         "offsetgroup": "Existing Customer",
         "orientation": "v",
         "showlegend": true,
         "textposition": "auto",
         "type": "bar",
         "x": [
          "Blue",
          "Blue"
         ],
         "xaxis": "x",
         "y": [
          "Blue",
          "Blue"
         ],
         "yaxis": "y"
        },
        {
         "alignmentgroup": "True",
         "hovertemplate": "Attrition_Flag=Existing Customer<br>Card_Category=%{y}<extra></extra>",
         "legendgroup": "Existing Customer",
         "marker": {
          "color": "#ff7f0e",
          "pattern": {
           "shape": ""
          }
         },
         "name": "Existing Customer",
         "offsetgroup": "Existing Customer",
         "orientation": "v",
         "showlegend": false,
         "textposition": "auto",
         "type": "bar",
         "x": [
          "Gold",
          "Gold"
         ],
         "xaxis": "x2",
         "y": [
          "Gold",
          "Gold"
         ],
         "yaxis": "y2"
        },
        {
         "alignmentgroup": "True",
         "hovertemplate": "Attrition_Flag=Existing Customer<br>Card_Category=%{y}<extra></extra>",
         "legendgroup": "Existing Customer",
         "marker": {
          "color": "#ff7f0e",
          "pattern": {
           "shape": ""
          }
         },
         "name": "Existing Customer",
         "offsetgroup": "Existing Customer",
         "orientation": "v",
         "showlegend": false,
         "textposition": "auto",
         "type": "bar",
         "x": [
          "Platinum",
          "Platinum"
         ],
         "xaxis": "x3",
         "y": [
          "Platinum",
          "Platinum"
         ],
         "yaxis": "y3"
        },
        {
         "alignmentgroup": "True",
         "hovertemplate": "Attrition_Flag=Existing Customer<br>Card_Category=%{y}<extra></extra>",
         "legendgroup": "Existing Customer",
         "marker": {
          "color": "#ff7f0e",
          "pattern": {
           "shape": ""
          }
         },
         "name": "Existing Customer",
         "offsetgroup": "Existing Customer",
         "orientation": "v",
         "showlegend": false,
         "textposition": "auto",
         "type": "bar",
         "x": [
          "Silver",
          "Silver"
         ],
         "xaxis": "x4",
         "y": [
          "Silver",
          "Silver"
         ],
         "yaxis": "y4"
        }
       ],
       "layout": {
        "annotations": [
         {
          "font": {},
          "showarrow": false,
          "text": "Card_Category=Blue",
          "x": 0.1175,
          "xanchor": "center",
          "xref": "paper",
          "y": 1,
          "yanchor": "bottom",
          "yref": "paper"
         },
         {
          "font": {},
          "showarrow": false,
          "text": "Card_Category=Gold",
          "x": 0.3725,
          "xanchor": "center",
          "xref": "paper",
          "y": 1,
          "yanchor": "bottom",
          "yref": "paper"
         },
         {
          "font": {},
          "showarrow": false,
          "text": "Card_Category=Platinum",
          "x": 0.6275,
          "xanchor": "center",
          "xref": "paper",
          "y": 1,
          "yanchor": "bottom",
          "yref": "paper"
         },
         {
          "font": {},
          "showarrow": false,
          "text": "Card_Category=Silver",
          "x": 0.8824999999999998,
          "xanchor": "center",
          "xref": "paper",
          "y": 1,
          "yanchor": "bottom",
          "yref": "paper"
         }
        ],
        "barmode": "relative",
        "legend": {
         "title": {
          "text": "Attrition_Flag"
         },
         "tracegroupgap": 0
        },
        "margin": {
         "t": 60
        },
        "template": {
         "data": {
          "bar": [
           {
            "error_x": {
             "color": "#2a3f5f"
            },
            "error_y": {
             "color": "#2a3f5f"
            },
            "marker": {
             "line": {
              "color": "#E5ECF6",
              "width": 0.5
             },
             "pattern": {
              "fillmode": "overlay",
              "size": 10,
              "solidity": 0.2
             }
            },
            "type": "bar"
           }
          ],
          "barpolar": [
           {
            "marker": {
             "line": {
              "color": "#E5ECF6",
              "width": 0.5
             },
             "pattern": {
              "fillmode": "overlay",
              "size": 10,
              "solidity": 0.2
             }
            },
            "type": "barpolar"
           }
          ],
          "carpet": [
           {
            "aaxis": {
             "endlinecolor": "#2a3f5f",
             "gridcolor": "white",
             "linecolor": "white",
             "minorgridcolor": "white",
             "startlinecolor": "#2a3f5f"
            },
            "baxis": {
             "endlinecolor": "#2a3f5f",
             "gridcolor": "white",
             "linecolor": "white",
             "minorgridcolor": "white",
             "startlinecolor": "#2a3f5f"
            },
            "type": "carpet"
           }
          ],
          "choropleth": [
           {
            "colorbar": {
             "outlinewidth": 0,
             "ticks": ""
            },
            "type": "choropleth"
           }
          ],
          "contour": [
           {
            "colorbar": {
             "outlinewidth": 0,
             "ticks": ""
            },
            "colorscale": [
             [
              0,
              "#0d0887"
             ],
             [
              0.1111111111111111,
              "#46039f"
             ],
             [
              0.2222222222222222,
              "#7201a8"
             ],
             [
              0.3333333333333333,
              "#9c179e"
             ],
             [
              0.4444444444444444,
              "#bd3786"
             ],
             [
              0.5555555555555556,
              "#d8576b"
             ],
             [
              0.6666666666666666,
              "#ed7953"
             ],
             [
              0.7777777777777778,
              "#fb9f3a"
             ],
             [
              0.8888888888888888,
              "#fdca26"
             ],
             [
              1,
              "#f0f921"
             ]
            ],
            "type": "contour"
           }
          ],
          "contourcarpet": [
           {
            "colorbar": {
             "outlinewidth": 0,
             "ticks": ""
            },
            "type": "contourcarpet"
           }
          ],
          "heatmap": [
           {
            "colorbar": {
             "outlinewidth": 0,
             "ticks": ""
            },
            "colorscale": [
             [
              0,
              "#0d0887"
             ],
             [
              0.1111111111111111,
              "#46039f"
             ],
             [
              0.2222222222222222,
              "#7201a8"
             ],
             [
              0.3333333333333333,
              "#9c179e"
             ],
             [
              0.4444444444444444,
              "#bd3786"
             ],
             [
              0.5555555555555556,
              "#d8576b"
             ],
             [
              0.6666666666666666,
              "#ed7953"
             ],
             [
              0.7777777777777778,
              "#fb9f3a"
             ],
             [
              0.8888888888888888,
              "#fdca26"
             ],
             [
              1,
              "#f0f921"
             ]
            ],
            "type": "heatmap"
           }
          ],
          "heatmapgl": [
           {
            "colorbar": {
             "outlinewidth": 0,
             "ticks": ""
            },
            "colorscale": [
             [
              0,
              "#0d0887"
             ],
             [
              0.1111111111111111,
              "#46039f"
             ],
             [
              0.2222222222222222,
              "#7201a8"
             ],
             [
              0.3333333333333333,
              "#9c179e"
             ],
             [
              0.4444444444444444,
              "#bd3786"
             ],
             [
              0.5555555555555556,
              "#d8576b"
             ],
             [
              0.6666666666666666,
              "#ed7953"
             ],
             [
              0.7777777777777778,
              "#fb9f3a"
             ],
             [
              0.8888888888888888,
              "#fdca26"
             ],
             [
              1,
              "#f0f921"
             ]
            ],
            "type": "heatmapgl"
           }
          ],
          "histogram": [
           {
            "marker": {
             "pattern": {
              "fillmode": "overlay",
              "size": 10,
              "solidity": 0.2
             }
            },
            "type": "histogram"
           }
          ],
          "histogram2d": [
           {
            "colorbar": {
             "outlinewidth": 0,
             "ticks": ""
            },
            "colorscale": [
             [
              0,
              "#0d0887"
             ],
             [
              0.1111111111111111,
              "#46039f"
             ],
             [
              0.2222222222222222,
              "#7201a8"
             ],
             [
              0.3333333333333333,
              "#9c179e"
             ],
             [
              0.4444444444444444,
              "#bd3786"
             ],
             [
              0.5555555555555556,
              "#d8576b"
             ],
             [
              0.6666666666666666,
              "#ed7953"
             ],
             [
              0.7777777777777778,
              "#fb9f3a"
             ],
             [
              0.8888888888888888,
              "#fdca26"
             ],
             [
              1,
              "#f0f921"
             ]
            ],
            "type": "histogram2d"
           }
          ],
          "histogram2dcontour": [
           {
            "colorbar": {
             "outlinewidth": 0,
             "ticks": ""
            },
            "colorscale": [
             [
              0,
              "#0d0887"
             ],
             [
              0.1111111111111111,
              "#46039f"
             ],
             [
              0.2222222222222222,
              "#7201a8"
             ],
             [
              0.3333333333333333,
              "#9c179e"
             ],
             [
              0.4444444444444444,
              "#bd3786"
             ],
             [
              0.5555555555555556,
              "#d8576b"
             ],
             [
              0.6666666666666666,
              "#ed7953"
             ],
             [
              0.7777777777777778,
              "#fb9f3a"
             ],
             [
              0.8888888888888888,
              "#fdca26"
             ],
             [
              1,
              "#f0f921"
             ]
            ],
            "type": "histogram2dcontour"
           }
          ],
          "mesh3d": [
           {
            "colorbar": {
             "outlinewidth": 0,
             "ticks": ""
            },
            "type": "mesh3d"
           }
          ],
          "parcoords": [
           {
            "line": {
             "colorbar": {
              "outlinewidth": 0,
              "ticks": ""
             }
            },
            "type": "parcoords"
           }
          ],
          "pie": [
           {
            "automargin": true,
            "type": "pie"
           }
          ],
          "scatter": [
           {
            "fillpattern": {
             "fillmode": "overlay",
             "size": 10,
             "solidity": 0.2
            },
            "type": "scatter"
           }
          ],
          "scatter3d": [
           {
            "line": {
             "colorbar": {
              "outlinewidth": 0,
              "ticks": ""
             }
            },
            "marker": {
             "colorbar": {
              "outlinewidth": 0,
              "ticks": ""
             }
            },
            "type": "scatter3d"
           }
          ],
          "scattercarpet": [
           {
            "marker": {
             "colorbar": {
              "outlinewidth": 0,
              "ticks": ""
             }
            },
            "type": "scattercarpet"
           }
          ],
          "scattergeo": [
           {
            "marker": {
             "colorbar": {
              "outlinewidth": 0,
              "ticks": ""
             }
            },
            "type": "scattergeo"
           }
          ],
          "scattergl": [
           {
            "marker": {
             "colorbar": {
              "outlinewidth": 0,
              "ticks": ""
             }
            },
            "type": "scattergl"
           }
          ],
          "scattermapbox": [
           {
            "marker": {
             "colorbar": {
              "outlinewidth": 0,
              "ticks": ""
             }
            },
            "type": "scattermapbox"
           }
          ],
          "scatterpolar": [
           {
            "marker": {
             "colorbar": {
              "outlinewidth": 0,
              "ticks": ""
             }
            },
            "type": "scatterpolar"
           }
          ],
          "scatterpolargl": [
           {
            "marker": {
             "colorbar": {
              "outlinewidth": 0,
              "ticks": ""
             }
            },
            "type": "scatterpolargl"
           }
          ],
          "scatterternary": [
           {
            "marker": {
             "colorbar": {
              "outlinewidth": 0,
              "ticks": ""
             }
            },
            "type": "scatterternary"
           }
          ],
          "surface": [
           {
            "colorbar": {
             "outlinewidth": 0,
             "ticks": ""
            },
            "colorscale": [
             [
              0,
              "#0d0887"
             ],
             [
              0.1111111111111111,
              "#46039f"
             ],
             [
              0.2222222222222222,
              "#7201a8"
             ],
             [
              0.3333333333333333,
              "#9c179e"
             ],
             [
              0.4444444444444444,
              "#bd3786"
             ],
             [
              0.5555555555555556,
              "#d8576b"
             ],
             [
              0.6666666666666666,
              "#ed7953"
             ],
             [
              0.7777777777777778,
              "#fb9f3a"
             ],
             [
              0.8888888888888888,
              "#fdca26"
             ],
             [
              1,
              "#f0f921"
             ]
            ],
            "type": "surface"
           }
          ],
          "table": [
           {
            "cells": {
             "fill": {
              "color": "#EBF0F8"
             },
             "line": {
              "color": "white"
             }
            },
            "header": {
             "fill": {
              "color": "#C8D4E3"
             },
             "line": {
              "color": "white"
             }
            },
            "type": "table"
           }
          ]
         },
         "layout": {
          "annotationdefaults": {
           "arrowcolor": "#2a3f5f",
           "arrowhead": 0,
           "arrowwidth": 1
          },
          "autotypenumbers": "strict",
          "coloraxis": {
           "colorbar": {
            "outlinewidth": 0,
            "ticks": ""
           }
          },
          "colorscale": {
           "diverging": [
            [
             0,
             "#8e0152"
            ],
            [
             0.1,
             "#c51b7d"
            ],
            [
             0.2,
             "#de77ae"
            ],
            [
             0.3,
             "#f1b6da"
            ],
            [
             0.4,
             "#fde0ef"
            ],
            [
             0.5,
             "#f7f7f7"
            ],
            [
             0.6,
             "#e6f5d0"
            ],
            [
             0.7,
             "#b8e186"
            ],
            [
             0.8,
             "#7fbc41"
            ],
            [
             0.9,
             "#4d9221"
            ],
            [
             1,
             "#276419"
            ]
           ],
           "sequential": [
            [
             0,
             "#0d0887"
            ],
            [
             0.1111111111111111,
             "#46039f"
            ],
            [
             0.2222222222222222,
             "#7201a8"
            ],
            [
             0.3333333333333333,
             "#9c179e"
            ],
            [
             0.4444444444444444,
             "#bd3786"
            ],
            [
             0.5555555555555556,
             "#d8576b"
            ],
            [
             0.6666666666666666,
             "#ed7953"
            ],
            [
             0.7777777777777778,
             "#fb9f3a"
            ],
            [
             0.8888888888888888,
             "#fdca26"
            ],
            [
             1,
             "#f0f921"
            ]
           ],
           "sequentialminus": [
            [
             0,
             "#0d0887"
            ],
            [
             0.1111111111111111,
             "#46039f"
            ],
            [
             0.2222222222222222,
             "#7201a8"
            ],
            [
             0.3333333333333333,
             "#9c179e"
            ],
            [
             0.4444444444444444,
             "#bd3786"
            ],
            [
             0.5555555555555556,
             "#d8576b"
            ],
            [
             0.6666666666666666,
             "#ed7953"
            ],
            [
             0.7777777777777778,
             "#fb9f3a"
            ],
            [
             0.8888888888888888,
             "#fdca26"
            ],
            [
             1,
             "#f0f921"
            ]
           ]
          },
          "colorway": [
           "#636efa",
           "#EF553B",
           "#00cc96",
           "#ab63fa",
           "#FFA15A",
           "#19d3f3",
           "#FF6692",
           "#B6E880",
           "#FF97FF",
           "#FECB52"
          ],
          "font": {
           "color": "#2a3f5f"
          },
          "geo": {
           "bgcolor": "white",
           "lakecolor": "white",
           "landcolor": "#E5ECF6",
           "showlakes": true,
           "showland": true,
           "subunitcolor": "white"
          },
          "hoverlabel": {
           "align": "left"
          },
          "hovermode": "closest",
          "mapbox": {
           "style": "light"
          },
          "paper_bgcolor": "white",
          "plot_bgcolor": "#E5ECF6",
          "polar": {
           "angularaxis": {
            "gridcolor": "white",
            "linecolor": "white",
            "ticks": ""
           },
           "bgcolor": "#E5ECF6",
           "radialaxis": {
            "gridcolor": "white",
            "linecolor": "white",
            "ticks": ""
           }
          },
          "scene": {
           "xaxis": {
            "backgroundcolor": "#E5ECF6",
            "gridcolor": "white",
            "gridwidth": 2,
            "linecolor": "white",
            "showbackground": true,
            "ticks": "",
            "zerolinecolor": "white"
           },
           "yaxis": {
            "backgroundcolor": "#E5ECF6",
            "gridcolor": "white",
            "gridwidth": 2,
            "linecolor": "white",
            "showbackground": true,
            "ticks": "",
            "zerolinecolor": "white"
           },
           "zaxis": {
            "backgroundcolor": "#E5ECF6",
            "gridcolor": "white",
            "gridwidth": 2,
            "linecolor": "white",
            "showbackground": true,
            "ticks": "",
            "zerolinecolor": "white"
           }
          },
          "shapedefaults": {
           "line": {
            "color": "#2a3f5f"
           }
          },
          "ternary": {
           "aaxis": {
            "gridcolor": "white",
            "linecolor": "white",
            "ticks": ""
           },
           "baxis": {
            "gridcolor": "white",
            "linecolor": "white",
            "ticks": ""
           },
           "bgcolor": "#E5ECF6",
           "caxis": {
            "gridcolor": "white",
            "linecolor": "white",
            "ticks": ""
           }
          },
          "title": {
           "x": 0.05
          },
          "xaxis": {
           "automargin": true,
           "gridcolor": "white",
           "linecolor": "white",
           "ticks": "",
           "title": {
            "standoff": 15
           },
           "zerolinecolor": "white",
           "zerolinewidth": 2
          },
          "yaxis": {
           "automargin": true,
           "gridcolor": "white",
           "linecolor": "white",
           "ticks": "",
           "title": {
            "standoff": 15
           },
           "zerolinecolor": "white",
           "zerolinewidth": 2
          }
         }
        },
        "title": {
         "text": "Attrition by Card Category and Gender"
        },
        "xaxis": {
         "anchor": "y",
         "categoryarray": [
          "Blue",
          "Gold",
          "Platinum",
          "Silver"
         ],
         "categoryorder": "array",
         "domain": [
          0,
          0.235
         ],
         "title": {
          "text": "Card Category"
         }
        },
        "xaxis2": {
         "anchor": "y2",
         "categoryarray": [
          "Blue",
          "Gold",
          "Platinum",
          "Silver"
         ],
         "categoryorder": "array",
         "domain": [
          0.255,
          0.49
         ],
         "matches": "x",
         "title": {
          "text": "Card_Category"
         }
        },
        "xaxis3": {
         "anchor": "y3",
         "categoryarray": [
          "Blue",
          "Gold",
          "Platinum",
          "Silver"
         ],
         "categoryorder": "array",
         "domain": [
          0.51,
          0.745
         ],
         "matches": "x",
         "title": {
          "text": "Card_Category"
         }
        },
        "xaxis4": {
         "anchor": "y4",
         "categoryarray": [
          "Blue",
          "Gold",
          "Platinum",
          "Silver"
         ],
         "categoryorder": "array",
         "domain": [
          0.7649999999999999,
          0.9999999999999999
         ],
         "matches": "x",
         "title": {
          "text": "Card_Category"
         }
        },
        "yaxis": {
         "anchor": "x",
         "categoryarray": [
          "Silver",
          "Platinum",
          "Gold",
          "Blue"
         ],
         "categoryorder": "array",
         "domain": [
          0,
          1
         ],
         "title": {
          "text": "Count"
         }
        },
        "yaxis2": {
         "anchor": "x2",
         "domain": [
          0,
          1
         ],
         "matches": "y",
         "showticklabels": false
        },
        "yaxis3": {
         "anchor": "x3",
         "domain": [
          0,
          1
         ],
         "matches": "y",
         "showticklabels": false
        },
        "yaxis4": {
         "anchor": "x4",
         "domain": [
          0,
          1
         ],
         "matches": "y",
         "showticklabels": false
        }
       }
      }
     },
     "metadata": {},
     "output_type": "display_data"
    }
   ],
   "source": [
    "Income_group= cc_cust_data[cc_cust_data['Income_Category'] == 'Unknown']\n",
    "Income_group = Income_group.groupby(['Education_Level','Attrition_Flag', 'Gender']).size()\n",
    "\n",
    "\n",
    "custom_color_scale = ['#1f77b4', '#ff7f0e']\n",
    "\n",
    "fig = px.bar(gender_counts_by_category, x='Card_Category', y='Card_Category', color='Attrition_Flag', facet_col='Card_Category',\n",
    "             category_orders={'Gender': ['F', 'M']}, color_discrete_sequence=custom_color_scale)\n",
    "\n",
    "# Update layout for better visualization\n",
    "fig.update_layout(title_text='Attrition by Card Category and Gender',\n",
    "                  xaxis_title='Card Category',\n",
    "                  yaxis_title='Count')\n",
    "\n",
    "# Show the plot\n",
    "fig.show()\n",
    "\n",
    "\n",
    "\n",
    "\n",
    "\n",
    "# Display the plot\n",
    "plt.show()\n"
   ]
  },
  {
   "cell_type": "code",
   "execution_count": 58,
   "metadata": {},
   "outputs": [
    {
     "name": "stdout",
     "output_type": "stream",
     "text": [
      "Gender  Income_Category\n",
      "F       $40K - $60K        1014\n",
      "        Less than $40K     3284\n",
      "        Unknown            1060\n",
      "M       $120K +             727\n",
      "        $40K - $60K         776\n",
      "        $60K - $80K        1402\n",
      "        $80K - $120K       1535\n",
      "        Less than $40K      277\n",
      "        Unknown              52\n",
      "dtype: int64\n"
     ]
    }
   ],
   "source": [
    "income_category = cc_cust_data.groupby(['Gender', 'Income_Category']).size()\n",
    "print(income_category)"
   ]
  },
  {
   "cell_type": "code",
   "execution_count": 61,
   "metadata": {},
   "outputs": [
    {
     "data": {
      "application/vnd.plotly.v1+json": {
       "config": {
        "plotlyServerURL": "https://plot.ly"
       },
       "data": [
        {
         "hoverongaps": false,
         "type": "heatmap",
         "x": [
          "CLIENTNUM",
          "Customer_Age",
          "Dependent_count",
          "Months_on_book",
          "Total_Relationship_Count",
          "Months_Inactive_12_mon",
          "Contacts_Count_12_mon",
          "Credit_Limit",
          "Total_Revolving_Bal",
          "Avg_Open_To_Buy",
          "Total_Amt_Chng_Q4_Q1",
          "Total_Trans_Amt",
          "Total_Trans_Ct",
          "Total_Ct_Chng_Q4_Q1",
          "Avg_Utilization_Ratio"
         ],
         "y": [
          "CLIENTNUM",
          "Customer_Age",
          "Dependent_count",
          "Months_on_book",
          "Total_Relationship_Count",
          "Months_Inactive_12_mon",
          "Contacts_Count_12_mon",
          "Credit_Limit",
          "Total_Revolving_Bal",
          "Avg_Open_To_Buy",
          "Total_Amt_Chng_Q4_Q1",
          "Total_Trans_Amt",
          "Total_Trans_Ct",
          "Total_Ct_Chng_Q4_Q1",
          "Avg_Utilization_Ratio"
         ],
         "z": [
          [
           1,
           0.0076126511950067805,
           0.006771737176973264,
           0.13458783088757248,
           0.006906905114917449,
           0.005728527607458915,
           0.005694427757510852,
           0.0057076226605038,
           0.00082450409803636,
           0.00563250682915492,
           0.017369339875871324,
           -0.01969170879238515,
           -0.002961013052193392,
           0.007695575497010713,
           0.0002659599938485154
          ],
          [
           0.0076126511950067805,
           1,
           -0.12225375200525321,
           0.7889123589930508,
           -0.010931068804259482,
           0.054360998760120814,
           -0.0184518547587971,
           0.002476227359664691,
           0.014779894579644452,
           0.0011506778791898996,
           -0.06204209191981924,
           -0.04644649085469088,
           -0.06709686360086074,
           -0.012142548310869122,
           0.007114222226032007
          ],
          [
           0.006771737176973264,
           -0.12225375200525321,
           1,
           -0.10306228148764927,
           -0.03907638897966843,
           -0.01076791848095198,
           -0.04050495976228984,
           0.06806460020347013,
           -0.002688145858857811,
           0.06829130387444331,
           -0.03543942896257459,
           0.025046237587382482,
           0.0499124766384954,
           0.011087180902770234,
           -0.03713515854004745
          ],
          [
           0.13458783088757248,
           0.7889123589930508,
           -0.10306228148764927,
           1,
           -0.00920308023127444,
           0.07416351432950953,
           -0.010774478506729145,
           0.007507009229698237,
           0.008622804474098151,
           0.006732391627270253,
           -0.048959320126718116,
           -0.03859062947522644,
           -0.04981908353962511,
           -0.014071670900046846,
           -0.00754083697632563
          ],
          [
           0.006906905114917449,
           -0.010931068804259482,
           -0.03907638897966843,
           -0.00920308023127444,
           1,
           -0.003675376932207407,
           0.05520316331250555,
           -0.07138581742352747,
           0.013725848920523953,
           -0.07260136283372588,
           0.0501186436597206,
           -0.34722887963701443,
           -0.24189084971343594,
           0.04083114826057427,
           0.067662878041457
          ],
          [
           0.005728527607458915,
           0.054360998760120814,
           -0.01076791848095198,
           0.07416351432950953,
           -0.003675376932207407,
           1,
           0.029492910128659285,
           -0.02039379144345504,
           -0.04220960877980104,
           -0.01660538381048117,
           -0.03224671239481278,
           -0.03698242508478301,
           -0.04278703930774648,
           -0.03898933797671036,
           -0.0075026327688393415
          ],
          [
           0.005694427757510852,
           -0.0184518547587971,
           -0.04050495976228984,
           -0.010774478506729145,
           0.05520316331250555,
           0.029492910128659285,
           1,
           0.02081701171626793,
           -0.05391273122599859,
           0.02564596120868006,
           -0.024445115120385143,
           -0.11277392883883214,
           -0.15221260518404692,
           -0.09499691598377367,
           -0.05547128465245328
          ],
          [
           0.0057076226605038,
           0.002476227359664691,
           0.06806460020347013,
           0.007507009229698237,
           -0.07138581742352747,
           -0.02039379144345504,
           0.02081701171626793,
           1,
           0.04249260734895824,
           0.995980543932001,
           0.012812535653393454,
           0.17173015046794077,
           0.07592691199468905,
           -0.0020198499941714303,
           -0.4829650714174503
          ],
          [
           0.00082450409803636,
           0.014779894579644452,
           -0.002688145858857811,
           0.008622804474098151,
           0.013725848920523953,
           -0.04220960877980104,
           -0.05391273122599859,
           0.04249260734895824,
           1,
           -0.047167127943430955,
           0.05817366445423314,
           0.06437047704790985,
           0.056060493046322143,
           0.08986100776026948,
           0.6240219910059064
          ],
          [
           0.00563250682915492,
           0.0011506778791898996,
           0.06829130387444331,
           0.006732391627270253,
           -0.07260136283372588,
           -0.01660538381048117,
           0.02564596120868006,
           0.995980543932001,
           -0.047167127943430955,
           1,
           0.0075945291959918825,
           0.1659232284970104,
           0.07088510162623113,
           -0.010075538362497083,
           -0.5388077476174624
          ],
          [
           0.017369339875871324,
           -0.06204209191981924,
           -0.03543942896257459,
           -0.048959320126718116,
           0.0501186436597206,
           -0.03224671239481278,
           -0.024445115120385143,
           0.012812535653393454,
           0.05817366445423314,
           0.0075945291959918825,
           1,
           0.03967759237186188,
           0.005468567330772116,
           0.38418925603371645,
           0.03523483473073431
          ],
          [
           -0.01969170879238515,
           -0.04644649085469088,
           0.025046237587382482,
           -0.03859062947522644,
           -0.34722887963701443,
           -0.03698242508478301,
           -0.11277392883883214,
           0.17173015046794077,
           0.06437047704790985,
           0.1659232284970104,
           0.03967759237186188,
           1,
           0.8071920346514367,
           0.08558097602856081,
           -0.08303424588646034
          ],
          [
           -0.002961013052193392,
           -0.06709686360086074,
           0.0499124766384954,
           -0.04981908353962511,
           -0.24189084971343594,
           -0.04278703930774648,
           -0.15221260518404692,
           0.07592691199468905,
           0.056060493046322143,
           0.07088510162623113,
           0.005468567330772116,
           0.8071920346514367,
           1,
           0.11232443991563544,
           0.0028381122342156077
          ],
          [
           0.007695575497010713,
           -0.012142548310869122,
           0.011087180902770234,
           -0.014071670900046846,
           0.04083114826057427,
           -0.03898933797671036,
           -0.09499691598377367,
           -0.0020198499941714303,
           0.08986100776026948,
           -0.010075538362497083,
           0.38418925603371645,
           0.08558097602856081,
           0.11232443991563544,
           1,
           0.07414320991782065
          ],
          [
           0.0002659599938485154,
           0.007114222226032007,
           -0.03713515854004745,
           -0.00754083697632563,
           0.067662878041457,
           -0.0075026327688393415,
           -0.05547128465245328,
           -0.4829650714174503,
           0.6240219910059064,
           -0.5388077476174624,
           0.03523483473073431,
           -0.08303424588646034,
           0.0028381122342156077,
           0.07414320991782065,
           1
          ]
         ]
        }
       ],
       "layout": {
        "template": {
         "data": {
          "bar": [
           {
            "error_x": {
             "color": "#2a3f5f"
            },
            "error_y": {
             "color": "#2a3f5f"
            },
            "marker": {
             "line": {
              "color": "#E5ECF6",
              "width": 0.5
             },
             "pattern": {
              "fillmode": "overlay",
              "size": 10,
              "solidity": 0.2
             }
            },
            "type": "bar"
           }
          ],
          "barpolar": [
           {
            "marker": {
             "line": {
              "color": "#E5ECF6",
              "width": 0.5
             },
             "pattern": {
              "fillmode": "overlay",
              "size": 10,
              "solidity": 0.2
             }
            },
            "type": "barpolar"
           }
          ],
          "carpet": [
           {
            "aaxis": {
             "endlinecolor": "#2a3f5f",
             "gridcolor": "white",
             "linecolor": "white",
             "minorgridcolor": "white",
             "startlinecolor": "#2a3f5f"
            },
            "baxis": {
             "endlinecolor": "#2a3f5f",
             "gridcolor": "white",
             "linecolor": "white",
             "minorgridcolor": "white",
             "startlinecolor": "#2a3f5f"
            },
            "type": "carpet"
           }
          ],
          "choropleth": [
           {
            "colorbar": {
             "outlinewidth": 0,
             "ticks": ""
            },
            "type": "choropleth"
           }
          ],
          "contour": [
           {
            "colorbar": {
             "outlinewidth": 0,
             "ticks": ""
            },
            "colorscale": [
             [
              0,
              "#0d0887"
             ],
             [
              0.1111111111111111,
              "#46039f"
             ],
             [
              0.2222222222222222,
              "#7201a8"
             ],
             [
              0.3333333333333333,
              "#9c179e"
             ],
             [
              0.4444444444444444,
              "#bd3786"
             ],
             [
              0.5555555555555556,
              "#d8576b"
             ],
             [
              0.6666666666666666,
              "#ed7953"
             ],
             [
              0.7777777777777778,
              "#fb9f3a"
             ],
             [
              0.8888888888888888,
              "#fdca26"
             ],
             [
              1,
              "#f0f921"
             ]
            ],
            "type": "contour"
           }
          ],
          "contourcarpet": [
           {
            "colorbar": {
             "outlinewidth": 0,
             "ticks": ""
            },
            "type": "contourcarpet"
           }
          ],
          "heatmap": [
           {
            "colorbar": {
             "outlinewidth": 0,
             "ticks": ""
            },
            "colorscale": [
             [
              0,
              "#0d0887"
             ],
             [
              0.1111111111111111,
              "#46039f"
             ],
             [
              0.2222222222222222,
              "#7201a8"
             ],
             [
              0.3333333333333333,
              "#9c179e"
             ],
             [
              0.4444444444444444,
              "#bd3786"
             ],
             [
              0.5555555555555556,
              "#d8576b"
             ],
             [
              0.6666666666666666,
              "#ed7953"
             ],
             [
              0.7777777777777778,
              "#fb9f3a"
             ],
             [
              0.8888888888888888,
              "#fdca26"
             ],
             [
              1,
              "#f0f921"
             ]
            ],
            "type": "heatmap"
           }
          ],
          "heatmapgl": [
           {
            "colorbar": {
             "outlinewidth": 0,
             "ticks": ""
            },
            "colorscale": [
             [
              0,
              "#0d0887"
             ],
             [
              0.1111111111111111,
              "#46039f"
             ],
             [
              0.2222222222222222,
              "#7201a8"
             ],
             [
              0.3333333333333333,
              "#9c179e"
             ],
             [
              0.4444444444444444,
              "#bd3786"
             ],
             [
              0.5555555555555556,
              "#d8576b"
             ],
             [
              0.6666666666666666,
              "#ed7953"
             ],
             [
              0.7777777777777778,
              "#fb9f3a"
             ],
             [
              0.8888888888888888,
              "#fdca26"
             ],
             [
              1,
              "#f0f921"
             ]
            ],
            "type": "heatmapgl"
           }
          ],
          "histogram": [
           {
            "marker": {
             "pattern": {
              "fillmode": "overlay",
              "size": 10,
              "solidity": 0.2
             }
            },
            "type": "histogram"
           }
          ],
          "histogram2d": [
           {
            "colorbar": {
             "outlinewidth": 0,
             "ticks": ""
            },
            "colorscale": [
             [
              0,
              "#0d0887"
             ],
             [
              0.1111111111111111,
              "#46039f"
             ],
             [
              0.2222222222222222,
              "#7201a8"
             ],
             [
              0.3333333333333333,
              "#9c179e"
             ],
             [
              0.4444444444444444,
              "#bd3786"
             ],
             [
              0.5555555555555556,
              "#d8576b"
             ],
             [
              0.6666666666666666,
              "#ed7953"
             ],
             [
              0.7777777777777778,
              "#fb9f3a"
             ],
             [
              0.8888888888888888,
              "#fdca26"
             ],
             [
              1,
              "#f0f921"
             ]
            ],
            "type": "histogram2d"
           }
          ],
          "histogram2dcontour": [
           {
            "colorbar": {
             "outlinewidth": 0,
             "ticks": ""
            },
            "colorscale": [
             [
              0,
              "#0d0887"
             ],
             [
              0.1111111111111111,
              "#46039f"
             ],
             [
              0.2222222222222222,
              "#7201a8"
             ],
             [
              0.3333333333333333,
              "#9c179e"
             ],
             [
              0.4444444444444444,
              "#bd3786"
             ],
             [
              0.5555555555555556,
              "#d8576b"
             ],
             [
              0.6666666666666666,
              "#ed7953"
             ],
             [
              0.7777777777777778,
              "#fb9f3a"
             ],
             [
              0.8888888888888888,
              "#fdca26"
             ],
             [
              1,
              "#f0f921"
             ]
            ],
            "type": "histogram2dcontour"
           }
          ],
          "mesh3d": [
           {
            "colorbar": {
             "outlinewidth": 0,
             "ticks": ""
            },
            "type": "mesh3d"
           }
          ],
          "parcoords": [
           {
            "line": {
             "colorbar": {
              "outlinewidth": 0,
              "ticks": ""
             }
            },
            "type": "parcoords"
           }
          ],
          "pie": [
           {
            "automargin": true,
            "type": "pie"
           }
          ],
          "scatter": [
           {
            "fillpattern": {
             "fillmode": "overlay",
             "size": 10,
             "solidity": 0.2
            },
            "type": "scatter"
           }
          ],
          "scatter3d": [
           {
            "line": {
             "colorbar": {
              "outlinewidth": 0,
              "ticks": ""
             }
            },
            "marker": {
             "colorbar": {
              "outlinewidth": 0,
              "ticks": ""
             }
            },
            "type": "scatter3d"
           }
          ],
          "scattercarpet": [
           {
            "marker": {
             "colorbar": {
              "outlinewidth": 0,
              "ticks": ""
             }
            },
            "type": "scattercarpet"
           }
          ],
          "scattergeo": [
           {
            "marker": {
             "colorbar": {
              "outlinewidth": 0,
              "ticks": ""
             }
            },
            "type": "scattergeo"
           }
          ],
          "scattergl": [
           {
            "marker": {
             "colorbar": {
              "outlinewidth": 0,
              "ticks": ""
             }
            },
            "type": "scattergl"
           }
          ],
          "scattermapbox": [
           {
            "marker": {
             "colorbar": {
              "outlinewidth": 0,
              "ticks": ""
             }
            },
            "type": "scattermapbox"
           }
          ],
          "scatterpolar": [
           {
            "marker": {
             "colorbar": {
              "outlinewidth": 0,
              "ticks": ""
             }
            },
            "type": "scatterpolar"
           }
          ],
          "scatterpolargl": [
           {
            "marker": {
             "colorbar": {
              "outlinewidth": 0,
              "ticks": ""
             }
            },
            "type": "scatterpolargl"
           }
          ],
          "scatterternary": [
           {
            "marker": {
             "colorbar": {
              "outlinewidth": 0,
              "ticks": ""
             }
            },
            "type": "scatterternary"
           }
          ],
          "surface": [
           {
            "colorbar": {
             "outlinewidth": 0,
             "ticks": ""
            },
            "colorscale": [
             [
              0,
              "#0d0887"
             ],
             [
              0.1111111111111111,
              "#46039f"
             ],
             [
              0.2222222222222222,
              "#7201a8"
             ],
             [
              0.3333333333333333,
              "#9c179e"
             ],
             [
              0.4444444444444444,
              "#bd3786"
             ],
             [
              0.5555555555555556,
              "#d8576b"
             ],
             [
              0.6666666666666666,
              "#ed7953"
             ],
             [
              0.7777777777777778,
              "#fb9f3a"
             ],
             [
              0.8888888888888888,
              "#fdca26"
             ],
             [
              1,
              "#f0f921"
             ]
            ],
            "type": "surface"
           }
          ],
          "table": [
           {
            "cells": {
             "fill": {
              "color": "#EBF0F8"
             },
             "line": {
              "color": "white"
             }
            },
            "header": {
             "fill": {
              "color": "#C8D4E3"
             },
             "line": {
              "color": "white"
             }
            },
            "type": "table"
           }
          ]
         },
         "layout": {
          "annotationdefaults": {
           "arrowcolor": "#2a3f5f",
           "arrowhead": 0,
           "arrowwidth": 1
          },
          "autotypenumbers": "strict",
          "coloraxis": {
           "colorbar": {
            "outlinewidth": 0,
            "ticks": ""
           }
          },
          "colorscale": {
           "diverging": [
            [
             0,
             "#8e0152"
            ],
            [
             0.1,
             "#c51b7d"
            ],
            [
             0.2,
             "#de77ae"
            ],
            [
             0.3,
             "#f1b6da"
            ],
            [
             0.4,
             "#fde0ef"
            ],
            [
             0.5,
             "#f7f7f7"
            ],
            [
             0.6,
             "#e6f5d0"
            ],
            [
             0.7,
             "#b8e186"
            ],
            [
             0.8,
             "#7fbc41"
            ],
            [
             0.9,
             "#4d9221"
            ],
            [
             1,
             "#276419"
            ]
           ],
           "sequential": [
            [
             0,
             "#0d0887"
            ],
            [
             0.1111111111111111,
             "#46039f"
            ],
            [
             0.2222222222222222,
             "#7201a8"
            ],
            [
             0.3333333333333333,
             "#9c179e"
            ],
            [
             0.4444444444444444,
             "#bd3786"
            ],
            [
             0.5555555555555556,
             "#d8576b"
            ],
            [
             0.6666666666666666,
             "#ed7953"
            ],
            [
             0.7777777777777778,
             "#fb9f3a"
            ],
            [
             0.8888888888888888,
             "#fdca26"
            ],
            [
             1,
             "#f0f921"
            ]
           ],
           "sequentialminus": [
            [
             0,
             "#0d0887"
            ],
            [
             0.1111111111111111,
             "#46039f"
            ],
            [
             0.2222222222222222,
             "#7201a8"
            ],
            [
             0.3333333333333333,
             "#9c179e"
            ],
            [
             0.4444444444444444,
             "#bd3786"
            ],
            [
             0.5555555555555556,
             "#d8576b"
            ],
            [
             0.6666666666666666,
             "#ed7953"
            ],
            [
             0.7777777777777778,
             "#fb9f3a"
            ],
            [
             0.8888888888888888,
             "#fdca26"
            ],
            [
             1,
             "#f0f921"
            ]
           ]
          },
          "colorway": [
           "#636efa",
           "#EF553B",
           "#00cc96",
           "#ab63fa",
           "#FFA15A",
           "#19d3f3",
           "#FF6692",
           "#B6E880",
           "#FF97FF",
           "#FECB52"
          ],
          "font": {
           "color": "#2a3f5f"
          },
          "geo": {
           "bgcolor": "white",
           "lakecolor": "white",
           "landcolor": "#E5ECF6",
           "showlakes": true,
           "showland": true,
           "subunitcolor": "white"
          },
          "hoverlabel": {
           "align": "left"
          },
          "hovermode": "closest",
          "mapbox": {
           "style": "light"
          },
          "paper_bgcolor": "white",
          "plot_bgcolor": "#E5ECF6",
          "polar": {
           "angularaxis": {
            "gridcolor": "white",
            "linecolor": "white",
            "ticks": ""
           },
           "bgcolor": "#E5ECF6",
           "radialaxis": {
            "gridcolor": "white",
            "linecolor": "white",
            "ticks": ""
           }
          },
          "scene": {
           "xaxis": {
            "backgroundcolor": "#E5ECF6",
            "gridcolor": "white",
            "gridwidth": 2,
            "linecolor": "white",
            "showbackground": true,
            "ticks": "",
            "zerolinecolor": "white"
           },
           "yaxis": {
            "backgroundcolor": "#E5ECF6",
            "gridcolor": "white",
            "gridwidth": 2,
            "linecolor": "white",
            "showbackground": true,
            "ticks": "",
            "zerolinecolor": "white"
           },
           "zaxis": {
            "backgroundcolor": "#E5ECF6",
            "gridcolor": "white",
            "gridwidth": 2,
            "linecolor": "white",
            "showbackground": true,
            "ticks": "",
            "zerolinecolor": "white"
           }
          },
          "shapedefaults": {
           "line": {
            "color": "#2a3f5f"
           }
          },
          "ternary": {
           "aaxis": {
            "gridcolor": "white",
            "linecolor": "white",
            "ticks": ""
           },
           "baxis": {
            "gridcolor": "white",
            "linecolor": "white",
            "ticks": ""
           },
           "bgcolor": "#E5ECF6",
           "caxis": {
            "gridcolor": "white",
            "linecolor": "white",
            "ticks": ""
           }
          },
          "title": {
           "x": 0.05
          },
          "xaxis": {
           "automargin": true,
           "gridcolor": "white",
           "linecolor": "white",
           "ticks": "",
           "title": {
            "standoff": 15
           },
           "zerolinecolor": "white",
           "zerolinewidth": 2
          },
          "yaxis": {
           "automargin": true,
           "gridcolor": "white",
           "linecolor": "white",
           "ticks": "",
           "title": {
            "standoff": 15
           },
           "zerolinecolor": "white",
           "zerolinewidth": 2
          }
         }
        },
        "title": {
         "text": "Correlation Heatmap"
        }
       }
      }
     },
     "metadata": {},
     "output_type": "display_data"
    }
   ],
   "source": [
    "#Correlation Graph - Heat Map\n",
    "import plotly.graph_objects as go\n",
    "\n",
    "\n",
    "# Finding the correlation between variables with a heatmap\n",
    "\n",
    "x=list(cc_cust_data.corr().columns)\n",
    "y=list(cc_cust_data.corr().index)\n",
    "values=np.array(cc_cust_data.corr().values)\n",
    "fig = go.Figure(data=go.Heatmap(\n",
    "    z=values,\n",
    "    x=x,\n",
    "    y=y,hoverongaps = False))\n",
    "\n",
    "fig.update_layout(title='Correlation Heatmap')\n",
    "\n",
    "fig.show()"
   ]
  },
  {
   "cell_type": "code",
   "execution_count": 62,
   "metadata": {},
   "outputs": [
    {
     "data": {
      "application/vnd.plotly.v1+json": {
       "config": {
        "plotlyServerURL": "https://plot.ly"
       },
       "data": [
        {
         "marker": {
          "color": [
           1,
           0.0076126511950067805,
           0.006771737176973264,
           0.13458783088757248,
           0.006906905114917449,
           0.005728527607458915,
           0.005694427757510852,
           0.0057076226605038,
           0.00082450409803636,
           0.00563250682915492,
           0.017369339875871324,
           -0.01969170879238515,
           -0.002961013052193392,
           0.007695575497010713,
           0.0002659599938485154,
           0.0076126511950067805,
           1,
           -0.12225375200525321,
           0.7889123589930508,
           -0.010931068804259482,
           0.054360998760120814,
           -0.0184518547587971,
           0.002476227359664691,
           0.014779894579644452,
           0.0011506778791898996,
           -0.06204209191981924,
           -0.04644649085469088,
           -0.06709686360086074,
           -0.012142548310869122,
           0.007114222226032007,
           0.006771737176973264,
           -0.12225375200525321,
           1,
           -0.10306228148764927,
           -0.03907638897966843,
           -0.01076791848095198,
           -0.04050495976228984,
           0.06806460020347013,
           -0.002688145858857811,
           0.06829130387444331,
           -0.03543942896257459,
           0.025046237587382482,
           0.0499124766384954,
           0.011087180902770234,
           -0.03713515854004745,
           0.13458783088757248,
           0.7889123589930508,
           -0.10306228148764927,
           1,
           -0.00920308023127444,
           0.07416351432950953,
           -0.010774478506729145,
           0.007507009229698237,
           0.008622804474098151,
           0.006732391627270253,
           -0.048959320126718116,
           -0.03859062947522644,
           -0.04981908353962511,
           -0.014071670900046846,
           -0.00754083697632563,
           0.006906905114917449,
           -0.010931068804259482,
           -0.03907638897966843,
           -0.00920308023127444,
           1,
           -0.003675376932207407,
           0.05520316331250555,
           -0.07138581742352747,
           0.013725848920523953,
           -0.07260136283372588,
           0.0501186436597206,
           -0.34722887963701443,
           -0.24189084971343594,
           0.04083114826057427,
           0.067662878041457,
           0.005728527607458915,
           0.054360998760120814,
           -0.01076791848095198,
           0.07416351432950953,
           -0.003675376932207407,
           1,
           0.029492910128659285,
           -0.02039379144345504,
           -0.04220960877980104,
           -0.01660538381048117,
           -0.03224671239481278,
           -0.03698242508478301,
           -0.04278703930774648,
           -0.03898933797671036,
           -0.0075026327688393415,
           0.005694427757510852,
           -0.0184518547587971,
           -0.04050495976228984,
           -0.010774478506729145,
           0.05520316331250555,
           0.029492910128659285,
           1,
           0.02081701171626793,
           -0.05391273122599859,
           0.02564596120868006,
           -0.024445115120385143,
           -0.11277392883883214,
           -0.15221260518404692,
           -0.09499691598377367,
           -0.05547128465245328,
           0.0057076226605038,
           0.002476227359664691,
           0.06806460020347013,
           0.007507009229698237,
           -0.07138581742352747,
           -0.02039379144345504,
           0.02081701171626793,
           1,
           0.04249260734895824,
           0.995980543932001,
           0.012812535653393454,
           0.17173015046794077,
           0.07592691199468905,
           -0.0020198499941714303,
           -0.4829650714174503,
           0.00082450409803636,
           0.014779894579644452,
           -0.002688145858857811,
           0.008622804474098151,
           0.013725848920523953,
           -0.04220960877980104,
           -0.05391273122599859,
           0.04249260734895824,
           1,
           -0.047167127943430955,
           0.05817366445423314,
           0.06437047704790985,
           0.056060493046322143,
           0.08986100776026948,
           0.6240219910059064,
           0.00563250682915492,
           0.0011506778791898996,
           0.06829130387444331,
           0.006732391627270253,
           -0.07260136283372588,
           -0.01660538381048117,
           0.02564596120868006,
           0.995980543932001,
           -0.047167127943430955,
           1,
           0.0075945291959918825,
           0.1659232284970104,
           0.07088510162623113,
           -0.010075538362497083,
           -0.5388077476174624,
           0.017369339875871324,
           -0.06204209191981924,
           -0.03543942896257459,
           -0.048959320126718116,
           0.0501186436597206,
           -0.03224671239481278,
           -0.024445115120385143,
           0.012812535653393454,
           0.05817366445423314,
           0.0075945291959918825,
           1,
           0.03967759237186188,
           0.005468567330772116,
           0.38418925603371645,
           0.03523483473073431,
           -0.01969170879238515,
           -0.04644649085469088,
           0.025046237587382482,
           -0.03859062947522644,
           -0.34722887963701443,
           -0.03698242508478301,
           -0.11277392883883214,
           0.17173015046794077,
           0.06437047704790985,
           0.1659232284970104,
           0.03967759237186188,
           1,
           0.8071920346514367,
           0.08558097602856081,
           -0.08303424588646034,
           -0.002961013052193392,
           -0.06709686360086074,
           0.0499124766384954,
           -0.04981908353962511,
           -0.24189084971343594,
           -0.04278703930774648,
           -0.15221260518404692,
           0.07592691199468905,
           0.056060493046322143,
           0.07088510162623113,
           0.005468567330772116,
           0.8071920346514367,
           1,
           0.11232443991563544,
           0.0028381122342156077,
           0.007695575497010713,
           -0.012142548310869122,
           0.011087180902770234,
           -0.014071670900046846,
           0.04083114826057427,
           -0.03898933797671036,
           -0.09499691598377367,
           -0.0020198499941714303,
           0.08986100776026948,
           -0.010075538362497083,
           0.38418925603371645,
           0.08558097602856081,
           0.11232443991563544,
           1,
           0.07414320991782065,
           0.0002659599938485154,
           0.007114222226032007,
           -0.03713515854004745,
           -0.00754083697632563,
           0.067662878041457,
           -0.0075026327688393415,
           -0.05547128465245328,
           -0.4829650714174503,
           0.6240219910059064,
           -0.5388077476174624,
           0.03523483473073431,
           -0.08303424588646034,
           0.0028381122342156077,
           0.07414320991782065,
           1
          ],
          "colorscale": [
           [
            0,
            "#440154"
           ],
           [
            0.1111111111111111,
            "#482878"
           ],
           [
            0.2222222222222222,
            "#3e4989"
           ],
           [
            0.3333333333333333,
            "#31688e"
           ],
           [
            0.4444444444444444,
            "#26828e"
           ],
           [
            0.5555555555555556,
            "#1f9e89"
           ],
           [
            0.6666666666666666,
            "#35b779"
           ],
           [
            0.7777777777777778,
            "#6ece58"
           ],
           [
            0.8888888888888888,
            "#b5de2b"
           ],
           [
            1,
            "#fde725"
           ]
          ],
          "showscale": true,
          "size": 10
         },
         "mode": "markers",
         "type": "scatter",
         "x": [
          "CLIENTNUM",
          "Customer_Age",
          "Dependent_count",
          "Months_on_book",
          "Total_Relationship_Count",
          "Months_Inactive_12_mon",
          "Contacts_Count_12_mon",
          "Credit_Limit",
          "Total_Revolving_Bal",
          "Avg_Open_To_Buy",
          "Total_Amt_Chng_Q4_Q1",
          "Total_Trans_Amt",
          "Total_Trans_Ct",
          "Total_Ct_Chng_Q4_Q1",
          "Avg_Utilization_Ratio",
          "CLIENTNUM",
          "Customer_Age",
          "Dependent_count",
          "Months_on_book",
          "Total_Relationship_Count",
          "Months_Inactive_12_mon",
          "Contacts_Count_12_mon",
          "Credit_Limit",
          "Total_Revolving_Bal",
          "Avg_Open_To_Buy",
          "Total_Amt_Chng_Q4_Q1",
          "Total_Trans_Amt",
          "Total_Trans_Ct",
          "Total_Ct_Chng_Q4_Q1",
          "Avg_Utilization_Ratio",
          "CLIENTNUM",
          "Customer_Age",
          "Dependent_count",
          "Months_on_book",
          "Total_Relationship_Count",
          "Months_Inactive_12_mon",
          "Contacts_Count_12_mon",
          "Credit_Limit",
          "Total_Revolving_Bal",
          "Avg_Open_To_Buy",
          "Total_Amt_Chng_Q4_Q1",
          "Total_Trans_Amt",
          "Total_Trans_Ct",
          "Total_Ct_Chng_Q4_Q1",
          "Avg_Utilization_Ratio",
          "CLIENTNUM",
          "Customer_Age",
          "Dependent_count",
          "Months_on_book",
          "Total_Relationship_Count",
          "Months_Inactive_12_mon",
          "Contacts_Count_12_mon",
          "Credit_Limit",
          "Total_Revolving_Bal",
          "Avg_Open_To_Buy",
          "Total_Amt_Chng_Q4_Q1",
          "Total_Trans_Amt",
          "Total_Trans_Ct",
          "Total_Ct_Chng_Q4_Q1",
          "Avg_Utilization_Ratio",
          "CLIENTNUM",
          "Customer_Age",
          "Dependent_count",
          "Months_on_book",
          "Total_Relationship_Count",
          "Months_Inactive_12_mon",
          "Contacts_Count_12_mon",
          "Credit_Limit",
          "Total_Revolving_Bal",
          "Avg_Open_To_Buy",
          "Total_Amt_Chng_Q4_Q1",
          "Total_Trans_Amt",
          "Total_Trans_Ct",
          "Total_Ct_Chng_Q4_Q1",
          "Avg_Utilization_Ratio",
          "CLIENTNUM",
          "Customer_Age",
          "Dependent_count",
          "Months_on_book",
          "Total_Relationship_Count",
          "Months_Inactive_12_mon",
          "Contacts_Count_12_mon",
          "Credit_Limit",
          "Total_Revolving_Bal",
          "Avg_Open_To_Buy",
          "Total_Amt_Chng_Q4_Q1",
          "Total_Trans_Amt",
          "Total_Trans_Ct",
          "Total_Ct_Chng_Q4_Q1",
          "Avg_Utilization_Ratio",
          "CLIENTNUM",
          "Customer_Age",
          "Dependent_count",
          "Months_on_book",
          "Total_Relationship_Count",
          "Months_Inactive_12_mon",
          "Contacts_Count_12_mon",
          "Credit_Limit",
          "Total_Revolving_Bal",
          "Avg_Open_To_Buy",
          "Total_Amt_Chng_Q4_Q1",
          "Total_Trans_Amt",
          "Total_Trans_Ct",
          "Total_Ct_Chng_Q4_Q1",
          "Avg_Utilization_Ratio",
          "CLIENTNUM",
          "Customer_Age",
          "Dependent_count",
          "Months_on_book",
          "Total_Relationship_Count",
          "Months_Inactive_12_mon",
          "Contacts_Count_12_mon",
          "Credit_Limit",
          "Total_Revolving_Bal",
          "Avg_Open_To_Buy",
          "Total_Amt_Chng_Q4_Q1",
          "Total_Trans_Amt",
          "Total_Trans_Ct",
          "Total_Ct_Chng_Q4_Q1",
          "Avg_Utilization_Ratio",
          "CLIENTNUM",
          "Customer_Age",
          "Dependent_count",
          "Months_on_book",
          "Total_Relationship_Count",
          "Months_Inactive_12_mon",
          "Contacts_Count_12_mon",
          "Credit_Limit",
          "Total_Revolving_Bal",
          "Avg_Open_To_Buy",
          "Total_Amt_Chng_Q4_Q1",
          "Total_Trans_Amt",
          "Total_Trans_Ct",
          "Total_Ct_Chng_Q4_Q1",
          "Avg_Utilization_Ratio",
          "CLIENTNUM",
          "Customer_Age",
          "Dependent_count",
          "Months_on_book",
          "Total_Relationship_Count",
          "Months_Inactive_12_mon",
          "Contacts_Count_12_mon",
          "Credit_Limit",
          "Total_Revolving_Bal",
          "Avg_Open_To_Buy",
          "Total_Amt_Chng_Q4_Q1",
          "Total_Trans_Amt",
          "Total_Trans_Ct",
          "Total_Ct_Chng_Q4_Q1",
          "Avg_Utilization_Ratio",
          "CLIENTNUM",
          "Customer_Age",
          "Dependent_count",
          "Months_on_book",
          "Total_Relationship_Count",
          "Months_Inactive_12_mon",
          "Contacts_Count_12_mon",
          "Credit_Limit",
          "Total_Revolving_Bal",
          "Avg_Open_To_Buy",
          "Total_Amt_Chng_Q4_Q1",
          "Total_Trans_Amt",
          "Total_Trans_Ct",
          "Total_Ct_Chng_Q4_Q1",
          "Avg_Utilization_Ratio",
          "CLIENTNUM",
          "Customer_Age",
          "Dependent_count",
          "Months_on_book",
          "Total_Relationship_Count",
          "Months_Inactive_12_mon",
          "Contacts_Count_12_mon",
          "Credit_Limit",
          "Total_Revolving_Bal",
          "Avg_Open_To_Buy",
          "Total_Amt_Chng_Q4_Q1",
          "Total_Trans_Amt",
          "Total_Trans_Ct",
          "Total_Ct_Chng_Q4_Q1",
          "Avg_Utilization_Ratio",
          "CLIENTNUM",
          "Customer_Age",
          "Dependent_count",
          "Months_on_book",
          "Total_Relationship_Count",
          "Months_Inactive_12_mon",
          "Contacts_Count_12_mon",
          "Credit_Limit",
          "Total_Revolving_Bal",
          "Avg_Open_To_Buy",
          "Total_Amt_Chng_Q4_Q1",
          "Total_Trans_Amt",
          "Total_Trans_Ct",
          "Total_Ct_Chng_Q4_Q1",
          "Avg_Utilization_Ratio",
          "CLIENTNUM",
          "Customer_Age",
          "Dependent_count",
          "Months_on_book",
          "Total_Relationship_Count",
          "Months_Inactive_12_mon",
          "Contacts_Count_12_mon",
          "Credit_Limit",
          "Total_Revolving_Bal",
          "Avg_Open_To_Buy",
          "Total_Amt_Chng_Q4_Q1",
          "Total_Trans_Amt",
          "Total_Trans_Ct",
          "Total_Ct_Chng_Q4_Q1",
          "Avg_Utilization_Ratio",
          "CLIENTNUM",
          "Customer_Age",
          "Dependent_count",
          "Months_on_book",
          "Total_Relationship_Count",
          "Months_Inactive_12_mon",
          "Contacts_Count_12_mon",
          "Credit_Limit",
          "Total_Revolving_Bal",
          "Avg_Open_To_Buy",
          "Total_Amt_Chng_Q4_Q1",
          "Total_Trans_Amt",
          "Total_Trans_Ct",
          "Total_Ct_Chng_Q4_Q1",
          "Avg_Utilization_Ratio"
         ],
         "y": [
          "CLIENTNUM",
          "CLIENTNUM",
          "CLIENTNUM",
          "CLIENTNUM",
          "CLIENTNUM",
          "CLIENTNUM",
          "CLIENTNUM",
          "CLIENTNUM",
          "CLIENTNUM",
          "CLIENTNUM",
          "CLIENTNUM",
          "CLIENTNUM",
          "CLIENTNUM",
          "CLIENTNUM",
          "CLIENTNUM",
          "Customer_Age",
          "Customer_Age",
          "Customer_Age",
          "Customer_Age",
          "Customer_Age",
          "Customer_Age",
          "Customer_Age",
          "Customer_Age",
          "Customer_Age",
          "Customer_Age",
          "Customer_Age",
          "Customer_Age",
          "Customer_Age",
          "Customer_Age",
          "Customer_Age",
          "Dependent_count",
          "Dependent_count",
          "Dependent_count",
          "Dependent_count",
          "Dependent_count",
          "Dependent_count",
          "Dependent_count",
          "Dependent_count",
          "Dependent_count",
          "Dependent_count",
          "Dependent_count",
          "Dependent_count",
          "Dependent_count",
          "Dependent_count",
          "Dependent_count",
          "Months_on_book",
          "Months_on_book",
          "Months_on_book",
          "Months_on_book",
          "Months_on_book",
          "Months_on_book",
          "Months_on_book",
          "Months_on_book",
          "Months_on_book",
          "Months_on_book",
          "Months_on_book",
          "Months_on_book",
          "Months_on_book",
          "Months_on_book",
          "Months_on_book",
          "Total_Relationship_Count",
          "Total_Relationship_Count",
          "Total_Relationship_Count",
          "Total_Relationship_Count",
          "Total_Relationship_Count",
          "Total_Relationship_Count",
          "Total_Relationship_Count",
          "Total_Relationship_Count",
          "Total_Relationship_Count",
          "Total_Relationship_Count",
          "Total_Relationship_Count",
          "Total_Relationship_Count",
          "Total_Relationship_Count",
          "Total_Relationship_Count",
          "Total_Relationship_Count",
          "Months_Inactive_12_mon",
          "Months_Inactive_12_mon",
          "Months_Inactive_12_mon",
          "Months_Inactive_12_mon",
          "Months_Inactive_12_mon",
          "Months_Inactive_12_mon",
          "Months_Inactive_12_mon",
          "Months_Inactive_12_mon",
          "Months_Inactive_12_mon",
          "Months_Inactive_12_mon",
          "Months_Inactive_12_mon",
          "Months_Inactive_12_mon",
          "Months_Inactive_12_mon",
          "Months_Inactive_12_mon",
          "Months_Inactive_12_mon",
          "Contacts_Count_12_mon",
          "Contacts_Count_12_mon",
          "Contacts_Count_12_mon",
          "Contacts_Count_12_mon",
          "Contacts_Count_12_mon",
          "Contacts_Count_12_mon",
          "Contacts_Count_12_mon",
          "Contacts_Count_12_mon",
          "Contacts_Count_12_mon",
          "Contacts_Count_12_mon",
          "Contacts_Count_12_mon",
          "Contacts_Count_12_mon",
          "Contacts_Count_12_mon",
          "Contacts_Count_12_mon",
          "Contacts_Count_12_mon",
          "Credit_Limit",
          "Credit_Limit",
          "Credit_Limit",
          "Credit_Limit",
          "Credit_Limit",
          "Credit_Limit",
          "Credit_Limit",
          "Credit_Limit",
          "Credit_Limit",
          "Credit_Limit",
          "Credit_Limit",
          "Credit_Limit",
          "Credit_Limit",
          "Credit_Limit",
          "Credit_Limit",
          "Total_Revolving_Bal",
          "Total_Revolving_Bal",
          "Total_Revolving_Bal",
          "Total_Revolving_Bal",
          "Total_Revolving_Bal",
          "Total_Revolving_Bal",
          "Total_Revolving_Bal",
          "Total_Revolving_Bal",
          "Total_Revolving_Bal",
          "Total_Revolving_Bal",
          "Total_Revolving_Bal",
          "Total_Revolving_Bal",
          "Total_Revolving_Bal",
          "Total_Revolving_Bal",
          "Total_Revolving_Bal",
          "Avg_Open_To_Buy",
          "Avg_Open_To_Buy",
          "Avg_Open_To_Buy",
          "Avg_Open_To_Buy",
          "Avg_Open_To_Buy",
          "Avg_Open_To_Buy",
          "Avg_Open_To_Buy",
          "Avg_Open_To_Buy",
          "Avg_Open_To_Buy",
          "Avg_Open_To_Buy",
          "Avg_Open_To_Buy",
          "Avg_Open_To_Buy",
          "Avg_Open_To_Buy",
          "Avg_Open_To_Buy",
          "Avg_Open_To_Buy",
          "Total_Amt_Chng_Q4_Q1",
          "Total_Amt_Chng_Q4_Q1",
          "Total_Amt_Chng_Q4_Q1",
          "Total_Amt_Chng_Q4_Q1",
          "Total_Amt_Chng_Q4_Q1",
          "Total_Amt_Chng_Q4_Q1",
          "Total_Amt_Chng_Q4_Q1",
          "Total_Amt_Chng_Q4_Q1",
          "Total_Amt_Chng_Q4_Q1",
          "Total_Amt_Chng_Q4_Q1",
          "Total_Amt_Chng_Q4_Q1",
          "Total_Amt_Chng_Q4_Q1",
          "Total_Amt_Chng_Q4_Q1",
          "Total_Amt_Chng_Q4_Q1",
          "Total_Amt_Chng_Q4_Q1",
          "Total_Trans_Amt",
          "Total_Trans_Amt",
          "Total_Trans_Amt",
          "Total_Trans_Amt",
          "Total_Trans_Amt",
          "Total_Trans_Amt",
          "Total_Trans_Amt",
          "Total_Trans_Amt",
          "Total_Trans_Amt",
          "Total_Trans_Amt",
          "Total_Trans_Amt",
          "Total_Trans_Amt",
          "Total_Trans_Amt",
          "Total_Trans_Amt",
          "Total_Trans_Amt",
          "Total_Trans_Ct",
          "Total_Trans_Ct",
          "Total_Trans_Ct",
          "Total_Trans_Ct",
          "Total_Trans_Ct",
          "Total_Trans_Ct",
          "Total_Trans_Ct",
          "Total_Trans_Ct",
          "Total_Trans_Ct",
          "Total_Trans_Ct",
          "Total_Trans_Ct",
          "Total_Trans_Ct",
          "Total_Trans_Ct",
          "Total_Trans_Ct",
          "Total_Trans_Ct",
          "Total_Ct_Chng_Q4_Q1",
          "Total_Ct_Chng_Q4_Q1",
          "Total_Ct_Chng_Q4_Q1",
          "Total_Ct_Chng_Q4_Q1",
          "Total_Ct_Chng_Q4_Q1",
          "Total_Ct_Chng_Q4_Q1",
          "Total_Ct_Chng_Q4_Q1",
          "Total_Ct_Chng_Q4_Q1",
          "Total_Ct_Chng_Q4_Q1",
          "Total_Ct_Chng_Q4_Q1",
          "Total_Ct_Chng_Q4_Q1",
          "Total_Ct_Chng_Q4_Q1",
          "Total_Ct_Chng_Q4_Q1",
          "Total_Ct_Chng_Q4_Q1",
          "Total_Ct_Chng_Q4_Q1",
          "Avg_Utilization_Ratio",
          "Avg_Utilization_Ratio",
          "Avg_Utilization_Ratio",
          "Avg_Utilization_Ratio",
          "Avg_Utilization_Ratio",
          "Avg_Utilization_Ratio",
          "Avg_Utilization_Ratio",
          "Avg_Utilization_Ratio",
          "Avg_Utilization_Ratio",
          "Avg_Utilization_Ratio",
          "Avg_Utilization_Ratio",
          "Avg_Utilization_Ratio",
          "Avg_Utilization_Ratio",
          "Avg_Utilization_Ratio",
          "Avg_Utilization_Ratio"
         ]
        }
       ],
       "layout": {
        "template": {
         "data": {
          "bar": [
           {
            "error_x": {
             "color": "#2a3f5f"
            },
            "error_y": {
             "color": "#2a3f5f"
            },
            "marker": {
             "line": {
              "color": "#E5ECF6",
              "width": 0.5
             },
             "pattern": {
              "fillmode": "overlay",
              "size": 10,
              "solidity": 0.2
             }
            },
            "type": "bar"
           }
          ],
          "barpolar": [
           {
            "marker": {
             "line": {
              "color": "#E5ECF6",
              "width": 0.5
             },
             "pattern": {
              "fillmode": "overlay",
              "size": 10,
              "solidity": 0.2
             }
            },
            "type": "barpolar"
           }
          ],
          "carpet": [
           {
            "aaxis": {
             "endlinecolor": "#2a3f5f",
             "gridcolor": "white",
             "linecolor": "white",
             "minorgridcolor": "white",
             "startlinecolor": "#2a3f5f"
            },
            "baxis": {
             "endlinecolor": "#2a3f5f",
             "gridcolor": "white",
             "linecolor": "white",
             "minorgridcolor": "white",
             "startlinecolor": "#2a3f5f"
            },
            "type": "carpet"
           }
          ],
          "choropleth": [
           {
            "colorbar": {
             "outlinewidth": 0,
             "ticks": ""
            },
            "type": "choropleth"
           }
          ],
          "contour": [
           {
            "colorbar": {
             "outlinewidth": 0,
             "ticks": ""
            },
            "colorscale": [
             [
              0,
              "#0d0887"
             ],
             [
              0.1111111111111111,
              "#46039f"
             ],
             [
              0.2222222222222222,
              "#7201a8"
             ],
             [
              0.3333333333333333,
              "#9c179e"
             ],
             [
              0.4444444444444444,
              "#bd3786"
             ],
             [
              0.5555555555555556,
              "#d8576b"
             ],
             [
              0.6666666666666666,
              "#ed7953"
             ],
             [
              0.7777777777777778,
              "#fb9f3a"
             ],
             [
              0.8888888888888888,
              "#fdca26"
             ],
             [
              1,
              "#f0f921"
             ]
            ],
            "type": "contour"
           }
          ],
          "contourcarpet": [
           {
            "colorbar": {
             "outlinewidth": 0,
             "ticks": ""
            },
            "type": "contourcarpet"
           }
          ],
          "heatmap": [
           {
            "colorbar": {
             "outlinewidth": 0,
             "ticks": ""
            },
            "colorscale": [
             [
              0,
              "#0d0887"
             ],
             [
              0.1111111111111111,
              "#46039f"
             ],
             [
              0.2222222222222222,
              "#7201a8"
             ],
             [
              0.3333333333333333,
              "#9c179e"
             ],
             [
              0.4444444444444444,
              "#bd3786"
             ],
             [
              0.5555555555555556,
              "#d8576b"
             ],
             [
              0.6666666666666666,
              "#ed7953"
             ],
             [
              0.7777777777777778,
              "#fb9f3a"
             ],
             [
              0.8888888888888888,
              "#fdca26"
             ],
             [
              1,
              "#f0f921"
             ]
            ],
            "type": "heatmap"
           }
          ],
          "heatmapgl": [
           {
            "colorbar": {
             "outlinewidth": 0,
             "ticks": ""
            },
            "colorscale": [
             [
              0,
              "#0d0887"
             ],
             [
              0.1111111111111111,
              "#46039f"
             ],
             [
              0.2222222222222222,
              "#7201a8"
             ],
             [
              0.3333333333333333,
              "#9c179e"
             ],
             [
              0.4444444444444444,
              "#bd3786"
             ],
             [
              0.5555555555555556,
              "#d8576b"
             ],
             [
              0.6666666666666666,
              "#ed7953"
             ],
             [
              0.7777777777777778,
              "#fb9f3a"
             ],
             [
              0.8888888888888888,
              "#fdca26"
             ],
             [
              1,
              "#f0f921"
             ]
            ],
            "type": "heatmapgl"
           }
          ],
          "histogram": [
           {
            "marker": {
             "pattern": {
              "fillmode": "overlay",
              "size": 10,
              "solidity": 0.2
             }
            },
            "type": "histogram"
           }
          ],
          "histogram2d": [
           {
            "colorbar": {
             "outlinewidth": 0,
             "ticks": ""
            },
            "colorscale": [
             [
              0,
              "#0d0887"
             ],
             [
              0.1111111111111111,
              "#46039f"
             ],
             [
              0.2222222222222222,
              "#7201a8"
             ],
             [
              0.3333333333333333,
              "#9c179e"
             ],
             [
              0.4444444444444444,
              "#bd3786"
             ],
             [
              0.5555555555555556,
              "#d8576b"
             ],
             [
              0.6666666666666666,
              "#ed7953"
             ],
             [
              0.7777777777777778,
              "#fb9f3a"
             ],
             [
              0.8888888888888888,
              "#fdca26"
             ],
             [
              1,
              "#f0f921"
             ]
            ],
            "type": "histogram2d"
           }
          ],
          "histogram2dcontour": [
           {
            "colorbar": {
             "outlinewidth": 0,
             "ticks": ""
            },
            "colorscale": [
             [
              0,
              "#0d0887"
             ],
             [
              0.1111111111111111,
              "#46039f"
             ],
             [
              0.2222222222222222,
              "#7201a8"
             ],
             [
              0.3333333333333333,
              "#9c179e"
             ],
             [
              0.4444444444444444,
              "#bd3786"
             ],
             [
              0.5555555555555556,
              "#d8576b"
             ],
             [
              0.6666666666666666,
              "#ed7953"
             ],
             [
              0.7777777777777778,
              "#fb9f3a"
             ],
             [
              0.8888888888888888,
              "#fdca26"
             ],
             [
              1,
              "#f0f921"
             ]
            ],
            "type": "histogram2dcontour"
           }
          ],
          "mesh3d": [
           {
            "colorbar": {
             "outlinewidth": 0,
             "ticks": ""
            },
            "type": "mesh3d"
           }
          ],
          "parcoords": [
           {
            "line": {
             "colorbar": {
              "outlinewidth": 0,
              "ticks": ""
             }
            },
            "type": "parcoords"
           }
          ],
          "pie": [
           {
            "automargin": true,
            "type": "pie"
           }
          ],
          "scatter": [
           {
            "fillpattern": {
             "fillmode": "overlay",
             "size": 10,
             "solidity": 0.2
            },
            "type": "scatter"
           }
          ],
          "scatter3d": [
           {
            "line": {
             "colorbar": {
              "outlinewidth": 0,
              "ticks": ""
             }
            },
            "marker": {
             "colorbar": {
              "outlinewidth": 0,
              "ticks": ""
             }
            },
            "type": "scatter3d"
           }
          ],
          "scattercarpet": [
           {
            "marker": {
             "colorbar": {
              "outlinewidth": 0,
              "ticks": ""
             }
            },
            "type": "scattercarpet"
           }
          ],
          "scattergeo": [
           {
            "marker": {
             "colorbar": {
              "outlinewidth": 0,
              "ticks": ""
             }
            },
            "type": "scattergeo"
           }
          ],
          "scattergl": [
           {
            "marker": {
             "colorbar": {
              "outlinewidth": 0,
              "ticks": ""
             }
            },
            "type": "scattergl"
           }
          ],
          "scattermapbox": [
           {
            "marker": {
             "colorbar": {
              "outlinewidth": 0,
              "ticks": ""
             }
            },
            "type": "scattermapbox"
           }
          ],
          "scatterpolar": [
           {
            "marker": {
             "colorbar": {
              "outlinewidth": 0,
              "ticks": ""
             }
            },
            "type": "scatterpolar"
           }
          ],
          "scatterpolargl": [
           {
            "marker": {
             "colorbar": {
              "outlinewidth": 0,
              "ticks": ""
             }
            },
            "type": "scatterpolargl"
           }
          ],
          "scatterternary": [
           {
            "marker": {
             "colorbar": {
              "outlinewidth": 0,
              "ticks": ""
             }
            },
            "type": "scatterternary"
           }
          ],
          "surface": [
           {
            "colorbar": {
             "outlinewidth": 0,
             "ticks": ""
            },
            "colorscale": [
             [
              0,
              "#0d0887"
             ],
             [
              0.1111111111111111,
              "#46039f"
             ],
             [
              0.2222222222222222,
              "#7201a8"
             ],
             [
              0.3333333333333333,
              "#9c179e"
             ],
             [
              0.4444444444444444,
              "#bd3786"
             ],
             [
              0.5555555555555556,
              "#d8576b"
             ],
             [
              0.6666666666666666,
              "#ed7953"
             ],
             [
              0.7777777777777778,
              "#fb9f3a"
             ],
             [
              0.8888888888888888,
              "#fdca26"
             ],
             [
              1,
              "#f0f921"
             ]
            ],
            "type": "surface"
           }
          ],
          "table": [
           {
            "cells": {
             "fill": {
              "color": "#EBF0F8"
             },
             "line": {
              "color": "white"
             }
            },
            "header": {
             "fill": {
              "color": "#C8D4E3"
             },
             "line": {
              "color": "white"
             }
            },
            "type": "table"
           }
          ]
         },
         "layout": {
          "annotationdefaults": {
           "arrowcolor": "#2a3f5f",
           "arrowhead": 0,
           "arrowwidth": 1
          },
          "autotypenumbers": "strict",
          "coloraxis": {
           "colorbar": {
            "outlinewidth": 0,
            "ticks": ""
           }
          },
          "colorscale": {
           "diverging": [
            [
             0,
             "#8e0152"
            ],
            [
             0.1,
             "#c51b7d"
            ],
            [
             0.2,
             "#de77ae"
            ],
            [
             0.3,
             "#f1b6da"
            ],
            [
             0.4,
             "#fde0ef"
            ],
            [
             0.5,
             "#f7f7f7"
            ],
            [
             0.6,
             "#e6f5d0"
            ],
            [
             0.7,
             "#b8e186"
            ],
            [
             0.8,
             "#7fbc41"
            ],
            [
             0.9,
             "#4d9221"
            ],
            [
             1,
             "#276419"
            ]
           ],
           "sequential": [
            [
             0,
             "#0d0887"
            ],
            [
             0.1111111111111111,
             "#46039f"
            ],
            [
             0.2222222222222222,
             "#7201a8"
            ],
            [
             0.3333333333333333,
             "#9c179e"
            ],
            [
             0.4444444444444444,
             "#bd3786"
            ],
            [
             0.5555555555555556,
             "#d8576b"
            ],
            [
             0.6666666666666666,
             "#ed7953"
            ],
            [
             0.7777777777777778,
             "#fb9f3a"
            ],
            [
             0.8888888888888888,
             "#fdca26"
            ],
            [
             1,
             "#f0f921"
            ]
           ],
           "sequentialminus": [
            [
             0,
             "#0d0887"
            ],
            [
             0.1111111111111111,
             "#46039f"
            ],
            [
             0.2222222222222222,
             "#7201a8"
            ],
            [
             0.3333333333333333,
             "#9c179e"
            ],
            [
             0.4444444444444444,
             "#bd3786"
            ],
            [
             0.5555555555555556,
             "#d8576b"
            ],
            [
             0.6666666666666666,
             "#ed7953"
            ],
            [
             0.7777777777777778,
             "#fb9f3a"
            ],
            [
             0.8888888888888888,
             "#fdca26"
            ],
            [
             1,
             "#f0f921"
            ]
           ]
          },
          "colorway": [
           "#636efa",
           "#EF553B",
           "#00cc96",
           "#ab63fa",
           "#FFA15A",
           "#19d3f3",
           "#FF6692",
           "#B6E880",
           "#FF97FF",
           "#FECB52"
          ],
          "font": {
           "color": "#2a3f5f"
          },
          "geo": {
           "bgcolor": "white",
           "lakecolor": "white",
           "landcolor": "#E5ECF6",
           "showlakes": true,
           "showland": true,
           "subunitcolor": "white"
          },
          "hoverlabel": {
           "align": "left"
          },
          "hovermode": "closest",
          "mapbox": {
           "style": "light"
          },
          "paper_bgcolor": "white",
          "plot_bgcolor": "#E5ECF6",
          "polar": {
           "angularaxis": {
            "gridcolor": "white",
            "linecolor": "white",
            "ticks": ""
           },
           "bgcolor": "#E5ECF6",
           "radialaxis": {
            "gridcolor": "white",
            "linecolor": "white",
            "ticks": ""
           }
          },
          "scene": {
           "xaxis": {
            "backgroundcolor": "#E5ECF6",
            "gridcolor": "white",
            "gridwidth": 2,
            "linecolor": "white",
            "showbackground": true,
            "ticks": "",
            "zerolinecolor": "white"
           },
           "yaxis": {
            "backgroundcolor": "#E5ECF6",
            "gridcolor": "white",
            "gridwidth": 2,
            "linecolor": "white",
            "showbackground": true,
            "ticks": "",
            "zerolinecolor": "white"
           },
           "zaxis": {
            "backgroundcolor": "#E5ECF6",
            "gridcolor": "white",
            "gridwidth": 2,
            "linecolor": "white",
            "showbackground": true,
            "ticks": "",
            "zerolinecolor": "white"
           }
          },
          "shapedefaults": {
           "line": {
            "color": "#2a3f5f"
           }
          },
          "ternary": {
           "aaxis": {
            "gridcolor": "white",
            "linecolor": "white",
            "ticks": ""
           },
           "baxis": {
            "gridcolor": "white",
            "linecolor": "white",
            "ticks": ""
           },
           "bgcolor": "#E5ECF6",
           "caxis": {
            "gridcolor": "white",
            "linecolor": "white",
            "ticks": ""
           }
          },
          "title": {
           "x": 0.05
          },
          "xaxis": {
           "automargin": true,
           "gridcolor": "white",
           "linecolor": "white",
           "ticks": "",
           "title": {
            "standoff": 15
           },
           "zerolinecolor": "white",
           "zerolinewidth": 2
          },
          "yaxis": {
           "automargin": true,
           "gridcolor": "white",
           "linecolor": "white",
           "ticks": "",
           "title": {
            "standoff": 15
           },
           "zerolinecolor": "white",
           "zerolinewidth": 2
          }
         }
        },
        "title": {
         "text": "Correlation Scatter Plot"
        },
        "xaxis": {
         "ticktext": [
          "CLIENTNUM",
          "Customer_Age",
          "Dependent_count",
          "Months_on_book",
          "Total_Relationship_Count",
          "Months_Inactive_12_mon",
          "Contacts_Count_12_mon",
          "Credit_Limit",
          "Total_Revolving_Bal",
          "Avg_Open_To_Buy",
          "Total_Amt_Chng_Q4_Q1",
          "Total_Trans_Amt",
          "Total_Trans_Ct",
          "Total_Ct_Chng_Q4_Q1",
          "Avg_Utilization_Ratio"
         ],
         "tickvals": [
          0,
          1,
          2,
          3,
          4,
          5,
          6,
          7,
          8,
          9,
          10,
          11,
          12,
          13,
          14
         ],
         "title": {
          "text": "X Variables"
         }
        },
        "yaxis": {
         "ticktext": [
          "CLIENTNUM",
          "Customer_Age",
          "Dependent_count",
          "Months_on_book",
          "Total_Relationship_Count",
          "Months_Inactive_12_mon",
          "Contacts_Count_12_mon",
          "Credit_Limit",
          "Total_Revolving_Bal",
          "Avg_Open_To_Buy",
          "Total_Amt_Chng_Q4_Q1",
          "Total_Trans_Amt",
          "Total_Trans_Ct",
          "Total_Ct_Chng_Q4_Q1",
          "Avg_Utilization_Ratio"
         ],
         "tickvals": [
          0,
          1,
          2,
          3,
          4,
          5,
          6,
          7,
          8,
          9,
          10,
          11,
          12,
          13,
          14
         ],
         "title": {
          "text": "Y Variables"
         }
        }
       }
      }
     },
     "metadata": {},
     "output_type": "display_data"
    }
   ],
   "source": [
    "# Correlation Graph - Scatter Plot\n",
    "fig = go.Figure(data=go.Scatter(\n",
    "    x=np.tile(x, len(y)),\n",
    "    y=np.repeat(y, len(x)),\n",
    "    mode='markers',\n",
    "    marker=dict(\n",
    "        color=values.flatten(),\n",
    "        colorscale='Viridis',\n",
    "        size=10,\n",
    "        showscale=True\n",
    "    )\n",
    "))\n",
    "\n",
    "fig.update_layout(\n",
    "    title='Correlation Scatter Plot',\n",
    "    xaxis=dict(tickvals=list(range(len(x))), ticktext=x, title='X Variables'),\n",
    "    yaxis=dict(tickvals=list(range(len(y))), ticktext=y, title='Y Variables')\n",
    ")\n",
    "\n",
    "fig.show()"
   ]
  },
  {
   "cell_type": "markdown",
   "metadata": {},
   "source": [
    "Correlation:\n",
    "\n",
    "Customer Age and Months on Book\n",
    "Total Revolving Balance andAverage Utilization Ration = 0.624\n",
    "\n",
    "Based on the varoius variables there's certain demographics that stick out. The goal for this analysis is customer churn for the credit card company; I split it into Income Categories, Age, Gender and Education Level. We discovered that the groups that are more likely to attrit are Females with a 2.75% higher then mens. As well as individuals in the income bracket of $120,000 and more, followed by the lowest income group which was individuals who make less than \\$40,000."
   ]
  }
 ],
 "metadata": {
  "kernelspec": {
   "display_name": "Python 3",
   "language": "python",
   "name": "python3"
  },
  "language_info": {
   "codemirror_mode": {
    "name": "ipython",
    "version": 3
   },
   "file_extension": ".py",
   "mimetype": "text/x-python",
   "name": "python",
   "nbconvert_exporter": "python",
   "pygments_lexer": "ipython3",
   "version": "3.11.3"
  },
  "orig_nbformat": 4
 },
 "nbformat": 4,
 "nbformat_minor": 2
}
